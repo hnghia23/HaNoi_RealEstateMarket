{
 "cells": [
  {
   "cell_type": "markdown",
   "metadata": {},
   "source": [
    "Đọc dữ liệu từ file "
   ]
  },
  {
   "cell_type": "code",
   "execution_count": 1,
   "metadata": {},
   "outputs": [
    {
     "data": {
      "text/html": [
       "<div>\n",
       "<style scoped>\n",
       "    .dataframe tbody tr th:only-of-type {\n",
       "        vertical-align: middle;\n",
       "    }\n",
       "\n",
       "    .dataframe tbody tr th {\n",
       "        vertical-align: top;\n",
       "    }\n",
       "\n",
       "    .dataframe thead th {\n",
       "        text-align: right;\n",
       "    }\n",
       "</style>\n",
       "<table border=\"1\" class=\"dataframe\">\n",
       "  <thead>\n",
       "    <tr style=\"text-align: right;\">\n",
       "      <th></th>\n",
       "      <th>Link</th>\n",
       "      <th>Giá tổng</th>\n",
       "      <th>Giá/m²</th>\n",
       "      <th>Số phòng ngủ</th>\n",
       "      <th>Số phòng vệ sinh</th>\n",
       "      <th>Giấy tờ pháp lý</th>\n",
       "      <th>Loại hình căn hộ</th>\n",
       "      <th>Diện tích</th>\n",
       "      <th>Hướng cửa chính</th>\n",
       "      <th>Hướng ban công</th>\n",
       "      <th>Tình trạng nội thất</th>\n",
       "      <th>Xã/Phường</th>\n",
       "      <th>Quận/Huyện</th>\n",
       "    </tr>\n",
       "  </thead>\n",
       "  <tbody>\n",
       "    <tr>\n",
       "      <th>0</th>\n",
       "      <td>https://www.nhatot.com/mua-ban-can-ho-chung-cu...</td>\n",
       "      <td>3.28</td>\n",
       "      <td>50.46</td>\n",
       "      <td>2</td>\n",
       "      <td>2</td>\n",
       "      <td>Sổ hồng riêng</td>\n",
       "      <td>Tập thể</td>\n",
       "      <td>65.0</td>\n",
       "      <td>NaN</td>\n",
       "      <td>NaN</td>\n",
       "      <td>Nội thất đầy đủ</td>\n",
       "      <td>Ngọc Khánh</td>\n",
       "      <td>Ba Đình</td>\n",
       "    </tr>\n",
       "    <tr>\n",
       "      <th>1</th>\n",
       "      <td>https://www.nhatot.com/mua-ban-can-ho-chung-cu...</td>\n",
       "      <td>1.65</td>\n",
       "      <td>33.00</td>\n",
       "      <td>2</td>\n",
       "      <td>1</td>\n",
       "      <td>Sổ hồng riêng</td>\n",
       "      <td>Chung cư</td>\n",
       "      <td>50.0</td>\n",
       "      <td>NaN</td>\n",
       "      <td>NaN</td>\n",
       "      <td>Nội thất cao cấp</td>\n",
       "      <td>Quang Trung</td>\n",
       "      <td>Đống Đa</td>\n",
       "    </tr>\n",
       "    <tr>\n",
       "      <th>2</th>\n",
       "      <td>https://www.nhatot.com/mua-ban-can-ho-chung-cu...</td>\n",
       "      <td>2.86</td>\n",
       "      <td>42.06</td>\n",
       "      <td>2</td>\n",
       "      <td>1</td>\n",
       "      <td>Sổ hồng riêng</td>\n",
       "      <td>Tập thể</td>\n",
       "      <td>68.0</td>\n",
       "      <td>NaN</td>\n",
       "      <td>NaN</td>\n",
       "      <td>Nội thất đầy đủ</td>\n",
       "      <td>Thanh Xuân Bắc</td>\n",
       "      <td>Thanh Xuân</td>\n",
       "    </tr>\n",
       "    <tr>\n",
       "      <th>3</th>\n",
       "      <td>https://www.nhatot.com/mua-ban-can-ho-chung-cu...</td>\n",
       "      <td>1.86</td>\n",
       "      <td>33.82</td>\n",
       "      <td>2</td>\n",
       "      <td>1</td>\n",
       "      <td>Sổ hồng riêng</td>\n",
       "      <td>Chung cư mini</td>\n",
       "      <td>55.0</td>\n",
       "      <td>NaN</td>\n",
       "      <td>NaN</td>\n",
       "      <td>Hoàn thiện cơ bản</td>\n",
       "      <td>Nhân Chính</td>\n",
       "      <td>Thanh Xuân</td>\n",
       "    </tr>\n",
       "    <tr>\n",
       "      <th>4</th>\n",
       "      <td>https://www.nhatot.com/mua-ban-can-ho-chung-cu...</td>\n",
       "      <td>2.50</td>\n",
       "      <td>41.67</td>\n",
       "      <td>2</td>\n",
       "      <td>1</td>\n",
       "      <td>Sổ hồng riêng</td>\n",
       "      <td>Chung cư</td>\n",
       "      <td>60.0</td>\n",
       "      <td>NaN</td>\n",
       "      <td>NaN</td>\n",
       "      <td>Nội thất đầy đủ</td>\n",
       "      <td>Trâu Quỳ</td>\n",
       "      <td>Gia Lâm</td>\n",
       "    </tr>\n",
       "  </tbody>\n",
       "</table>\n",
       "</div>"
      ],
      "text/plain": [
       "                                                Link  Giá tổng  Giá/m²  \\\n",
       "0  https://www.nhatot.com/mua-ban-can-ho-chung-cu...      3.28   50.46   \n",
       "1  https://www.nhatot.com/mua-ban-can-ho-chung-cu...      1.65   33.00   \n",
       "2  https://www.nhatot.com/mua-ban-can-ho-chung-cu...      2.86   42.06   \n",
       "3  https://www.nhatot.com/mua-ban-can-ho-chung-cu...      1.86   33.82   \n",
       "4  https://www.nhatot.com/mua-ban-can-ho-chung-cu...      2.50   41.67   \n",
       "\n",
       "   Số phòng ngủ  Số phòng vệ sinh Giấy tờ pháp lý Loại hình căn hộ  Diện tích  \\\n",
       "0             2                 2   Sổ hồng riêng          Tập thể       65.0   \n",
       "1             2                 1   Sổ hồng riêng         Chung cư       50.0   \n",
       "2             2                 1   Sổ hồng riêng          Tập thể       68.0   \n",
       "3             2                 1   Sổ hồng riêng    Chung cư mini       55.0   \n",
       "4             2                 1   Sổ hồng riêng         Chung cư       60.0   \n",
       "\n",
       "  Hướng cửa chính Hướng ban công Tình trạng nội thất       Xã/Phường  \\\n",
       "0             NaN            NaN     Nội thất đầy đủ      Ngọc Khánh   \n",
       "1             NaN            NaN    Nội thất cao cấp     Quang Trung   \n",
       "2             NaN            NaN     Nội thất đầy đủ  Thanh Xuân Bắc   \n",
       "3             NaN            NaN   Hoàn thiện cơ bản      Nhân Chính   \n",
       "4             NaN            NaN     Nội thất đầy đủ        Trâu Quỳ   \n",
       "\n",
       "   Quận/Huyện  \n",
       "0     Ba Đình  \n",
       "1     Đống Đa  \n",
       "2  Thanh Xuân  \n",
       "3  Thanh Xuân  \n",
       "4     Gia Lâm  "
      ]
     },
     "execution_count": 1,
     "metadata": {},
     "output_type": "execute_result"
    }
   ],
   "source": [
    "import pandas as pd   \n",
    "\n",
    "df = pd.read_csv('data_proccessed/chungcu_preprocess.csv')\n",
    "df.head()"
   ]
  },
  {
   "cell_type": "code",
   "execution_count": 3,
   "metadata": {},
   "outputs": [
    {
     "data": {
      "application/vnd.plotly.v1+json": {
       "config": {
        "plotlyServerURL": "https://plot.ly"
       },
       "data": [
        {
         "domain": {
          "x": [
           0,
           1
          ],
          "y": [
           0,
           1
          ]
         },
         "hovertemplate": "Loại hình căn hộ=%{label}<br>Số lượng=%{value}<extra></extra>",
         "labels": [
          "Chung cư",
          "Tập thể",
          "Chung cư mini",
          "Duplex",
          "Officetel",
          "Penthouse"
         ],
         "legendgroup": "",
         "name": "",
         "showlegend": true,
         "textinfo": "percent+label",
         "textposition": "inside",
         "type": "pie",
         "values": [
          1757,
          313,
          171,
          8,
          8,
          6
         ]
        }
       ],
       "layout": {
        "legend": {
         "tracegroupgap": 0
        },
        "piecolorway": [
         "rgb(103,0,31)",
         "rgb(178,24,43)",
         "rgb(214,96,77)",
         "rgb(244,165,130)",
         "rgb(253,219,199)",
         "rgb(247,247,247)",
         "rgb(209,229,240)",
         "rgb(146,197,222)",
         "rgb(67,147,195)",
         "rgb(33,102,172)",
         "rgb(5,48,97)"
        ],
        "template": {
         "data": {
          "bar": [
           {
            "error_x": {
             "color": "#2a3f5f"
            },
            "error_y": {
             "color": "#2a3f5f"
            },
            "marker": {
             "line": {
              "color": "#E5ECF6",
              "width": 0.5
             },
             "pattern": {
              "fillmode": "overlay",
              "size": 10,
              "solidity": 0.2
             }
            },
            "type": "bar"
           }
          ],
          "barpolar": [
           {
            "marker": {
             "line": {
              "color": "#E5ECF6",
              "width": 0.5
             },
             "pattern": {
              "fillmode": "overlay",
              "size": 10,
              "solidity": 0.2
             }
            },
            "type": "barpolar"
           }
          ],
          "carpet": [
           {
            "aaxis": {
             "endlinecolor": "#2a3f5f",
             "gridcolor": "white",
             "linecolor": "white",
             "minorgridcolor": "white",
             "startlinecolor": "#2a3f5f"
            },
            "baxis": {
             "endlinecolor": "#2a3f5f",
             "gridcolor": "white",
             "linecolor": "white",
             "minorgridcolor": "white",
             "startlinecolor": "#2a3f5f"
            },
            "type": "carpet"
           }
          ],
          "choropleth": [
           {
            "colorbar": {
             "outlinewidth": 0,
             "ticks": ""
            },
            "type": "choropleth"
           }
          ],
          "contour": [
           {
            "colorbar": {
             "outlinewidth": 0,
             "ticks": ""
            },
            "colorscale": [
             [
              0,
              "#0d0887"
             ],
             [
              0.1111111111111111,
              "#46039f"
             ],
             [
              0.2222222222222222,
              "#7201a8"
             ],
             [
              0.3333333333333333,
              "#9c179e"
             ],
             [
              0.4444444444444444,
              "#bd3786"
             ],
             [
              0.5555555555555556,
              "#d8576b"
             ],
             [
              0.6666666666666666,
              "#ed7953"
             ],
             [
              0.7777777777777778,
              "#fb9f3a"
             ],
             [
              0.8888888888888888,
              "#fdca26"
             ],
             [
              1,
              "#f0f921"
             ]
            ],
            "type": "contour"
           }
          ],
          "contourcarpet": [
           {
            "colorbar": {
             "outlinewidth": 0,
             "ticks": ""
            },
            "type": "contourcarpet"
           }
          ],
          "heatmap": [
           {
            "colorbar": {
             "outlinewidth": 0,
             "ticks": ""
            },
            "colorscale": [
             [
              0,
              "#0d0887"
             ],
             [
              0.1111111111111111,
              "#46039f"
             ],
             [
              0.2222222222222222,
              "#7201a8"
             ],
             [
              0.3333333333333333,
              "#9c179e"
             ],
             [
              0.4444444444444444,
              "#bd3786"
             ],
             [
              0.5555555555555556,
              "#d8576b"
             ],
             [
              0.6666666666666666,
              "#ed7953"
             ],
             [
              0.7777777777777778,
              "#fb9f3a"
             ],
             [
              0.8888888888888888,
              "#fdca26"
             ],
             [
              1,
              "#f0f921"
             ]
            ],
            "type": "heatmap"
           }
          ],
          "heatmapgl": [
           {
            "colorbar": {
             "outlinewidth": 0,
             "ticks": ""
            },
            "colorscale": [
             [
              0,
              "#0d0887"
             ],
             [
              0.1111111111111111,
              "#46039f"
             ],
             [
              0.2222222222222222,
              "#7201a8"
             ],
             [
              0.3333333333333333,
              "#9c179e"
             ],
             [
              0.4444444444444444,
              "#bd3786"
             ],
             [
              0.5555555555555556,
              "#d8576b"
             ],
             [
              0.6666666666666666,
              "#ed7953"
             ],
             [
              0.7777777777777778,
              "#fb9f3a"
             ],
             [
              0.8888888888888888,
              "#fdca26"
             ],
             [
              1,
              "#f0f921"
             ]
            ],
            "type": "heatmapgl"
           }
          ],
          "histogram": [
           {
            "marker": {
             "pattern": {
              "fillmode": "overlay",
              "size": 10,
              "solidity": 0.2
             }
            },
            "type": "histogram"
           }
          ],
          "histogram2d": [
           {
            "colorbar": {
             "outlinewidth": 0,
             "ticks": ""
            },
            "colorscale": [
             [
              0,
              "#0d0887"
             ],
             [
              0.1111111111111111,
              "#46039f"
             ],
             [
              0.2222222222222222,
              "#7201a8"
             ],
             [
              0.3333333333333333,
              "#9c179e"
             ],
             [
              0.4444444444444444,
              "#bd3786"
             ],
             [
              0.5555555555555556,
              "#d8576b"
             ],
             [
              0.6666666666666666,
              "#ed7953"
             ],
             [
              0.7777777777777778,
              "#fb9f3a"
             ],
             [
              0.8888888888888888,
              "#fdca26"
             ],
             [
              1,
              "#f0f921"
             ]
            ],
            "type": "histogram2d"
           }
          ],
          "histogram2dcontour": [
           {
            "colorbar": {
             "outlinewidth": 0,
             "ticks": ""
            },
            "colorscale": [
             [
              0,
              "#0d0887"
             ],
             [
              0.1111111111111111,
              "#46039f"
             ],
             [
              0.2222222222222222,
              "#7201a8"
             ],
             [
              0.3333333333333333,
              "#9c179e"
             ],
             [
              0.4444444444444444,
              "#bd3786"
             ],
             [
              0.5555555555555556,
              "#d8576b"
             ],
             [
              0.6666666666666666,
              "#ed7953"
             ],
             [
              0.7777777777777778,
              "#fb9f3a"
             ],
             [
              0.8888888888888888,
              "#fdca26"
             ],
             [
              1,
              "#f0f921"
             ]
            ],
            "type": "histogram2dcontour"
           }
          ],
          "mesh3d": [
           {
            "colorbar": {
             "outlinewidth": 0,
             "ticks": ""
            },
            "type": "mesh3d"
           }
          ],
          "parcoords": [
           {
            "line": {
             "colorbar": {
              "outlinewidth": 0,
              "ticks": ""
             }
            },
            "type": "parcoords"
           }
          ],
          "pie": [
           {
            "automargin": true,
            "type": "pie"
           }
          ],
          "scatter": [
           {
            "fillpattern": {
             "fillmode": "overlay",
             "size": 10,
             "solidity": 0.2
            },
            "type": "scatter"
           }
          ],
          "scatter3d": [
           {
            "line": {
             "colorbar": {
              "outlinewidth": 0,
              "ticks": ""
             }
            },
            "marker": {
             "colorbar": {
              "outlinewidth": 0,
              "ticks": ""
             }
            },
            "type": "scatter3d"
           }
          ],
          "scattercarpet": [
           {
            "marker": {
             "colorbar": {
              "outlinewidth": 0,
              "ticks": ""
             }
            },
            "type": "scattercarpet"
           }
          ],
          "scattergeo": [
           {
            "marker": {
             "colorbar": {
              "outlinewidth": 0,
              "ticks": ""
             }
            },
            "type": "scattergeo"
           }
          ],
          "scattergl": [
           {
            "marker": {
             "colorbar": {
              "outlinewidth": 0,
              "ticks": ""
             }
            },
            "type": "scattergl"
           }
          ],
          "scattermapbox": [
           {
            "marker": {
             "colorbar": {
              "outlinewidth": 0,
              "ticks": ""
             }
            },
            "type": "scattermapbox"
           }
          ],
          "scatterpolar": [
           {
            "marker": {
             "colorbar": {
              "outlinewidth": 0,
              "ticks": ""
             }
            },
            "type": "scatterpolar"
           }
          ],
          "scatterpolargl": [
           {
            "marker": {
             "colorbar": {
              "outlinewidth": 0,
              "ticks": ""
             }
            },
            "type": "scatterpolargl"
           }
          ],
          "scatterternary": [
           {
            "marker": {
             "colorbar": {
              "outlinewidth": 0,
              "ticks": ""
             }
            },
            "type": "scatterternary"
           }
          ],
          "surface": [
           {
            "colorbar": {
             "outlinewidth": 0,
             "ticks": ""
            },
            "colorscale": [
             [
              0,
              "#0d0887"
             ],
             [
              0.1111111111111111,
              "#46039f"
             ],
             [
              0.2222222222222222,
              "#7201a8"
             ],
             [
              0.3333333333333333,
              "#9c179e"
             ],
             [
              0.4444444444444444,
              "#bd3786"
             ],
             [
              0.5555555555555556,
              "#d8576b"
             ],
             [
              0.6666666666666666,
              "#ed7953"
             ],
             [
              0.7777777777777778,
              "#fb9f3a"
             ],
             [
              0.8888888888888888,
              "#fdca26"
             ],
             [
              1,
              "#f0f921"
             ]
            ],
            "type": "surface"
           }
          ],
          "table": [
           {
            "cells": {
             "fill": {
              "color": "#EBF0F8"
             },
             "line": {
              "color": "white"
             }
            },
            "header": {
             "fill": {
              "color": "#C8D4E3"
             },
             "line": {
              "color": "white"
             }
            },
            "type": "table"
           }
          ]
         },
         "layout": {
          "annotationdefaults": {
           "arrowcolor": "#2a3f5f",
           "arrowhead": 0,
           "arrowwidth": 1
          },
          "autotypenumbers": "strict",
          "coloraxis": {
           "colorbar": {
            "outlinewidth": 0,
            "ticks": ""
           }
          },
          "colorscale": {
           "diverging": [
            [
             0,
             "#8e0152"
            ],
            [
             0.1,
             "#c51b7d"
            ],
            [
             0.2,
             "#de77ae"
            ],
            [
             0.3,
             "#f1b6da"
            ],
            [
             0.4,
             "#fde0ef"
            ],
            [
             0.5,
             "#f7f7f7"
            ],
            [
             0.6,
             "#e6f5d0"
            ],
            [
             0.7,
             "#b8e186"
            ],
            [
             0.8,
             "#7fbc41"
            ],
            [
             0.9,
             "#4d9221"
            ],
            [
             1,
             "#276419"
            ]
           ],
           "sequential": [
            [
             0,
             "#0d0887"
            ],
            [
             0.1111111111111111,
             "#46039f"
            ],
            [
             0.2222222222222222,
             "#7201a8"
            ],
            [
             0.3333333333333333,
             "#9c179e"
            ],
            [
             0.4444444444444444,
             "#bd3786"
            ],
            [
             0.5555555555555556,
             "#d8576b"
            ],
            [
             0.6666666666666666,
             "#ed7953"
            ],
            [
             0.7777777777777778,
             "#fb9f3a"
            ],
            [
             0.8888888888888888,
             "#fdca26"
            ],
            [
             1,
             "#f0f921"
            ]
           ],
           "sequentialminus": [
            [
             0,
             "#0d0887"
            ],
            [
             0.1111111111111111,
             "#46039f"
            ],
            [
             0.2222222222222222,
             "#7201a8"
            ],
            [
             0.3333333333333333,
             "#9c179e"
            ],
            [
             0.4444444444444444,
             "#bd3786"
            ],
            [
             0.5555555555555556,
             "#d8576b"
            ],
            [
             0.6666666666666666,
             "#ed7953"
            ],
            [
             0.7777777777777778,
             "#fb9f3a"
            ],
            [
             0.8888888888888888,
             "#fdca26"
            ],
            [
             1,
             "#f0f921"
            ]
           ]
          },
          "colorway": [
           "#636efa",
           "#EF553B",
           "#00cc96",
           "#ab63fa",
           "#FFA15A",
           "#19d3f3",
           "#FF6692",
           "#B6E880",
           "#FF97FF",
           "#FECB52"
          ],
          "font": {
           "color": "#2a3f5f"
          },
          "geo": {
           "bgcolor": "white",
           "lakecolor": "white",
           "landcolor": "#E5ECF6",
           "showlakes": true,
           "showland": true,
           "subunitcolor": "white"
          },
          "hoverlabel": {
           "align": "left"
          },
          "hovermode": "closest",
          "mapbox": {
           "style": "light"
          },
          "paper_bgcolor": "white",
          "plot_bgcolor": "#E5ECF6",
          "polar": {
           "angularaxis": {
            "gridcolor": "white",
            "linecolor": "white",
            "ticks": ""
           },
           "bgcolor": "#E5ECF6",
           "radialaxis": {
            "gridcolor": "white",
            "linecolor": "white",
            "ticks": ""
           }
          },
          "scene": {
           "xaxis": {
            "backgroundcolor": "#E5ECF6",
            "gridcolor": "white",
            "gridwidth": 2,
            "linecolor": "white",
            "showbackground": true,
            "ticks": "",
            "zerolinecolor": "white"
           },
           "yaxis": {
            "backgroundcolor": "#E5ECF6",
            "gridcolor": "white",
            "gridwidth": 2,
            "linecolor": "white",
            "showbackground": true,
            "ticks": "",
            "zerolinecolor": "white"
           },
           "zaxis": {
            "backgroundcolor": "#E5ECF6",
            "gridcolor": "white",
            "gridwidth": 2,
            "linecolor": "white",
            "showbackground": true,
            "ticks": "",
            "zerolinecolor": "white"
           }
          },
          "shapedefaults": {
           "line": {
            "color": "#2a3f5f"
           }
          },
          "ternary": {
           "aaxis": {
            "gridcolor": "white",
            "linecolor": "white",
            "ticks": ""
           },
           "baxis": {
            "gridcolor": "white",
            "linecolor": "white",
            "ticks": ""
           },
           "bgcolor": "#E5ECF6",
           "caxis": {
            "gridcolor": "white",
            "linecolor": "white",
            "ticks": ""
           }
          },
          "title": {
           "x": 0.05
          },
          "xaxis": {
           "automargin": true,
           "gridcolor": "white",
           "linecolor": "white",
           "ticks": "",
           "title": {
            "standoff": 15
           },
           "zerolinecolor": "white",
           "zerolinewidth": 2
          },
          "yaxis": {
           "automargin": true,
           "gridcolor": "white",
           "linecolor": "white",
           "ticks": "",
           "title": {
            "standoff": 15
           },
           "zerolinecolor": "white",
           "zerolinewidth": 2
          }
         }
        },
        "title": {
         "text": "Phân bổ loại hình căn hộ"
        }
       }
      }
     },
     "metadata": {},
     "output_type": "display_data"
    }
   ],
   "source": [
    "import plotly.express as px\n",
    "\n",
    "# Đếm số lượng từng loại hình căn hộ\n",
    "data = df['Loại hình căn hộ'].value_counts().reset_index()\n",
    "data.columns = ['Loại hình căn hộ', 'Số lượng']\n",
    "\n",
    "# Vẽ biểu đồ tròn\n",
    "fig = px.pie(\n",
    "    data, \n",
    "    values='Số lượng', \n",
    "    names='Loại hình căn hộ', \n",
    "    title='Phân bổ loại hình căn hộ',\n",
    "    color_discrete_sequence=px.colors.sequential.RdBu\n",
    ")\n",
    "fig.update_traces(textposition='inside', textinfo='percent+label')\n",
    "fig.show()\n"
   ]
  },
  {
   "cell_type": "code",
   "execution_count": 2,
   "metadata": {},
   "outputs": [
    {
     "data": {
      "text/plain": [
       "Link                   2263\n",
       "Giá tổng               2263\n",
       "Giá/m²                 2263\n",
       "Số phòng ngủ           2263\n",
       "Số phòng vệ sinh       2263\n",
       "Giấy tờ pháp lý        2263\n",
       "Loại hình căn hộ       2263\n",
       "Diện tích              2263\n",
       "Hướng cửa chính         526\n",
       "Hướng ban công          596\n",
       "Tình trạng nội thất    2263\n",
       "Xã/Phường              2263\n",
       "Quận/Huyện             2263\n",
       "dtype: int64"
      ]
     },
     "execution_count": 2,
     "metadata": {},
     "output_type": "execute_result"
    }
   ],
   "source": [
    "df.count()"
   ]
  },
  {
   "cell_type": "markdown",
   "metadata": {},
   "source": [
    "Dữ liệu từ các trường hầu như đã được xử lí đầy đủ."
   ]
  },
  {
   "cell_type": "code",
   "execution_count": null,
   "metadata": {},
   "outputs": [
    {
     "data": {
      "text/plain": [
       "Giấy tờ pháp lý\n",
       "Sổ hồng riêng       1975\n",
       "Hợp đồng mua bán     227\n",
       "Đang chờ sổ           47\n",
       "Hợp đồng đặt cọc      14\n",
       "Name: count, dtype: int64"
      ]
     },
     "execution_count": 4,
     "metadata": {},
     "output_type": "execute_result"
    }
   ],
   "source": [
    "df['Giấy tờ pháp lý'].value_counts()"
   ]
  },
  {
   "cell_type": "code",
   "execution_count": 5,
   "metadata": {},
   "outputs": [
    {
     "data": {
      "text/plain": [
       "Loại hình căn hộ\n",
       "Chung cư         1757\n",
       "Tập thể           313\n",
       "Chung cư mini     171\n",
       "Duplex              8\n",
       "Officetel           8\n",
       "Penthouse           6\n",
       "Name: count, dtype: int64"
      ]
     },
     "execution_count": 5,
     "metadata": {},
     "output_type": "execute_result"
    }
   ],
   "source": [
    "df['Loại hình căn hộ'].value_counts()"
   ]
  },
  {
   "cell_type": "code",
   "execution_count": 7,
   "metadata": {},
   "outputs": [
    {
     "data": {
      "text/plain": [
       "Tình trạng nội thất\n",
       "Nội thất đầy đủ      1160\n",
       "Nội thất cao cấp      699\n",
       "Hoàn thiện cơ bản     377\n",
       "Bàn giao thô           27\n",
       "Name: count, dtype: int64"
      ]
     },
     "execution_count": 7,
     "metadata": {},
     "output_type": "execute_result"
    }
   ],
   "source": [
    "df['Tình trạng nội thất'].value_counts()"
   ]
  },
  {
   "cell_type": "code",
   "execution_count": 8,
   "metadata": {},
   "outputs": [
    {
     "data": {
      "text/plain": [
       "Xã/Phường\n",
       "Trâu Quỳ      376\n",
       "Tây Mỗ        282\n",
       "Hoàng Liệt     64\n",
       "Đại Kim        62\n",
       "Mỹ Đình 2      53\n",
       "             ... \n",
       "Ngọc Hồi        1\n",
       "Hàng Mã         1\n",
       "Hữu Hoà         1\n",
       "Yên Hòa         1\n",
       "Vĩnh Quỳnh      1\n",
       "Name: count, Length: 170, dtype: int64"
      ]
     },
     "execution_count": 8,
     "metadata": {},
     "output_type": "execute_result"
    }
   ],
   "source": [
    "df['Xã/Phường'].value_counts()"
   ]
  },
  {
   "cell_type": "code",
   "execution_count": 17,
   "metadata": {},
   "outputs": [
    {
     "data": {
      "text/plain": [
       "Số phòng ngủ\n",
       "2     1169\n",
       "3      621\n",
       "1      341\n",
       "10      67\n",
       "4       38\n",
       "5       13\n",
       "8        6\n",
       "9        6\n",
       "7        1\n",
       "6        1\n",
       "Name: count, dtype: int64"
      ]
     },
     "execution_count": 17,
     "metadata": {},
     "output_type": "execute_result"
    }
   ],
   "source": [
    "df['Số phòng ngủ'].value_counts()"
   ]
  },
  {
   "cell_type": "code",
   "execution_count": 9,
   "metadata": {},
   "outputs": [
    {
     "data": {
      "text/plain": [
       "Quận/Huyện\n",
       "Nam Từ Liêm     457\n",
       "Gia Lâm         442\n",
       "Hoàng Mai       260\n",
       "Đống Đa         161\n",
       "Cầu Giấy        158\n",
       "Thanh Xuân      155\n",
       "Hai Bà Trưng    153\n",
       "Hà Đông         150\n",
       "Bắc Từ Liêm      92\n",
       "Long Biên        56\n",
       "Ba Đình          46\n",
       "Tây Hồ           38\n",
       "Thanh Trì        32\n",
       "Hoài Đức         19\n",
       "Trống            13\n",
       "Hoàn Kiếm        11\n",
       "Đông Anh         11\n",
       "Đan Phượng        5\n",
       "Chương Mỹ         2\n",
       "Thanh Oai         1\n",
       "Mê Linh           1\n",
       "Name: count, dtype: int64"
      ]
     },
     "execution_count": 9,
     "metadata": {},
     "output_type": "execute_result"
    }
   ],
   "source": [
    "df['Quận/Huyện'].value_counts()"
   ]
  },
  {
   "cell_type": "code",
   "execution_count": 8,
   "metadata": {},
   "outputs": [
    {
     "data": {
      "application/vnd.plotly.v1+json": {
       "config": {
        "plotlyServerURL": "https://plot.ly"
       },
       "data": [
        {
         "domain": {
          "x": [
           0,
           1
          ],
          "y": [
           0,
           1
          ]
         },
         "hovertemplate": "Quận/Huyện=%{label}<br>Số lượng=%{value}<extra></extra>",
         "labels": [
          "Nam Từ Liêm",
          "Gia Lâm",
          "Hoàng Mai",
          "Đống Đa",
          "Cầu Giấy",
          "Thanh Xuân",
          "Hai Bà Trưng",
          "Hà Đông",
          "Khác"
         ],
         "legendgroup": "",
         "name": "",
         "showlegend": true,
         "textinfo": "percent+label",
         "textposition": "inside",
         "type": "pie",
         "values": [
          457,
          442,
          260,
          161,
          158,
          155,
          153,
          150,
          327
         ]
        }
       ],
       "layout": {
        "legend": {
         "tracegroupgap": 0
        },
        "piecolorway": [
         "rgb(103,0,31)",
         "rgb(178,24,43)",
         "rgb(214,96,77)",
         "rgb(244,165,130)",
         "rgb(253,219,199)",
         "rgb(247,247,247)",
         "rgb(209,229,240)",
         "rgb(146,197,222)",
         "rgb(67,147,195)",
         "rgb(33,102,172)",
         "rgb(5,48,97)"
        ],
        "template": {
         "data": {
          "bar": [
           {
            "error_x": {
             "color": "#2a3f5f"
            },
            "error_y": {
             "color": "#2a3f5f"
            },
            "marker": {
             "line": {
              "color": "#E5ECF6",
              "width": 0.5
             },
             "pattern": {
              "fillmode": "overlay",
              "size": 10,
              "solidity": 0.2
             }
            },
            "type": "bar"
           }
          ],
          "barpolar": [
           {
            "marker": {
             "line": {
              "color": "#E5ECF6",
              "width": 0.5
             },
             "pattern": {
              "fillmode": "overlay",
              "size": 10,
              "solidity": 0.2
             }
            },
            "type": "barpolar"
           }
          ],
          "carpet": [
           {
            "aaxis": {
             "endlinecolor": "#2a3f5f",
             "gridcolor": "white",
             "linecolor": "white",
             "minorgridcolor": "white",
             "startlinecolor": "#2a3f5f"
            },
            "baxis": {
             "endlinecolor": "#2a3f5f",
             "gridcolor": "white",
             "linecolor": "white",
             "minorgridcolor": "white",
             "startlinecolor": "#2a3f5f"
            },
            "type": "carpet"
           }
          ],
          "choropleth": [
           {
            "colorbar": {
             "outlinewidth": 0,
             "ticks": ""
            },
            "type": "choropleth"
           }
          ],
          "contour": [
           {
            "colorbar": {
             "outlinewidth": 0,
             "ticks": ""
            },
            "colorscale": [
             [
              0,
              "#0d0887"
             ],
             [
              0.1111111111111111,
              "#46039f"
             ],
             [
              0.2222222222222222,
              "#7201a8"
             ],
             [
              0.3333333333333333,
              "#9c179e"
             ],
             [
              0.4444444444444444,
              "#bd3786"
             ],
             [
              0.5555555555555556,
              "#d8576b"
             ],
             [
              0.6666666666666666,
              "#ed7953"
             ],
             [
              0.7777777777777778,
              "#fb9f3a"
             ],
             [
              0.8888888888888888,
              "#fdca26"
             ],
             [
              1,
              "#f0f921"
             ]
            ],
            "type": "contour"
           }
          ],
          "contourcarpet": [
           {
            "colorbar": {
             "outlinewidth": 0,
             "ticks": ""
            },
            "type": "contourcarpet"
           }
          ],
          "heatmap": [
           {
            "colorbar": {
             "outlinewidth": 0,
             "ticks": ""
            },
            "colorscale": [
             [
              0,
              "#0d0887"
             ],
             [
              0.1111111111111111,
              "#46039f"
             ],
             [
              0.2222222222222222,
              "#7201a8"
             ],
             [
              0.3333333333333333,
              "#9c179e"
             ],
             [
              0.4444444444444444,
              "#bd3786"
             ],
             [
              0.5555555555555556,
              "#d8576b"
             ],
             [
              0.6666666666666666,
              "#ed7953"
             ],
             [
              0.7777777777777778,
              "#fb9f3a"
             ],
             [
              0.8888888888888888,
              "#fdca26"
             ],
             [
              1,
              "#f0f921"
             ]
            ],
            "type": "heatmap"
           }
          ],
          "heatmapgl": [
           {
            "colorbar": {
             "outlinewidth": 0,
             "ticks": ""
            },
            "colorscale": [
             [
              0,
              "#0d0887"
             ],
             [
              0.1111111111111111,
              "#46039f"
             ],
             [
              0.2222222222222222,
              "#7201a8"
             ],
             [
              0.3333333333333333,
              "#9c179e"
             ],
             [
              0.4444444444444444,
              "#bd3786"
             ],
             [
              0.5555555555555556,
              "#d8576b"
             ],
             [
              0.6666666666666666,
              "#ed7953"
             ],
             [
              0.7777777777777778,
              "#fb9f3a"
             ],
             [
              0.8888888888888888,
              "#fdca26"
             ],
             [
              1,
              "#f0f921"
             ]
            ],
            "type": "heatmapgl"
           }
          ],
          "histogram": [
           {
            "marker": {
             "pattern": {
              "fillmode": "overlay",
              "size": 10,
              "solidity": 0.2
             }
            },
            "type": "histogram"
           }
          ],
          "histogram2d": [
           {
            "colorbar": {
             "outlinewidth": 0,
             "ticks": ""
            },
            "colorscale": [
             [
              0,
              "#0d0887"
             ],
             [
              0.1111111111111111,
              "#46039f"
             ],
             [
              0.2222222222222222,
              "#7201a8"
             ],
             [
              0.3333333333333333,
              "#9c179e"
             ],
             [
              0.4444444444444444,
              "#bd3786"
             ],
             [
              0.5555555555555556,
              "#d8576b"
             ],
             [
              0.6666666666666666,
              "#ed7953"
             ],
             [
              0.7777777777777778,
              "#fb9f3a"
             ],
             [
              0.8888888888888888,
              "#fdca26"
             ],
             [
              1,
              "#f0f921"
             ]
            ],
            "type": "histogram2d"
           }
          ],
          "histogram2dcontour": [
           {
            "colorbar": {
             "outlinewidth": 0,
             "ticks": ""
            },
            "colorscale": [
             [
              0,
              "#0d0887"
             ],
             [
              0.1111111111111111,
              "#46039f"
             ],
             [
              0.2222222222222222,
              "#7201a8"
             ],
             [
              0.3333333333333333,
              "#9c179e"
             ],
             [
              0.4444444444444444,
              "#bd3786"
             ],
             [
              0.5555555555555556,
              "#d8576b"
             ],
             [
              0.6666666666666666,
              "#ed7953"
             ],
             [
              0.7777777777777778,
              "#fb9f3a"
             ],
             [
              0.8888888888888888,
              "#fdca26"
             ],
             [
              1,
              "#f0f921"
             ]
            ],
            "type": "histogram2dcontour"
           }
          ],
          "mesh3d": [
           {
            "colorbar": {
             "outlinewidth": 0,
             "ticks": ""
            },
            "type": "mesh3d"
           }
          ],
          "parcoords": [
           {
            "line": {
             "colorbar": {
              "outlinewidth": 0,
              "ticks": ""
             }
            },
            "type": "parcoords"
           }
          ],
          "pie": [
           {
            "automargin": true,
            "type": "pie"
           }
          ],
          "scatter": [
           {
            "fillpattern": {
             "fillmode": "overlay",
             "size": 10,
             "solidity": 0.2
            },
            "type": "scatter"
           }
          ],
          "scatter3d": [
           {
            "line": {
             "colorbar": {
              "outlinewidth": 0,
              "ticks": ""
             }
            },
            "marker": {
             "colorbar": {
              "outlinewidth": 0,
              "ticks": ""
             }
            },
            "type": "scatter3d"
           }
          ],
          "scattercarpet": [
           {
            "marker": {
             "colorbar": {
              "outlinewidth": 0,
              "ticks": ""
             }
            },
            "type": "scattercarpet"
           }
          ],
          "scattergeo": [
           {
            "marker": {
             "colorbar": {
              "outlinewidth": 0,
              "ticks": ""
             }
            },
            "type": "scattergeo"
           }
          ],
          "scattergl": [
           {
            "marker": {
             "colorbar": {
              "outlinewidth": 0,
              "ticks": ""
             }
            },
            "type": "scattergl"
           }
          ],
          "scattermapbox": [
           {
            "marker": {
             "colorbar": {
              "outlinewidth": 0,
              "ticks": ""
             }
            },
            "type": "scattermapbox"
           }
          ],
          "scatterpolar": [
           {
            "marker": {
             "colorbar": {
              "outlinewidth": 0,
              "ticks": ""
             }
            },
            "type": "scatterpolar"
           }
          ],
          "scatterpolargl": [
           {
            "marker": {
             "colorbar": {
              "outlinewidth": 0,
              "ticks": ""
             }
            },
            "type": "scatterpolargl"
           }
          ],
          "scatterternary": [
           {
            "marker": {
             "colorbar": {
              "outlinewidth": 0,
              "ticks": ""
             }
            },
            "type": "scatterternary"
           }
          ],
          "surface": [
           {
            "colorbar": {
             "outlinewidth": 0,
             "ticks": ""
            },
            "colorscale": [
             [
              0,
              "#0d0887"
             ],
             [
              0.1111111111111111,
              "#46039f"
             ],
             [
              0.2222222222222222,
              "#7201a8"
             ],
             [
              0.3333333333333333,
              "#9c179e"
             ],
             [
              0.4444444444444444,
              "#bd3786"
             ],
             [
              0.5555555555555556,
              "#d8576b"
             ],
             [
              0.6666666666666666,
              "#ed7953"
             ],
             [
              0.7777777777777778,
              "#fb9f3a"
             ],
             [
              0.8888888888888888,
              "#fdca26"
             ],
             [
              1,
              "#f0f921"
             ]
            ],
            "type": "surface"
           }
          ],
          "table": [
           {
            "cells": {
             "fill": {
              "color": "#EBF0F8"
             },
             "line": {
              "color": "white"
             }
            },
            "header": {
             "fill": {
              "color": "#C8D4E3"
             },
             "line": {
              "color": "white"
             }
            },
            "type": "table"
           }
          ]
         },
         "layout": {
          "annotationdefaults": {
           "arrowcolor": "#2a3f5f",
           "arrowhead": 0,
           "arrowwidth": 1
          },
          "autotypenumbers": "strict",
          "coloraxis": {
           "colorbar": {
            "outlinewidth": 0,
            "ticks": ""
           }
          },
          "colorscale": {
           "diverging": [
            [
             0,
             "#8e0152"
            ],
            [
             0.1,
             "#c51b7d"
            ],
            [
             0.2,
             "#de77ae"
            ],
            [
             0.3,
             "#f1b6da"
            ],
            [
             0.4,
             "#fde0ef"
            ],
            [
             0.5,
             "#f7f7f7"
            ],
            [
             0.6,
             "#e6f5d0"
            ],
            [
             0.7,
             "#b8e186"
            ],
            [
             0.8,
             "#7fbc41"
            ],
            [
             0.9,
             "#4d9221"
            ],
            [
             1,
             "#276419"
            ]
           ],
           "sequential": [
            [
             0,
             "#0d0887"
            ],
            [
             0.1111111111111111,
             "#46039f"
            ],
            [
             0.2222222222222222,
             "#7201a8"
            ],
            [
             0.3333333333333333,
             "#9c179e"
            ],
            [
             0.4444444444444444,
             "#bd3786"
            ],
            [
             0.5555555555555556,
             "#d8576b"
            ],
            [
             0.6666666666666666,
             "#ed7953"
            ],
            [
             0.7777777777777778,
             "#fb9f3a"
            ],
            [
             0.8888888888888888,
             "#fdca26"
            ],
            [
             1,
             "#f0f921"
            ]
           ],
           "sequentialminus": [
            [
             0,
             "#0d0887"
            ],
            [
             0.1111111111111111,
             "#46039f"
            ],
            [
             0.2222222222222222,
             "#7201a8"
            ],
            [
             0.3333333333333333,
             "#9c179e"
            ],
            [
             0.4444444444444444,
             "#bd3786"
            ],
            [
             0.5555555555555556,
             "#d8576b"
            ],
            [
             0.6666666666666666,
             "#ed7953"
            ],
            [
             0.7777777777777778,
             "#fb9f3a"
            ],
            [
             0.8888888888888888,
             "#fdca26"
            ],
            [
             1,
             "#f0f921"
            ]
           ]
          },
          "colorway": [
           "#636efa",
           "#EF553B",
           "#00cc96",
           "#ab63fa",
           "#FFA15A",
           "#19d3f3",
           "#FF6692",
           "#B6E880",
           "#FF97FF",
           "#FECB52"
          ],
          "font": {
           "color": "#2a3f5f"
          },
          "geo": {
           "bgcolor": "white",
           "lakecolor": "white",
           "landcolor": "#E5ECF6",
           "showlakes": true,
           "showland": true,
           "subunitcolor": "white"
          },
          "hoverlabel": {
           "align": "left"
          },
          "hovermode": "closest",
          "mapbox": {
           "style": "light"
          },
          "paper_bgcolor": "white",
          "plot_bgcolor": "#E5ECF6",
          "polar": {
           "angularaxis": {
            "gridcolor": "white",
            "linecolor": "white",
            "ticks": ""
           },
           "bgcolor": "#E5ECF6",
           "radialaxis": {
            "gridcolor": "white",
            "linecolor": "white",
            "ticks": ""
           }
          },
          "scene": {
           "xaxis": {
            "backgroundcolor": "#E5ECF6",
            "gridcolor": "white",
            "gridwidth": 2,
            "linecolor": "white",
            "showbackground": true,
            "ticks": "",
            "zerolinecolor": "white"
           },
           "yaxis": {
            "backgroundcolor": "#E5ECF6",
            "gridcolor": "white",
            "gridwidth": 2,
            "linecolor": "white",
            "showbackground": true,
            "ticks": "",
            "zerolinecolor": "white"
           },
           "zaxis": {
            "backgroundcolor": "#E5ECF6",
            "gridcolor": "white",
            "gridwidth": 2,
            "linecolor": "white",
            "showbackground": true,
            "ticks": "",
            "zerolinecolor": "white"
           }
          },
          "shapedefaults": {
           "line": {
            "color": "#2a3f5f"
           }
          },
          "ternary": {
           "aaxis": {
            "gridcolor": "white",
            "linecolor": "white",
            "ticks": ""
           },
           "baxis": {
            "gridcolor": "white",
            "linecolor": "white",
            "ticks": ""
           },
           "bgcolor": "#E5ECF6",
           "caxis": {
            "gridcolor": "white",
            "linecolor": "white",
            "ticks": ""
           }
          },
          "title": {
           "x": 0.05
          },
          "xaxis": {
           "automargin": true,
           "gridcolor": "white",
           "linecolor": "white",
           "ticks": "",
           "title": {
            "standoff": 15
           },
           "zerolinecolor": "white",
           "zerolinewidth": 2
          },
          "yaxis": {
           "automargin": true,
           "gridcolor": "white",
           "linecolor": "white",
           "ticks": "",
           "title": {
            "standoff": 15
           },
           "zerolinecolor": "white",
           "zerolinewidth": 2
          }
         }
        },
        "title": {
         "text": "Phân bổ loại hình căn hộ (Top 8 quận/huyện)"
        }
       }
      }
     },
     "metadata": {},
     "output_type": "display_data"
    }
   ],
   "source": [
    "import pandas as pd\n",
    "import plotly.express as px\n",
    "\n",
    "# Đếm số lượng từng quận/huyện\n",
    "data = df['Quận/Huyện'].value_counts()\n",
    "\n",
    "# Lấy 8 quận/huyện có số lượng lớn nhất\n",
    "top_8 = data[:8]\n",
    "others = data[8:].sum()\n",
    "\n",
    "# Tạo DataFrame mới với Top 8\n",
    "data_top_8 = top_8.reset_index()\n",
    "data_top_8.columns = ['Quận/Huyện', 'Số lượng']\n",
    "\n",
    "# Thêm nhóm \"Khác\" vào DataFrame\n",
    "others_row = pd.DataFrame({'Quận/Huyện': ['Khác'], 'Số lượng': [others]})\n",
    "data_top_8 = pd.concat([data_top_8, others_row], ignore_index=True)\n",
    "\n",
    "# Vẽ biểu đồ tròn\n",
    "fig = px.pie(\n",
    "    data_top_8, \n",
    "    values='Số lượng', \n",
    "    names='Quận/Huyện', \n",
    "    title='Phân bổ loại hình căn hộ (Top 8 quận/huyện)', \n",
    "    color_discrete_sequence=px.colors.sequential.RdBu\n",
    ")\n",
    "fig.update_traces(textposition='inside', textinfo='percent+label')\n",
    "fig.show()\n"
   ]
  },
  {
   "cell_type": "code",
   "execution_count": 11,
   "metadata": {},
   "outputs": [
    {
     "data": {
      "text/plain": [
       "count    2263.000000\n",
       "mean       57.276836\n",
       "std        38.421083\n",
       "min         0.014035\n",
       "25%        42.500000\n",
       "50%        50.460000\n",
       "75%        63.530000\n",
       "max       464.910000\n",
       "Name: Giá/m², dtype: float64"
      ]
     },
     "execution_count": 11,
     "metadata": {},
     "output_type": "execute_result"
    }
   ],
   "source": [
    "df['Giá/m²'].describe()"
   ]
  },
  {
   "cell_type": "code",
   "execution_count": 3,
   "metadata": {},
   "outputs": [],
   "source": [
    "import numpy as np # linear algebra\n",
    "import pandas as pd # data processing, CSV file I/O (e.g. pd.read_csv)\n",
    "import matplotlib.pyplot as plt\n",
    "import seaborn as sns\n",
    "import plotly.express as px\n",
    "import plotly.graph_objects as go"
   ]
  },
  {
   "cell_type": "code",
   "execution_count": 9,
   "metadata": {},
   "outputs": [
    {
     "data": {
      "application/vnd.plotly.v1+json": {
       "config": {
        "plotlyServerURL": "https://plot.ly"
       },
       "data": [
        {
         "alignmentgroup": "True",
         "hovertemplate": "Loại hình căn hộ=%{x}<br>Giá/m² (triệu đồng)=%{text}<extra></extra>",
         "legendgroup": "Chung cư",
         "marker": {
          "color": "#636efa",
          "pattern": {
           "shape": ""
          }
         },
         "name": "Chung cư",
         "offsetgroup": "Chung cư",
         "orientation": "v",
         "showlegend": true,
         "text": [
          52.42094544393853
         ],
         "textposition": "outside",
         "texttemplate": "%{text:.2f}",
         "type": "bar",
         "x": [
          "Chung cư"
         ],
         "xaxis": "x",
         "y": [
          52.42094544393853
         ],
         "yaxis": "y"
        },
        {
         "alignmentgroup": "True",
         "hovertemplate": "Loại hình căn hộ=%{x}<br>Giá/m² (triệu đồng)=%{text}<extra></extra>",
         "legendgroup": "Chung cư mini",
         "marker": {
          "color": "#EF553B",
          "pattern": {
           "shape": ""
          }
         },
         "name": "Chung cư mini",
         "offsetgroup": "Chung cư mini",
         "orientation": "v",
         "showlegend": true,
         "text": [
          113.53433811695906
         ],
         "textposition": "outside",
         "texttemplate": "%{text:.2f}",
         "type": "bar",
         "x": [
          "Chung cư mini"
         ],
         "xaxis": "x",
         "y": [
          113.53433811695906
         ],
         "yaxis": "y"
        },
        {
         "alignmentgroup": "True",
         "hovertemplate": "Loại hình căn hộ=%{x}<br>Giá/m² (triệu đồng)=%{text}<extra></extra>",
         "legendgroup": "Duplex",
         "marker": {
          "color": "#00cc96",
          "pattern": {
           "shape": ""
          }
         },
         "name": "Duplex",
         "offsetgroup": "Duplex",
         "orientation": "v",
         "showlegend": true,
         "text": [
          108.0025
         ],
         "textposition": "outside",
         "texttemplate": "%{text:.2f}",
         "type": "bar",
         "x": [
          "Duplex"
         ],
         "xaxis": "x",
         "y": [
          108.0025
         ],
         "yaxis": "y"
        },
        {
         "alignmentgroup": "True",
         "hovertemplate": "Loại hình căn hộ=%{x}<br>Giá/m² (triệu đồng)=%{text}<extra></extra>",
         "legendgroup": "Officetel",
         "marker": {
          "color": "#ab63fa",
          "pattern": {
           "shape": ""
          }
         },
         "name": "Officetel",
         "offsetgroup": "Officetel",
         "orientation": "v",
         "showlegend": true,
         "text": [
          48.930321375
         ],
         "textposition": "outside",
         "texttemplate": "%{text:.2f}",
         "type": "bar",
         "x": [
          "Officetel"
         ],
         "xaxis": "x",
         "y": [
          48.930321375
         ],
         "yaxis": "y"
        },
        {
         "alignmentgroup": "True",
         "hovertemplate": "Loại hình căn hộ=%{x}<br>Giá/m² (triệu đồng)=%{text}<extra></extra>",
         "legendgroup": "Penthouse",
         "marker": {
          "color": "#FFA15A",
          "pattern": {
           "shape": ""
          }
         },
         "name": "Penthouse",
         "offsetgroup": "Penthouse",
         "orientation": "v",
         "showlegend": true,
         "text": [
          138.14666666666668
         ],
         "textposition": "outside",
         "texttemplate": "%{text:.2f}",
         "type": "bar",
         "x": [
          "Penthouse"
         ],
         "xaxis": "x",
         "y": [
          138.14666666666668
         ],
         "yaxis": "y"
        },
        {
         "alignmentgroup": "True",
         "hovertemplate": "Loại hình căn hộ=%{x}<br>Giá/m² (triệu đồng)=%{text}<extra></extra>",
         "legendgroup": "Tập thể",
         "marker": {
          "color": "#19d3f3",
          "pattern": {
           "shape": ""
          }
         },
         "name": "Tập thể",
         "offsetgroup": "Tập thể",
         "orientation": "v",
         "showlegend": true,
         "text": [
          51.16665882108626
         ],
         "textposition": "outside",
         "texttemplate": "%{text:.2f}",
         "type": "bar",
         "x": [
          "Tập thể"
         ],
         "xaxis": "x",
         "y": [
          51.16665882108626
         ],
         "yaxis": "y"
        }
       ],
       "layout": {
        "barmode": "relative",
        "legend": {
         "title": {
          "text": "Loại hình căn hộ"
         },
         "tracegroupgap": 0
        },
        "template": {
         "data": {
          "bar": [
           {
            "error_x": {
             "color": "#2a3f5f"
            },
            "error_y": {
             "color": "#2a3f5f"
            },
            "marker": {
             "line": {
              "color": "#E5ECF6",
              "width": 0.5
             },
             "pattern": {
              "fillmode": "overlay",
              "size": 10,
              "solidity": 0.2
             }
            },
            "type": "bar"
           }
          ],
          "barpolar": [
           {
            "marker": {
             "line": {
              "color": "#E5ECF6",
              "width": 0.5
             },
             "pattern": {
              "fillmode": "overlay",
              "size": 10,
              "solidity": 0.2
             }
            },
            "type": "barpolar"
           }
          ],
          "carpet": [
           {
            "aaxis": {
             "endlinecolor": "#2a3f5f",
             "gridcolor": "white",
             "linecolor": "white",
             "minorgridcolor": "white",
             "startlinecolor": "#2a3f5f"
            },
            "baxis": {
             "endlinecolor": "#2a3f5f",
             "gridcolor": "white",
             "linecolor": "white",
             "minorgridcolor": "white",
             "startlinecolor": "#2a3f5f"
            },
            "type": "carpet"
           }
          ],
          "choropleth": [
           {
            "colorbar": {
             "outlinewidth": 0,
             "ticks": ""
            },
            "type": "choropleth"
           }
          ],
          "contour": [
           {
            "colorbar": {
             "outlinewidth": 0,
             "ticks": ""
            },
            "colorscale": [
             [
              0,
              "#0d0887"
             ],
             [
              0.1111111111111111,
              "#46039f"
             ],
             [
              0.2222222222222222,
              "#7201a8"
             ],
             [
              0.3333333333333333,
              "#9c179e"
             ],
             [
              0.4444444444444444,
              "#bd3786"
             ],
             [
              0.5555555555555556,
              "#d8576b"
             ],
             [
              0.6666666666666666,
              "#ed7953"
             ],
             [
              0.7777777777777778,
              "#fb9f3a"
             ],
             [
              0.8888888888888888,
              "#fdca26"
             ],
             [
              1,
              "#f0f921"
             ]
            ],
            "type": "contour"
           }
          ],
          "contourcarpet": [
           {
            "colorbar": {
             "outlinewidth": 0,
             "ticks": ""
            },
            "type": "contourcarpet"
           }
          ],
          "heatmap": [
           {
            "colorbar": {
             "outlinewidth": 0,
             "ticks": ""
            },
            "colorscale": [
             [
              0,
              "#0d0887"
             ],
             [
              0.1111111111111111,
              "#46039f"
             ],
             [
              0.2222222222222222,
              "#7201a8"
             ],
             [
              0.3333333333333333,
              "#9c179e"
             ],
             [
              0.4444444444444444,
              "#bd3786"
             ],
             [
              0.5555555555555556,
              "#d8576b"
             ],
             [
              0.6666666666666666,
              "#ed7953"
             ],
             [
              0.7777777777777778,
              "#fb9f3a"
             ],
             [
              0.8888888888888888,
              "#fdca26"
             ],
             [
              1,
              "#f0f921"
             ]
            ],
            "type": "heatmap"
           }
          ],
          "heatmapgl": [
           {
            "colorbar": {
             "outlinewidth": 0,
             "ticks": ""
            },
            "colorscale": [
             [
              0,
              "#0d0887"
             ],
             [
              0.1111111111111111,
              "#46039f"
             ],
             [
              0.2222222222222222,
              "#7201a8"
             ],
             [
              0.3333333333333333,
              "#9c179e"
             ],
             [
              0.4444444444444444,
              "#bd3786"
             ],
             [
              0.5555555555555556,
              "#d8576b"
             ],
             [
              0.6666666666666666,
              "#ed7953"
             ],
             [
              0.7777777777777778,
              "#fb9f3a"
             ],
             [
              0.8888888888888888,
              "#fdca26"
             ],
             [
              1,
              "#f0f921"
             ]
            ],
            "type": "heatmapgl"
           }
          ],
          "histogram": [
           {
            "marker": {
             "pattern": {
              "fillmode": "overlay",
              "size": 10,
              "solidity": 0.2
             }
            },
            "type": "histogram"
           }
          ],
          "histogram2d": [
           {
            "colorbar": {
             "outlinewidth": 0,
             "ticks": ""
            },
            "colorscale": [
             [
              0,
              "#0d0887"
             ],
             [
              0.1111111111111111,
              "#46039f"
             ],
             [
              0.2222222222222222,
              "#7201a8"
             ],
             [
              0.3333333333333333,
              "#9c179e"
             ],
             [
              0.4444444444444444,
              "#bd3786"
             ],
             [
              0.5555555555555556,
              "#d8576b"
             ],
             [
              0.6666666666666666,
              "#ed7953"
             ],
             [
              0.7777777777777778,
              "#fb9f3a"
             ],
             [
              0.8888888888888888,
              "#fdca26"
             ],
             [
              1,
              "#f0f921"
             ]
            ],
            "type": "histogram2d"
           }
          ],
          "histogram2dcontour": [
           {
            "colorbar": {
             "outlinewidth": 0,
             "ticks": ""
            },
            "colorscale": [
             [
              0,
              "#0d0887"
             ],
             [
              0.1111111111111111,
              "#46039f"
             ],
             [
              0.2222222222222222,
              "#7201a8"
             ],
             [
              0.3333333333333333,
              "#9c179e"
             ],
             [
              0.4444444444444444,
              "#bd3786"
             ],
             [
              0.5555555555555556,
              "#d8576b"
             ],
             [
              0.6666666666666666,
              "#ed7953"
             ],
             [
              0.7777777777777778,
              "#fb9f3a"
             ],
             [
              0.8888888888888888,
              "#fdca26"
             ],
             [
              1,
              "#f0f921"
             ]
            ],
            "type": "histogram2dcontour"
           }
          ],
          "mesh3d": [
           {
            "colorbar": {
             "outlinewidth": 0,
             "ticks": ""
            },
            "type": "mesh3d"
           }
          ],
          "parcoords": [
           {
            "line": {
             "colorbar": {
              "outlinewidth": 0,
              "ticks": ""
             }
            },
            "type": "parcoords"
           }
          ],
          "pie": [
           {
            "automargin": true,
            "type": "pie"
           }
          ],
          "scatter": [
           {
            "fillpattern": {
             "fillmode": "overlay",
             "size": 10,
             "solidity": 0.2
            },
            "type": "scatter"
           }
          ],
          "scatter3d": [
           {
            "line": {
             "colorbar": {
              "outlinewidth": 0,
              "ticks": ""
             }
            },
            "marker": {
             "colorbar": {
              "outlinewidth": 0,
              "ticks": ""
             }
            },
            "type": "scatter3d"
           }
          ],
          "scattercarpet": [
           {
            "marker": {
             "colorbar": {
              "outlinewidth": 0,
              "ticks": ""
             }
            },
            "type": "scattercarpet"
           }
          ],
          "scattergeo": [
           {
            "marker": {
             "colorbar": {
              "outlinewidth": 0,
              "ticks": ""
             }
            },
            "type": "scattergeo"
           }
          ],
          "scattergl": [
           {
            "marker": {
             "colorbar": {
              "outlinewidth": 0,
              "ticks": ""
             }
            },
            "type": "scattergl"
           }
          ],
          "scattermapbox": [
           {
            "marker": {
             "colorbar": {
              "outlinewidth": 0,
              "ticks": ""
             }
            },
            "type": "scattermapbox"
           }
          ],
          "scatterpolar": [
           {
            "marker": {
             "colorbar": {
              "outlinewidth": 0,
              "ticks": ""
             }
            },
            "type": "scatterpolar"
           }
          ],
          "scatterpolargl": [
           {
            "marker": {
             "colorbar": {
              "outlinewidth": 0,
              "ticks": ""
             }
            },
            "type": "scatterpolargl"
           }
          ],
          "scatterternary": [
           {
            "marker": {
             "colorbar": {
              "outlinewidth": 0,
              "ticks": ""
             }
            },
            "type": "scatterternary"
           }
          ],
          "surface": [
           {
            "colorbar": {
             "outlinewidth": 0,
             "ticks": ""
            },
            "colorscale": [
             [
              0,
              "#0d0887"
             ],
             [
              0.1111111111111111,
              "#46039f"
             ],
             [
              0.2222222222222222,
              "#7201a8"
             ],
             [
              0.3333333333333333,
              "#9c179e"
             ],
             [
              0.4444444444444444,
              "#bd3786"
             ],
             [
              0.5555555555555556,
              "#d8576b"
             ],
             [
              0.6666666666666666,
              "#ed7953"
             ],
             [
              0.7777777777777778,
              "#fb9f3a"
             ],
             [
              0.8888888888888888,
              "#fdca26"
             ],
             [
              1,
              "#f0f921"
             ]
            ],
            "type": "surface"
           }
          ],
          "table": [
           {
            "cells": {
             "fill": {
              "color": "#EBF0F8"
             },
             "line": {
              "color": "white"
             }
            },
            "header": {
             "fill": {
              "color": "#C8D4E3"
             },
             "line": {
              "color": "white"
             }
            },
            "type": "table"
           }
          ]
         },
         "layout": {
          "annotationdefaults": {
           "arrowcolor": "#2a3f5f",
           "arrowhead": 0,
           "arrowwidth": 1
          },
          "autotypenumbers": "strict",
          "coloraxis": {
           "colorbar": {
            "outlinewidth": 0,
            "ticks": ""
           }
          },
          "colorscale": {
           "diverging": [
            [
             0,
             "#8e0152"
            ],
            [
             0.1,
             "#c51b7d"
            ],
            [
             0.2,
             "#de77ae"
            ],
            [
             0.3,
             "#f1b6da"
            ],
            [
             0.4,
             "#fde0ef"
            ],
            [
             0.5,
             "#f7f7f7"
            ],
            [
             0.6,
             "#e6f5d0"
            ],
            [
             0.7,
             "#b8e186"
            ],
            [
             0.8,
             "#7fbc41"
            ],
            [
             0.9,
             "#4d9221"
            ],
            [
             1,
             "#276419"
            ]
           ],
           "sequential": [
            [
             0,
             "#0d0887"
            ],
            [
             0.1111111111111111,
             "#46039f"
            ],
            [
             0.2222222222222222,
             "#7201a8"
            ],
            [
             0.3333333333333333,
             "#9c179e"
            ],
            [
             0.4444444444444444,
             "#bd3786"
            ],
            [
             0.5555555555555556,
             "#d8576b"
            ],
            [
             0.6666666666666666,
             "#ed7953"
            ],
            [
             0.7777777777777778,
             "#fb9f3a"
            ],
            [
             0.8888888888888888,
             "#fdca26"
            ],
            [
             1,
             "#f0f921"
            ]
           ],
           "sequentialminus": [
            [
             0,
             "#0d0887"
            ],
            [
             0.1111111111111111,
             "#46039f"
            ],
            [
             0.2222222222222222,
             "#7201a8"
            ],
            [
             0.3333333333333333,
             "#9c179e"
            ],
            [
             0.4444444444444444,
             "#bd3786"
            ],
            [
             0.5555555555555556,
             "#d8576b"
            ],
            [
             0.6666666666666666,
             "#ed7953"
            ],
            [
             0.7777777777777778,
             "#fb9f3a"
            ],
            [
             0.8888888888888888,
             "#fdca26"
            ],
            [
             1,
             "#f0f921"
            ]
           ]
          },
          "colorway": [
           "#636efa",
           "#EF553B",
           "#00cc96",
           "#ab63fa",
           "#FFA15A",
           "#19d3f3",
           "#FF6692",
           "#B6E880",
           "#FF97FF",
           "#FECB52"
          ],
          "font": {
           "color": "#2a3f5f"
          },
          "geo": {
           "bgcolor": "white",
           "lakecolor": "white",
           "landcolor": "#E5ECF6",
           "showlakes": true,
           "showland": true,
           "subunitcolor": "white"
          },
          "hoverlabel": {
           "align": "left"
          },
          "hovermode": "closest",
          "mapbox": {
           "style": "light"
          },
          "paper_bgcolor": "white",
          "plot_bgcolor": "#E5ECF6",
          "polar": {
           "angularaxis": {
            "gridcolor": "white",
            "linecolor": "white",
            "ticks": ""
           },
           "bgcolor": "#E5ECF6",
           "radialaxis": {
            "gridcolor": "white",
            "linecolor": "white",
            "ticks": ""
           }
          },
          "scene": {
           "xaxis": {
            "backgroundcolor": "#E5ECF6",
            "gridcolor": "white",
            "gridwidth": 2,
            "linecolor": "white",
            "showbackground": true,
            "ticks": "",
            "zerolinecolor": "white"
           },
           "yaxis": {
            "backgroundcolor": "#E5ECF6",
            "gridcolor": "white",
            "gridwidth": 2,
            "linecolor": "white",
            "showbackground": true,
            "ticks": "",
            "zerolinecolor": "white"
           },
           "zaxis": {
            "backgroundcolor": "#E5ECF6",
            "gridcolor": "white",
            "gridwidth": 2,
            "linecolor": "white",
            "showbackground": true,
            "ticks": "",
            "zerolinecolor": "white"
           }
          },
          "shapedefaults": {
           "line": {
            "color": "#2a3f5f"
           }
          },
          "ternary": {
           "aaxis": {
            "gridcolor": "white",
            "linecolor": "white",
            "ticks": ""
           },
           "baxis": {
            "gridcolor": "white",
            "linecolor": "white",
            "ticks": ""
           },
           "bgcolor": "#E5ECF6",
           "caxis": {
            "gridcolor": "white",
            "linecolor": "white",
            "ticks": ""
           }
          },
          "title": {
           "x": 0.05
          },
          "xaxis": {
           "automargin": true,
           "gridcolor": "white",
           "linecolor": "white",
           "ticks": "",
           "title": {
            "standoff": 15
           },
           "zerolinecolor": "white",
           "zerolinewidth": 2
          },
          "yaxis": {
           "automargin": true,
           "gridcolor": "white",
           "linecolor": "white",
           "ticks": "",
           "title": {
            "standoff": 15
           },
           "zerolinecolor": "white",
           "zerolinewidth": 2
          }
         }
        },
        "title": {
         "text": "Giá/m² trung bình theo Loại hình căn hộ",
         "x": 0.5
        },
        "xaxis": {
         "anchor": "y",
         "categoryarray": [
          "Chung cư",
          "Chung cư mini",
          "Duplex",
          "Officetel",
          "Penthouse",
          "Tập thể"
         ],
         "categoryorder": "array",
         "domain": [
          0,
          1
         ],
         "title": {
          "text": "Loại hình căn hộ"
         }
        },
        "yaxis": {
         "anchor": "x",
         "domain": [
          0,
          1
         ],
         "title": {
          "text": "Giá/m² (triệu đồng)"
         }
        }
       }
      }
     },
     "metadata": {},
     "output_type": "display_data"
    }
   ],
   "source": [
    "# Tính giá trung bình theo loại hình căn hộ\n",
    "avg_price_per_type = df.groupby('Loại hình căn hộ')['Giá/m²'].mean().reset_index()\n",
    "\n",
    "# Vẽ biểu đồ thanh\n",
    "fig = px.bar(\n",
    "    avg_price_per_type, \n",
    "    x='Loại hình căn hộ', \n",
    "    y='Giá/m²', \n",
    "    title='Giá/m² trung bình theo Loại hình căn hộ',\n",
    "    color='Loại hình căn hộ',\n",
    "    labels={'Loại hình căn hộ': 'Loại hình căn hộ', 'Giá/m²': 'Giá/m² (triệu đồng)'},\n",
    "    text='Giá/m²'\n",
    ")\n",
    "fig.update_traces(texttemplate='%{text:.2f}', textposition='outside')\n",
    "fig.update_layout(xaxis_title='Loại hình căn hộ', yaxis_title='Giá/m² (triệu đồng)', title_x=0.5)\n",
    "fig.show()\n"
   ]
  },
  {
   "cell_type": "code",
   "execution_count": 10,
   "metadata": {},
   "outputs": [
    {
     "data": {
      "application/vnd.plotly.v1+json": {
       "config": {
        "plotlyServerURL": "https://plot.ly"
       },
       "data": [
        {
         "alignmentgroup": "True",
         "bingroup": "x",
         "hovertemplate": "Giá/m²=%{x}<br>count=%{y}<extra></extra>",
         "legendgroup": "",
         "marker": {
          "color": "red",
          "pattern": {
           "shape": ""
          }
         },
         "name": "",
         "nbinsx": 30,
         "offsetgroup": "",
         "orientation": "v",
         "showlegend": false,
         "type": "histogram",
         "x": [
          50.46,
          33,
          42.06,
          33.82,
          41.67,
          44.17,
          46.81,
          50.63,
          42.5,
          44.29,
          43.75,
          46.81,
          45,
          44.29,
          46.81,
          64.84,
          47.66,
          41.67,
          54.78,
          45.83,
          41.65,
          40,
          47.97,
          215,
          33,
          50.46,
          33.82,
          42.06,
          62.34,
          42.78,
          42.78,
          62.78,
          63.98,
          53.33,
          0.164571,
          36.67,
          25.24,
          55.38,
          54.37,
          238.46,
          209.52,
          95.21,
          55.71,
          88.24,
          91.07,
          117.5,
          65,
          71.88,
          70.97,
          70,
          65.2,
          78.08,
          129.81,
          64.55,
          53.19,
          65.19,
          40,
          160,
          38.89,
          52.7,
          28.33,
          62.08,
          38.16,
          57.95,
          42.86,
          41,
          54.84,
          141.67,
          49,
          228.84,
          82.9,
          46,
          54.83,
          54.78,
          60.77,
          44.76,
          52.31,
          43.33,
          85,
          64.55,
          67.03,
          67.96,
          56,
          56.8,
          59.14,
          87,
          61.4,
          43.75,
          66.67,
          54.38,
          56.8,
          40,
          72,
          42.78,
          100,
          59.38,
          60,
          42.5,
          54.44,
          238.46,
          40.83,
          63.39,
          45.06,
          60.62,
          38.67,
          59.65,
          75.93,
          56.62,
          56.25,
          66.67,
          59.23,
          62.79,
          60,
          56.25,
          65.12,
          37.2,
          58.16,
          66.28,
          36.21,
          46.43,
          51.43,
          0.45098,
          73.72,
          48.21,
          50,
          60.49,
          68.57,
          111.11,
          0.881987,
          110,
          96.43,
          14.27,
          13.48,
          13.91,
          65.96,
          64.62,
          50.65,
          48.42,
          31.47,
          36.28,
          69.03,
          241.18,
          44.07,
          97.14,
          51.27,
          243.9,
          70,
          64.29,
          58.11,
          41.91,
          58.82,
          67.74,
          52.94,
          45.28,
          47.71,
          64.18,
          61.29,
          59.31,
          54.17,
          66.05,
          66.36,
          182.22,
          62.78,
          46.47,
          78.08,
          29.83,
          66.38,
          54.44,
          120.48,
          100,
          51.61,
          63,
          42,
          47.22,
          44.87,
          105.68,
          65.97,
          56.88,
          77.33,
          45.94,
          52.21,
          55.56,
          46.73,
          45.94,
          43.59,
          53.49,
          52.21,
          75.65,
          57.28,
          51.36,
          36.5,
          52.38,
          49,
          76.92,
          37,
          58.33,
          62.34,
          62.5,
          58.18,
          42.06,
          32.92,
          68.94,
          54.17,
          77.86,
          44.57,
          56.45,
          39,
          50.73,
          64.1,
          41.43,
          52.67,
          73.08,
          50,
          55.88,
          49.37,
          70.63,
          46.22,
          48.37,
          38.8,
          0.0546049999999999,
          47.9,
          65,
          53.23,
          63.87,
          35.91,
          66.46,
          37.17,
          65,
          31.45,
          95.59,
          65.83,
          41,
          63.64,
          50.42,
          63.09,
          61.27,
          47.3,
          44.29,
          47.66,
          44,
          55.56,
          62,
          43.33,
          57,
          64.58,
          51.85,
          36.67,
          40.91,
          60.71,
          36.67,
          185.37,
          72.03,
          46.9,
          34.29,
          56.49,
          75.27,
          43.48,
          22.86,
          85.24,
          49,
          93.06,
          61.43,
          226.03,
          61.54,
          54.02,
          52.11,
          44.68,
          43.62,
          40,
          41.43,
          50,
          44.29,
          44.05,
          43.75,
          60.47,
          43.33,
          46.81,
          48.39,
          44.57,
          44.57,
          37.27,
          85.31,
          73.72,
          45.62,
          81.78,
          60,
          58.82,
          61.82,
          44,
          49,
          252.73,
          208.75,
          53.12,
          51.11,
          49,
          46.53,
          37.94,
          44.29,
          64.6,
          49,
          54.18,
          13.89,
          46.43,
          70.66,
          10,
          13,
          15.48,
          10,
          52.31,
          41.67,
          43.33,
          36.54,
          43.08,
          72.12,
          58.68,
          60.98,
          45.62,
          173.68,
          33.57,
          50.29,
          58.51,
          62.69,
          69.13,
          66.3,
          51.61,
          70.62,
          61.54,
          75.76,
          43.48,
          68.57,
          69.31,
          90.81,
          39.44,
          59.38,
          59.56,
          55.93,
          63.45,
          59.64,
          59.33,
          40,
          63.49,
          69.07,
          42.86,
          64.1,
          50,
          70,
          42.06,
          66.04,
          61.88,
          54.02,
          56.15,
          53.29,
          79.27,
          40.56,
          77.5,
          58.92,
          54.02,
          20,
          42,
          50.75,
          79.17,
          46.15,
          28.89,
          93.66,
          49.82,
          42,
          54.02,
          43.75,
          34.42,
          46.2,
          61.25,
          72.09,
          75.38,
          55.2,
          63.33,
          41.67,
          58.47,
          52.81,
          47.23,
          58.62,
          77.5,
          40.43,
          0.033571,
          42.06,
          72.83,
          32.71,
          46.25,
          41.33,
          56.67,
          38.16,
          46.25,
          72.35,
          42.65,
          215.56,
          43.7,
          44.92,
          45.96,
          30.67,
          45.8,
          70,
          49,
          70.59,
          67.19,
          51.18,
          43.33,
          34.62,
          45.72,
          43.75,
          55.72,
          24.44,
          57.5,
          75.35,
          43.17,
          56.25,
          46.4,
          32.71,
          63.33,
          82.22,
          65.79,
          49,
          51.21,
          40.38,
          46.43,
          32.86,
          33.41,
          44.67,
          54.17,
          54.84,
          34,
          43.5,
          110.21,
          67.5,
          39.62,
          60,
          49.44,
          38.42,
          60.29,
          42.22,
          62.93,
          35.48,
          69.33,
          44.29,
          46,
          55.72,
          44.05,
          64.81,
          71.77,
          50.91,
          50.91,
          73.26,
          53.12,
          15.48,
          13.04,
          70.65,
          13,
          65.79,
          14.44,
          67.21,
          54.5,
          61.2,
          62,
          55.56,
          63.45,
          52.86,
          40.88,
          34.56,
          49.44,
          53.28,
          63.45,
          50,
          55.77,
          66.43,
          46.81,
          54.17,
          37.01,
          37.94,
          49.29,
          68.18,
          62.79,
          43.75,
          42.5,
          44.68,
          41.43,
          41.67,
          32.5,
          53.72,
          29.74,
          78.21,
          56.15,
          52.68,
          54.5,
          69.02,
          36.88,
          55.49,
          40,
          266.67,
          60,
          25.11,
          55.43,
          66.92,
          68.74,
          58.33,
          52.6,
          72.47,
          44.17,
          42.71,
          46.81,
          51.61,
          43.75,
          62.88,
          71.88,
          42.65,
          43,
          45.06,
          51.11,
          75,
          58.57,
          74.42,
          46.81,
          68.97,
          53.23,
          45,
          48.15,
          52.2,
          65.79,
          63.29,
          64.71,
          12.67,
          12.93,
          12.07,
          47.98,
          59.62,
          58.46,
          0.090909,
          35.48,
          50.67,
          48.65,
          0.0352,
          51.64,
          54.87,
          61.84,
          61.64,
          74.16,
          41.3,
          61.33,
          75.61,
          75.61,
          27.5,
          46.15,
          43.33,
          70,
          48.33,
          59.38,
          42.65,
          0.809353,
          37.14,
          56.45,
          39.07,
          42.86,
          49.49,
          72.65,
          43.75,
          35.18,
          45.65,
          72.73,
          73.81,
          51.47,
          25.04,
          50.92,
          43.75,
          69.44,
          53.38,
          51.51,
          52.94,
          46.86,
          45.41,
          44.38,
          46.81,
          65.45,
          53.04,
          46.07,
          60,
          61.45,
          65.12,
          39.76,
          43.33,
          48.4,
          56.9,
          70,
          25,
          61.35,
          26,
          70.27,
          44.68,
          40,
          48.39,
          38.57,
          41.25,
          55.91,
          92.45,
          69.61,
          46.81,
          41.18,
          68.75,
          53.23,
          44.25,
          52.7,
          35.42,
          83.59,
          60.62,
          12.44,
          66.13,
          42.86,
          33.33,
          35.09,
          71.14,
          68.18,
          68.89,
          57,
          53.41,
          245.76,
          41.67,
          46.81,
          56.52,
          45.67,
          66.48,
          61.72,
          65.93,
          67.19,
          62.77,
          69.23,
          13,
          55.18,
          50.86,
          0.063974,
          48.89,
          62.22,
          15.48,
          58.53,
          36,
          43.38,
          41.33,
          45.83,
          13,
          65.12,
          44.38,
          41.91,
          52.58,
          75,
          64.29,
          50.43,
          63.89,
          39.3,
          75.81,
          13.93,
          13.64,
          13.93,
          13.48,
          60.29,
          45,
          43.75,
          41.67,
          69.5,
          46.81,
          36.32,
          17.68,
          41.9,
          36.92,
          42.86,
          40.47,
          86.73,
          58.46,
          38.27,
          44.83,
          53.23,
          42.5,
          39.47,
          48,
          38.3,
          56.54,
          51.67,
          49,
          51.18,
          58.57,
          64.71,
          53.74,
          54.75,
          40.28,
          43.84,
          51.5,
          37.65,
          53.04,
          34.5,
          55.91,
          45.74,
          41.91,
          42.5,
          43.62,
          70.43,
          51.18,
          55.19,
          51.67,
          48.21,
          58.54,
          64.29,
          55.49,
          55,
          194.34,
          42.73,
          64.64,
          171.7,
          69.15,
          53.12,
          71.74,
          68.12,
          36,
          256.52,
          64.55,
          66.43,
          56.38,
          70.93,
          59.62,
          237.78,
          256.67,
          205.63,
          4,
          50,
          32.08,
          47,
          44.55,
          45,
          73.08,
          43.33,
          59.32,
          62.5,
          32.73,
          53.12,
          71.88,
          53.23,
          60.76,
          33.17,
          62,
          230,
          86,
          62,
          238.03,
          43.38,
          40,
          41.43,
          37.78,
          92.59,
          106.15,
          43.33,
          62,
          41.99,
          41.07,
          46.81,
          58.31,
          66.36,
          45,
          17.78,
          33,
          71.15,
          34,
          95.83,
          30,
          46.43,
          43.08,
          32.29,
          54.29,
          49.07,
          59.85,
          49.29,
          49.29,
          70.53,
          59.38,
          45.9,
          70.53,
          46.43,
          44.19,
          50.82,
          46.43,
          45.9,
          40,
          37.78,
          42.14,
          63.7,
          59.42,
          68.42,
          70,
          61.9,
          64.81,
          70.19,
          60,
          78,
          44.05,
          54.52,
          43.75,
          42.37,
          41.67,
          186.67,
          13.04,
          17.11,
          48.52,
          72.34,
          48.04,
          53.62,
          27.92,
          42.65,
          28.17,
          62.69,
          43.33,
          47.84,
          42.45,
          46.81,
          37.57,
          44.57,
          43.29,
          47.3,
          73.95,
          48.55,
          46.15,
          43.33,
          77.84,
          31.43,
          71.88,
          223.64,
          45.15,
          41.44,
          52.7,
          43.75,
          62.22,
          67.16,
          68.57,
          47.2,
          49.09,
          54.17,
          56.25,
          46.67,
          65,
          54.55,
          42.86,
          53.23,
          43.75,
          42.5,
          40,
          41.67,
          44.68,
          50,
          50.71,
          58.67,
          44.68,
          42.86,
          41.18,
          59.25,
          59.25,
          42.5,
          65.88,
          63.64,
          58.67,
          55.56,
          58.57,
          0.0579709999999999,
          55.43,
          54.55,
          42.67,
          54.41,
          0.373831,
          0.5315209999999999,
          71.43,
          38.46,
          52,
          66.67,
          66.33,
          13.64,
          13.02,
          50.71,
          61.82,
          85,
          56.51,
          42.42,
          44,
          42.11,
          53.33,
          46.03,
          58.23,
          12.93,
          64.81,
          45.28,
          70.53,
          60.98,
          73.21,
          43.86,
          47.3,
          216.36,
          48.94,
          43.88,
          57.14,
          44.17,
          222.58,
          63.78,
          50.85,
          46.81,
          43.25,
          44.17,
          72,
          41.67,
          44.17,
          50.97,
          43.57,
          43.75,
          46.81,
          35.83,
          48.12,
          45,
          35.29,
          46.05,
          50.89,
          68.18,
          64.67,
          85,
          64.81,
          58.94,
          38.4,
          91.67,
          84.62,
          64.44,
          54.29,
          40.88,
          64.1,
          42.86,
          52.95,
          34.75,
          60.91,
          31.54,
          49.44,
          57.26,
          46.4,
          71.63,
          107.69,
          73.02,
          53.07,
          42.5,
          44.44,
          18.15,
          42.65,
          20.36,
          45.74,
          53.23,
          97.07,
          59.38,
          82.67,
          74.42,
          73.02,
          46.25,
          41.43,
          44.68,
          41.67,
          67.17,
          80,
          50.79,
          58.51,
          54.9,
          43.75,
          35.36,
          59.74,
          34.4,
          30.73,
          30,
          72.46,
          41.67,
          58.33,
          47.66,
          42.86,
          67.11,
          38,
          93.1,
          74.49,
          58.54,
          62.22,
          62.96,
          63.76,
          57,
          68,
          55.91,
          53.95,
          51.61,
          70.56,
          28,
          31.47,
          39.47,
          61.29,
          38.08,
          14.13,
          12,
          21.82,
          0.065686,
          43.75,
          12,
          11.54,
          42.65,
          61.82,
          68.6,
          46.25,
          70,
          59.15,
          26.88,
          64.38,
          40.67,
          68.38,
          25.32,
          40.62,
          60,
          50,
          48.08,
          48.08,
          51.5,
          36.17,
          35.14,
          70.59,
          65.24,
          45.06,
          51.28,
          53.64,
          31.89,
          71.88,
          45.65,
          28.75,
          44.35,
          33.1,
          27.5,
          27.5,
          41.09,
          44.23,
          46.25,
          56.94,
          63.64,
          66.67,
          63.83,
          67.19,
          100,
          60,
          72.22,
          55.71,
          53.47,
          36.06,
          62.5,
          57.45,
          46.74,
          14.55,
          13.64,
          68.24,
          33.82,
          61.96,
          65.62,
          56.06,
          56.49,
          45,
          20.59,
          105,
          44.38,
          165.52,
          59.7,
          218,
          37.12,
          65.62,
          51.54,
          61.82,
          74.42,
          60,
          56.52,
          50,
          60.61,
          63.62,
          45.45,
          60,
          58.18,
          56.73,
          65.43,
          60,
          55.91,
          82.86,
          59.64,
          39.66,
          75.81,
          71.81,
          79.29,
          44.58,
          42.86,
          43.88,
          68.75,
          311.11,
          74.64,
          43.16,
          113.5,
          49.17,
          56.35,
          80.65,
          61.72,
          7.36,
          46.43,
          49.29,
          53.49,
          66.67,
          72.22,
          226.15,
          55.93,
          64.98,
          65.12,
          63.64,
          61.82,
          40.95,
          180.85,
          49.12,
          28.95,
          41.33,
          70.67,
          57.41,
          28.95,
          37.06,
          100,
          44.29,
          59.78,
          63.64,
          52.14,
          46.2,
          46.81,
          42.86,
          44.05,
          45.71,
          44.29,
          77.86,
          39,
          35.96,
          69.87,
          59.43,
          53.37,
          60.71,
          36.17,
          38.1,
          43.33,
          47.22,
          68.97,
          62.96,
          73.42,
          69.77,
          86.79,
          46.81,
          19.6,
          11.23,
          44.2,
          43.33,
          43.75,
          47.87,
          44.29,
          44.59,
          54.09,
          54,
          0.798611,
          62.04,
          50.76,
          47.02,
          0.052571,
          32.22,
          41.25,
          69.47,
          192.31,
          46.38,
          41.67,
          57.79,
          44,
          47.44,
          43.33,
          45.96,
          52.11,
          45.38,
          64.12,
          46.79,
          40.67,
          226.03,
          185,
          78.33,
          210,
          39.73,
          40.71,
          40,
          62.5,
          42.86,
          234.78,
          222.41,
          266.67,
          227.59,
          171.5,
          188.24,
          44.64,
          56.94,
          46.15,
          52.68,
          42.5,
          44.68,
          41.67,
          50.46,
          55.98,
          49.15,
          140.62,
          60,
          51.49,
          213.24,
          234.48,
          35.71,
          59.02,
          59.29,
          65.07,
          44.64,
          51.55,
          41.67,
          134.27,
          50.61,
          40.62,
          132,
          64.29,
          35.45,
          40.62,
          21.32,
          80.65,
          79.29,
          71.81,
          21.89,
          67.27,
          13.71,
          14.15,
          16.36,
          56,
          227.27,
          50.61,
          54.29,
          53.07,
          44.29,
          193.18,
          43.61,
          51.5,
          40.62,
          58.77,
          40.48,
          212.5,
          50.58,
          56.15,
          52.11,
          26.73,
          24,
          30,
          68.75,
          50,
          54.18,
          54.18,
          31.25,
          36,
          36,
          38.64,
          59,
          15.62,
          13,
          14.13,
          14.44,
          70.32,
          47.62,
          69.13,
          56.79,
          49.5,
          49,
          27.65,
          317.5,
          47.46,
          42.5,
          37.5,
          36.25,
          46.67,
          37.14,
          43.33,
          45.06,
          46.38,
          43.14,
          22.22,
          64.29,
          12.93,
          14.29,
          13.79,
          50,
          44.8,
          56.4,
          54.17,
          72.5,
          61.74,
          45.24,
          33.67,
          14.15,
          13.64,
          14.55,
          45,
          43.33,
          41.43,
          51.61,
          44.59,
          44.44,
          61.25,
          43.33,
          66.25,
          61.33,
          60.1,
          45.14,
          48.65,
          63.2,
          47.87,
          57.5,
          43.33,
          55.26,
          56.76,
          43.75,
          55.71,
          45,
          46.81,
          52.58,
          54.48,
          257.89,
          220,
          63.71,
          30.89,
          97.56,
          57.97,
          46.81,
          52.58,
          83.33,
          43.75,
          43.33,
          44.68,
          42.86,
          42.65,
          58.53,
          61.25,
          32,
          43.64,
          61.25,
          36,
          51.61,
          67.11,
          44,
          53.23,
          44,
          49.21,
          63.42,
          64.67,
          60.19,
          267.44,
          42.38,
          43.57,
          60.61,
          41.67,
          69.33,
          46.81,
          42.38,
          52.58,
          41.67,
          50.74,
          38.04,
          40.86,
          61.75,
          46.81,
          47.02,
          66.91,
          1.2,
          61.9,
          79.31,
          43.88,
          43.78,
          50.59,
          52.73,
          50,
          53.33,
          50.68,
          41.43,
          41.67,
          44.68,
          51.61,
          42.5,
          49.37,
          13,
          53.19,
          38.75,
          36.33,
          12,
          16.67,
          56.14,
          42.86,
          41.67,
          43.44,
          66.82,
          42.5,
          64.5,
          41.43,
          44.68,
          43.33,
          57.67,
          35.22,
          56.67,
          50.71,
          47.78,
          81.62,
          71.81,
          81.58,
          67.29,
          63.64,
          220,
          98.68,
          72.32,
          69.77,
          72.09,
          51.14,
          64,
          34.12,
          67.04,
          47,
          73.53,
          44.17,
          56,
          226.32,
          46.67,
          75.29,
          47.06,
          230.77,
          51.62,
          47.88,
          53.9,
          40.25,
          73.53,
          57.5,
          52.44,
          55.11,
          63.49,
          0.464285,
          48.84,
          42.65,
          73.33,
          60,
          44.17,
          77.27,
          50,
          12.07,
          12.93,
          74.71,
          42.65,
          43.75,
          45,
          41.88,
          43.75,
          48.84,
          69.62,
          52.97,
          36.54,
          33.57,
          35.8,
          185.71,
          36,
          163.33,
          43.33,
          42.86,
          49.67,
          66.48,
          49,
          42.86,
          42.65,
          43.75,
          44.68,
          41.67,
          41.67,
          13.64,
          14.27,
          131.25,
          37.67,
          40.98,
          240.94,
          96,
          51.18,
          72.61,
          39.29,
          58.92,
          48.53,
          48.78,
          53.64,
          0.7354400000000001,
          48.53,
          59.41,
          55.88,
          40,
          57.06,
          71.88,
          48.41,
          51.32,
          44.46,
          50.46,
          38.33,
          64.63,
          58.75,
          37.61,
          40.34,
          50,
          55.4,
          39.17,
          0.041966,
          39.58,
          254.29,
          84.11,
          66.67,
          46.76,
          42.45,
          48.53,
          46.53,
          46.53,
          40.71,
          56.52,
          47.02,
          15.22,
          47.22,
          12,
          43.75,
          46.81,
          51.61,
          73.73,
          42.79,
          48.19,
          41.43,
          41.25,
          41.67,
          44.68,
          48.39,
          37.27,
          67.96,
          43.16,
          59.43,
          63.89,
          88.89,
          43.64,
          34.88,
          47.08,
          0.096629,
          241.84,
          145.19,
          12.07,
          50,
          32.5,
          75,
          46.34,
          50,
          46.32,
          50.48,
          60.94,
          57.63,
          93.98,
          47.31,
          50.14,
          58.63,
          47.64,
          49.21,
          41.46,
          60.98,
          69.77,
          63.64,
          103.72,
          46.81,
          68.14,
          52,
          37.5,
          42.09,
          45.81,
          55.56,
          35,
          35.8,
          37.5,
          36,
          15,
          39.8,
          30,
          37.9,
          51.95,
          30.77,
          49.23,
          70.37,
          45.43,
          44.27,
          43.12,
          41.43,
          45.74,
          41.18,
          48,
          1.02,
          46.81,
          44.68,
          46.81,
          51.61,
          42.86,
          43.33,
          43.75,
          34.17,
          80,
          15.38,
          13.59,
          66.84,
          64.04,
          46.43,
          60.49,
          69.77,
          72.86,
          42.65,
          63.21,
          67.44,
          115.22,
          66.27,
          230,
          68.97,
          46.53,
          38.24,
          46.6,
          44.07,
          71.81,
          101.32,
          10.73,
          13,
          43.75,
          45,
          53.23,
          43.38,
          54.67,
          44.17,
          41.67,
          46.81,
          40,
          42.5,
          44.68,
          42.86,
          41.67,
          53.23,
          42.86,
          0.028571,
          44.05,
          63.57,
          65.62,
          56.88,
          245.76,
          40,
          41.88,
          41.67,
          44.68,
          51.61,
          72.92,
          34.89,
          57.89,
          48.84,
          41.19,
          64.84,
          41.5,
          44.14,
          31,
          43.36,
          0.685314,
          74.84,
          45.45,
          68.69,
          67.5,
          62.77,
          58.24,
          57.14,
          75.71,
          34.88,
          47.5,
          75,
          38.67,
          52.38,
          46.15,
          46.97,
          28.78,
          53.68,
          47.26,
          71.35,
          42.71,
          42.65,
          42.38,
          11.67,
          53.23,
          62.24,
          43.12,
          45.14,
          46.15,
          61.18,
          72.58,
          71.88,
          0.181818,
          52.58,
          15.48,
          13,
          15.48,
          13.04,
          50.46,
          43.75,
          13.64,
          13.96,
          44.07,
          68.33,
          45.41,
          72.92,
          62.86,
          43.33,
          41.18,
          23,
          53.31,
          66.28,
          46.81,
          43.33,
          41.67,
          67.44,
          41.67,
          56.9,
          48.55,
          58.55,
          42.38,
          41.67,
          45.74,
          39.13,
          63.17,
          54.12,
          57.14,
          42.11,
          45,
          73.48,
          83,
          46.53,
          57.83,
          62.63,
          63.55,
          46.81,
          44.17,
          63.47,
          49.66,
          44.68,
          73.38,
          66.67,
          68.97,
          44.39,
          68.18,
          41.2,
          52.31,
          40,
          54.44,
          17.31,
          21.62,
          73.41,
          71.81,
          64,
          1.78,
          75,
          45,
          64.73,
          69.77,
          70.97,
          41.43,
          40.47,
          45.08,
          44.17,
          46.81,
          44.61,
          51.56,
          57.14,
          42.86,
          43.75,
          179.81,
          66.85,
          43.75,
          35.92,
          65.26,
          13.64,
          13.64,
          16.36,
          16.36,
          16.36,
          43.75,
          51.61,
          71.81,
          47,
          51.61,
          34.12,
          15.48,
          52.38,
          13,
          46.81,
          43.75,
          41.67,
          42.86,
          42.65,
          16.67,
          63.96,
          51.26,
          71.43,
          263.16,
          60.91,
          44.29,
          43.33,
          27.8,
          74.47,
          44.17,
          46.81,
          0.590909,
          29,
          53.23,
          40.71,
          58.55,
          58.33,
          44.29,
          52.58,
          38.21,
          41.58,
          38.08,
          41.67,
          33.64,
          35.58,
          35.77,
          50,
          69.52,
          41.43,
          47.23,
          50,
          63.33,
          14.38,
          64.81,
          48.89,
          50,
          63.29,
          61.65,
          52.9,
          35.71,
          44.68,
          40,
          41.25,
          51.29,
          41.67,
          53.8,
          23,
          62,
          52.14,
          102.22,
          30.77,
          55.71,
          44.67,
          46.88,
          84.21,
          76.34,
          188.89,
          70.62,
          73.21,
          73.21,
          64.44,
          65.49,
          66.91,
          69.57,
          75.88,
          61.84,
          67.97,
          33.78,
          47.5,
          88.93,
          58,
          54.61,
          55.71,
          116.67,
          234.57,
          50,
          13.89,
          13.64,
          12.5,
          54.84,
          45.14,
          58.18,
          44.38,
          42.14,
          42.83,
          24.55,
          22.12,
          24.04,
          46.81,
          44.33,
          56.35,
          82.49,
          67.74,
          41.07,
          43.33,
          50,
          46.81,
          43.12,
          41.07,
          51.61,
          66.67,
          55.88,
          45.26,
          51.82,
          49.37,
          46.95,
          46.81,
          96.35,
          43.75,
          62.96,
          51.32,
          75,
          44.38,
          42.5,
          44.68,
          66.43,
          53.23,
          64.06,
          44.29,
          43.75,
          44.29,
          42.65,
          51.82,
          47.87,
          53.23,
          43.75,
          44.5,
          42.43,
          56.62,
          255.56,
          50,
          200,
          64.09,
          41.96,
          50.91,
          61.11,
          69.77,
          72.95,
          60.34,
          71.67,
          49.12,
          217.34,
          42.04,
          67.44,
          70.19,
          71.4,
          56.79,
          1.12,
          70.1,
          56.18,
          41.44,
          62.79,
          60,
          86.15,
          44.05,
          42.86,
          2.08,
          50.54,
          71.4,
          62.19,
          40.71,
          44.68,
          48.39,
          17.14,
          14.29,
          13.04,
          14.13,
          59.38,
          43.57,
          46.81,
          51.61,
          43.75,
          43.33,
          43.1,
          42.86,
          61.82,
          50.46,
          46.15,
          45,
          44.29,
          74,
          41.67,
          42.65,
          43.75,
          49.55,
          41.43,
          44.68,
          41.67,
          55.85,
          30.83,
          74.42,
          51.61,
          47.14,
          13.39,
          12.07,
          12.07,
          41.18,
          47.86,
          52.38,
          66.25,
          46.44,
          70.71,
          70.77,
          58.82,
          57.14,
          28.95,
          13.64,
          13.73,
          13.27,
          38.08,
          29.81,
          13,
          13.04,
          12,
          68.89,
          53.57,
          48.17,
          39.58,
          37.14,
          46.73,
          28,
          64.81,
          33.33,
          39.92,
          104.4,
          171.43,
          60.2,
          75.42,
          41.55,
          118.18,
          38.36,
          40.3,
          54.05,
          0.048885,
          50,
          58.57,
          3.78,
          194.12,
          41.11,
          67.16,
          68.33,
          65.62,
          45.28,
          61.22,
          89.92,
          56.67,
          29.05,
          138.89,
          54.18,
          46,
          193.55,
          64.81,
          0.6,
          0.498561,
          48.39,
          37.82,
          42.24,
          57.8,
          121.43,
          0.562162,
          42.8,
          94.12,
          169.64,
          59.21,
          72.94,
          0.628571,
          0.05,
          82.98,
          30.77,
          60.77,
          21.43,
          7.46,
          71.88,
          47.38,
          44.67,
          0.338345,
          0.338345,
          42.42,
          61.84,
          58.67,
          47.88,
          21.33,
          51,
          50.91,
          63.04,
          37.6,
          37.62,
          63.75,
          62.5,
          56.47,
          78.57,
          44.58,
          39.29,
          294.58,
          36,
          52.73,
          65.31,
          42.5,
          64.81,
          115.54,
          69.29,
          0.6329109999999999,
          42.5,
          75,
          4,
          66.67,
          53.52,
          85.6,
          79.17,
          38.28,
          49,
          48.5,
          58.15,
          31.6,
          46.67,
          56.25,
          193.33,
          55.07,
          63.16,
          0.897435,
          72.32,
          60.74,
          464.91,
          53.49,
          0.032679,
          27.38,
          72.47,
          69.46,
          47.83,
          57.61,
          61.02,
          41.91,
          46.81,
          51.18,
          34.69,
          47.38,
          52.52,
          52.33,
          37.69,
          51.18,
          57.46,
          38.13,
          57.61,
          50,
          61.25,
          0.054166,
          60.03,
          60,
          55.88,
          75,
          0.0578459999999999,
          58.46,
          64.18,
          48.36,
          54.25,
          80,
          247.66,
          0.056338,
          51.81,
          220,
          47.54,
          56.98,
          54.22,
          53.38,
          44.71,
          30.33,
          55.49,
          37.69,
          25,
          43,
          48.15,
          90.12,
          63.02,
          40.62,
          45.71,
          64.81,
          34.84,
          97.74,
          63.51,
          90,
          40,
          44.29,
          39.68,
          55.13,
          61.02,
          65.12,
          59.65,
          55.02,
          44.04,
          42.27,
          49.33,
          118.18,
          47.5,
          39.9,
          70.42,
          40,
          70,
          39.52,
          47.26,
          68.67,
          42.29,
          70.45,
          72.73,
          64.75,
          42.27,
          57.24,
          76.74,
          66.36,
          44.71,
          43.33,
          250,
          122.45,
          67.44,
          0.014035,
          85,
          57.2,
          59.33,
          46.39,
          38.46,
          254.55,
          41.67,
          58.18,
          52.29,
          69.62,
          51.33,
          26.67,
          65.49,
          0.840707,
          37,
          58.12,
          52.46,
          54.13,
          54.32,
          77.94,
          32.73,
          100,
          197.5,
          78.69,
          80,
          43.48,
          37.67,
          95.21,
          67.5,
          39.23,
          53.41,
          187.23,
          65.62,
          48.48,
          44.55,
          0.063636,
          68.24,
          32.69,
          192.71,
          111.25,
          0.02985,
          88.54,
          64,
          0.725,
          63.26,
          51.5,
          37.5,
          104.49,
          72.3,
          56,
          85.53,
          88.66
         ],
         "xaxis": "x",
         "yaxis": "y"
        },
        {
         "alignmentgroup": "True",
         "hovertemplate": "Giá/m²=%{x}<extra></extra>",
         "legendgroup": "",
         "marker": {
          "color": "red"
         },
         "name": "",
         "notched": true,
         "offsetgroup": "",
         "showlegend": false,
         "type": "box",
         "x": [
          50.46,
          33,
          42.06,
          33.82,
          41.67,
          44.17,
          46.81,
          50.63,
          42.5,
          44.29,
          43.75,
          46.81,
          45,
          44.29,
          46.81,
          64.84,
          47.66,
          41.67,
          54.78,
          45.83,
          41.65,
          40,
          47.97,
          215,
          33,
          50.46,
          33.82,
          42.06,
          62.34,
          42.78,
          42.78,
          62.78,
          63.98,
          53.33,
          0.164571,
          36.67,
          25.24,
          55.38,
          54.37,
          238.46,
          209.52,
          95.21,
          55.71,
          88.24,
          91.07,
          117.5,
          65,
          71.88,
          70.97,
          70,
          65.2,
          78.08,
          129.81,
          64.55,
          53.19,
          65.19,
          40,
          160,
          38.89,
          52.7,
          28.33,
          62.08,
          38.16,
          57.95,
          42.86,
          41,
          54.84,
          141.67,
          49,
          228.84,
          82.9,
          46,
          54.83,
          54.78,
          60.77,
          44.76,
          52.31,
          43.33,
          85,
          64.55,
          67.03,
          67.96,
          56,
          56.8,
          59.14,
          87,
          61.4,
          43.75,
          66.67,
          54.38,
          56.8,
          40,
          72,
          42.78,
          100,
          59.38,
          60,
          42.5,
          54.44,
          238.46,
          40.83,
          63.39,
          45.06,
          60.62,
          38.67,
          59.65,
          75.93,
          56.62,
          56.25,
          66.67,
          59.23,
          62.79,
          60,
          56.25,
          65.12,
          37.2,
          58.16,
          66.28,
          36.21,
          46.43,
          51.43,
          0.45098,
          73.72,
          48.21,
          50,
          60.49,
          68.57,
          111.11,
          0.881987,
          110,
          96.43,
          14.27,
          13.48,
          13.91,
          65.96,
          64.62,
          50.65,
          48.42,
          31.47,
          36.28,
          69.03,
          241.18,
          44.07,
          97.14,
          51.27,
          243.9,
          70,
          64.29,
          58.11,
          41.91,
          58.82,
          67.74,
          52.94,
          45.28,
          47.71,
          64.18,
          61.29,
          59.31,
          54.17,
          66.05,
          66.36,
          182.22,
          62.78,
          46.47,
          78.08,
          29.83,
          66.38,
          54.44,
          120.48,
          100,
          51.61,
          63,
          42,
          47.22,
          44.87,
          105.68,
          65.97,
          56.88,
          77.33,
          45.94,
          52.21,
          55.56,
          46.73,
          45.94,
          43.59,
          53.49,
          52.21,
          75.65,
          57.28,
          51.36,
          36.5,
          52.38,
          49,
          76.92,
          37,
          58.33,
          62.34,
          62.5,
          58.18,
          42.06,
          32.92,
          68.94,
          54.17,
          77.86,
          44.57,
          56.45,
          39,
          50.73,
          64.1,
          41.43,
          52.67,
          73.08,
          50,
          55.88,
          49.37,
          70.63,
          46.22,
          48.37,
          38.8,
          0.0546049999999999,
          47.9,
          65,
          53.23,
          63.87,
          35.91,
          66.46,
          37.17,
          65,
          31.45,
          95.59,
          65.83,
          41,
          63.64,
          50.42,
          63.09,
          61.27,
          47.3,
          44.29,
          47.66,
          44,
          55.56,
          62,
          43.33,
          57,
          64.58,
          51.85,
          36.67,
          40.91,
          60.71,
          36.67,
          185.37,
          72.03,
          46.9,
          34.29,
          56.49,
          75.27,
          43.48,
          22.86,
          85.24,
          49,
          93.06,
          61.43,
          226.03,
          61.54,
          54.02,
          52.11,
          44.68,
          43.62,
          40,
          41.43,
          50,
          44.29,
          44.05,
          43.75,
          60.47,
          43.33,
          46.81,
          48.39,
          44.57,
          44.57,
          37.27,
          85.31,
          73.72,
          45.62,
          81.78,
          60,
          58.82,
          61.82,
          44,
          49,
          252.73,
          208.75,
          53.12,
          51.11,
          49,
          46.53,
          37.94,
          44.29,
          64.6,
          49,
          54.18,
          13.89,
          46.43,
          70.66,
          10,
          13,
          15.48,
          10,
          52.31,
          41.67,
          43.33,
          36.54,
          43.08,
          72.12,
          58.68,
          60.98,
          45.62,
          173.68,
          33.57,
          50.29,
          58.51,
          62.69,
          69.13,
          66.3,
          51.61,
          70.62,
          61.54,
          75.76,
          43.48,
          68.57,
          69.31,
          90.81,
          39.44,
          59.38,
          59.56,
          55.93,
          63.45,
          59.64,
          59.33,
          40,
          63.49,
          69.07,
          42.86,
          64.1,
          50,
          70,
          42.06,
          66.04,
          61.88,
          54.02,
          56.15,
          53.29,
          79.27,
          40.56,
          77.5,
          58.92,
          54.02,
          20,
          42,
          50.75,
          79.17,
          46.15,
          28.89,
          93.66,
          49.82,
          42,
          54.02,
          43.75,
          34.42,
          46.2,
          61.25,
          72.09,
          75.38,
          55.2,
          63.33,
          41.67,
          58.47,
          52.81,
          47.23,
          58.62,
          77.5,
          40.43,
          0.033571,
          42.06,
          72.83,
          32.71,
          46.25,
          41.33,
          56.67,
          38.16,
          46.25,
          72.35,
          42.65,
          215.56,
          43.7,
          44.92,
          45.96,
          30.67,
          45.8,
          70,
          49,
          70.59,
          67.19,
          51.18,
          43.33,
          34.62,
          45.72,
          43.75,
          55.72,
          24.44,
          57.5,
          75.35,
          43.17,
          56.25,
          46.4,
          32.71,
          63.33,
          82.22,
          65.79,
          49,
          51.21,
          40.38,
          46.43,
          32.86,
          33.41,
          44.67,
          54.17,
          54.84,
          34,
          43.5,
          110.21,
          67.5,
          39.62,
          60,
          49.44,
          38.42,
          60.29,
          42.22,
          62.93,
          35.48,
          69.33,
          44.29,
          46,
          55.72,
          44.05,
          64.81,
          71.77,
          50.91,
          50.91,
          73.26,
          53.12,
          15.48,
          13.04,
          70.65,
          13,
          65.79,
          14.44,
          67.21,
          54.5,
          61.2,
          62,
          55.56,
          63.45,
          52.86,
          40.88,
          34.56,
          49.44,
          53.28,
          63.45,
          50,
          55.77,
          66.43,
          46.81,
          54.17,
          37.01,
          37.94,
          49.29,
          68.18,
          62.79,
          43.75,
          42.5,
          44.68,
          41.43,
          41.67,
          32.5,
          53.72,
          29.74,
          78.21,
          56.15,
          52.68,
          54.5,
          69.02,
          36.88,
          55.49,
          40,
          266.67,
          60,
          25.11,
          55.43,
          66.92,
          68.74,
          58.33,
          52.6,
          72.47,
          44.17,
          42.71,
          46.81,
          51.61,
          43.75,
          62.88,
          71.88,
          42.65,
          43,
          45.06,
          51.11,
          75,
          58.57,
          74.42,
          46.81,
          68.97,
          53.23,
          45,
          48.15,
          52.2,
          65.79,
          63.29,
          64.71,
          12.67,
          12.93,
          12.07,
          47.98,
          59.62,
          58.46,
          0.090909,
          35.48,
          50.67,
          48.65,
          0.0352,
          51.64,
          54.87,
          61.84,
          61.64,
          74.16,
          41.3,
          61.33,
          75.61,
          75.61,
          27.5,
          46.15,
          43.33,
          70,
          48.33,
          59.38,
          42.65,
          0.809353,
          37.14,
          56.45,
          39.07,
          42.86,
          49.49,
          72.65,
          43.75,
          35.18,
          45.65,
          72.73,
          73.81,
          51.47,
          25.04,
          50.92,
          43.75,
          69.44,
          53.38,
          51.51,
          52.94,
          46.86,
          45.41,
          44.38,
          46.81,
          65.45,
          53.04,
          46.07,
          60,
          61.45,
          65.12,
          39.76,
          43.33,
          48.4,
          56.9,
          70,
          25,
          61.35,
          26,
          70.27,
          44.68,
          40,
          48.39,
          38.57,
          41.25,
          55.91,
          92.45,
          69.61,
          46.81,
          41.18,
          68.75,
          53.23,
          44.25,
          52.7,
          35.42,
          83.59,
          60.62,
          12.44,
          66.13,
          42.86,
          33.33,
          35.09,
          71.14,
          68.18,
          68.89,
          57,
          53.41,
          245.76,
          41.67,
          46.81,
          56.52,
          45.67,
          66.48,
          61.72,
          65.93,
          67.19,
          62.77,
          69.23,
          13,
          55.18,
          50.86,
          0.063974,
          48.89,
          62.22,
          15.48,
          58.53,
          36,
          43.38,
          41.33,
          45.83,
          13,
          65.12,
          44.38,
          41.91,
          52.58,
          75,
          64.29,
          50.43,
          63.89,
          39.3,
          75.81,
          13.93,
          13.64,
          13.93,
          13.48,
          60.29,
          45,
          43.75,
          41.67,
          69.5,
          46.81,
          36.32,
          17.68,
          41.9,
          36.92,
          42.86,
          40.47,
          86.73,
          58.46,
          38.27,
          44.83,
          53.23,
          42.5,
          39.47,
          48,
          38.3,
          56.54,
          51.67,
          49,
          51.18,
          58.57,
          64.71,
          53.74,
          54.75,
          40.28,
          43.84,
          51.5,
          37.65,
          53.04,
          34.5,
          55.91,
          45.74,
          41.91,
          42.5,
          43.62,
          70.43,
          51.18,
          55.19,
          51.67,
          48.21,
          58.54,
          64.29,
          55.49,
          55,
          194.34,
          42.73,
          64.64,
          171.7,
          69.15,
          53.12,
          71.74,
          68.12,
          36,
          256.52,
          64.55,
          66.43,
          56.38,
          70.93,
          59.62,
          237.78,
          256.67,
          205.63,
          4,
          50,
          32.08,
          47,
          44.55,
          45,
          73.08,
          43.33,
          59.32,
          62.5,
          32.73,
          53.12,
          71.88,
          53.23,
          60.76,
          33.17,
          62,
          230,
          86,
          62,
          238.03,
          43.38,
          40,
          41.43,
          37.78,
          92.59,
          106.15,
          43.33,
          62,
          41.99,
          41.07,
          46.81,
          58.31,
          66.36,
          45,
          17.78,
          33,
          71.15,
          34,
          95.83,
          30,
          46.43,
          43.08,
          32.29,
          54.29,
          49.07,
          59.85,
          49.29,
          49.29,
          70.53,
          59.38,
          45.9,
          70.53,
          46.43,
          44.19,
          50.82,
          46.43,
          45.9,
          40,
          37.78,
          42.14,
          63.7,
          59.42,
          68.42,
          70,
          61.9,
          64.81,
          70.19,
          60,
          78,
          44.05,
          54.52,
          43.75,
          42.37,
          41.67,
          186.67,
          13.04,
          17.11,
          48.52,
          72.34,
          48.04,
          53.62,
          27.92,
          42.65,
          28.17,
          62.69,
          43.33,
          47.84,
          42.45,
          46.81,
          37.57,
          44.57,
          43.29,
          47.3,
          73.95,
          48.55,
          46.15,
          43.33,
          77.84,
          31.43,
          71.88,
          223.64,
          45.15,
          41.44,
          52.7,
          43.75,
          62.22,
          67.16,
          68.57,
          47.2,
          49.09,
          54.17,
          56.25,
          46.67,
          65,
          54.55,
          42.86,
          53.23,
          43.75,
          42.5,
          40,
          41.67,
          44.68,
          50,
          50.71,
          58.67,
          44.68,
          42.86,
          41.18,
          59.25,
          59.25,
          42.5,
          65.88,
          63.64,
          58.67,
          55.56,
          58.57,
          0.0579709999999999,
          55.43,
          54.55,
          42.67,
          54.41,
          0.373831,
          0.5315209999999999,
          71.43,
          38.46,
          52,
          66.67,
          66.33,
          13.64,
          13.02,
          50.71,
          61.82,
          85,
          56.51,
          42.42,
          44,
          42.11,
          53.33,
          46.03,
          58.23,
          12.93,
          64.81,
          45.28,
          70.53,
          60.98,
          73.21,
          43.86,
          47.3,
          216.36,
          48.94,
          43.88,
          57.14,
          44.17,
          222.58,
          63.78,
          50.85,
          46.81,
          43.25,
          44.17,
          72,
          41.67,
          44.17,
          50.97,
          43.57,
          43.75,
          46.81,
          35.83,
          48.12,
          45,
          35.29,
          46.05,
          50.89,
          68.18,
          64.67,
          85,
          64.81,
          58.94,
          38.4,
          91.67,
          84.62,
          64.44,
          54.29,
          40.88,
          64.1,
          42.86,
          52.95,
          34.75,
          60.91,
          31.54,
          49.44,
          57.26,
          46.4,
          71.63,
          107.69,
          73.02,
          53.07,
          42.5,
          44.44,
          18.15,
          42.65,
          20.36,
          45.74,
          53.23,
          97.07,
          59.38,
          82.67,
          74.42,
          73.02,
          46.25,
          41.43,
          44.68,
          41.67,
          67.17,
          80,
          50.79,
          58.51,
          54.9,
          43.75,
          35.36,
          59.74,
          34.4,
          30.73,
          30,
          72.46,
          41.67,
          58.33,
          47.66,
          42.86,
          67.11,
          38,
          93.1,
          74.49,
          58.54,
          62.22,
          62.96,
          63.76,
          57,
          68,
          55.91,
          53.95,
          51.61,
          70.56,
          28,
          31.47,
          39.47,
          61.29,
          38.08,
          14.13,
          12,
          21.82,
          0.065686,
          43.75,
          12,
          11.54,
          42.65,
          61.82,
          68.6,
          46.25,
          70,
          59.15,
          26.88,
          64.38,
          40.67,
          68.38,
          25.32,
          40.62,
          60,
          50,
          48.08,
          48.08,
          51.5,
          36.17,
          35.14,
          70.59,
          65.24,
          45.06,
          51.28,
          53.64,
          31.89,
          71.88,
          45.65,
          28.75,
          44.35,
          33.1,
          27.5,
          27.5,
          41.09,
          44.23,
          46.25,
          56.94,
          63.64,
          66.67,
          63.83,
          67.19,
          100,
          60,
          72.22,
          55.71,
          53.47,
          36.06,
          62.5,
          57.45,
          46.74,
          14.55,
          13.64,
          68.24,
          33.82,
          61.96,
          65.62,
          56.06,
          56.49,
          45,
          20.59,
          105,
          44.38,
          165.52,
          59.7,
          218,
          37.12,
          65.62,
          51.54,
          61.82,
          74.42,
          60,
          56.52,
          50,
          60.61,
          63.62,
          45.45,
          60,
          58.18,
          56.73,
          65.43,
          60,
          55.91,
          82.86,
          59.64,
          39.66,
          75.81,
          71.81,
          79.29,
          44.58,
          42.86,
          43.88,
          68.75,
          311.11,
          74.64,
          43.16,
          113.5,
          49.17,
          56.35,
          80.65,
          61.72,
          7.36,
          46.43,
          49.29,
          53.49,
          66.67,
          72.22,
          226.15,
          55.93,
          64.98,
          65.12,
          63.64,
          61.82,
          40.95,
          180.85,
          49.12,
          28.95,
          41.33,
          70.67,
          57.41,
          28.95,
          37.06,
          100,
          44.29,
          59.78,
          63.64,
          52.14,
          46.2,
          46.81,
          42.86,
          44.05,
          45.71,
          44.29,
          77.86,
          39,
          35.96,
          69.87,
          59.43,
          53.37,
          60.71,
          36.17,
          38.1,
          43.33,
          47.22,
          68.97,
          62.96,
          73.42,
          69.77,
          86.79,
          46.81,
          19.6,
          11.23,
          44.2,
          43.33,
          43.75,
          47.87,
          44.29,
          44.59,
          54.09,
          54,
          0.798611,
          62.04,
          50.76,
          47.02,
          0.052571,
          32.22,
          41.25,
          69.47,
          192.31,
          46.38,
          41.67,
          57.79,
          44,
          47.44,
          43.33,
          45.96,
          52.11,
          45.38,
          64.12,
          46.79,
          40.67,
          226.03,
          185,
          78.33,
          210,
          39.73,
          40.71,
          40,
          62.5,
          42.86,
          234.78,
          222.41,
          266.67,
          227.59,
          171.5,
          188.24,
          44.64,
          56.94,
          46.15,
          52.68,
          42.5,
          44.68,
          41.67,
          50.46,
          55.98,
          49.15,
          140.62,
          60,
          51.49,
          213.24,
          234.48,
          35.71,
          59.02,
          59.29,
          65.07,
          44.64,
          51.55,
          41.67,
          134.27,
          50.61,
          40.62,
          132,
          64.29,
          35.45,
          40.62,
          21.32,
          80.65,
          79.29,
          71.81,
          21.89,
          67.27,
          13.71,
          14.15,
          16.36,
          56,
          227.27,
          50.61,
          54.29,
          53.07,
          44.29,
          193.18,
          43.61,
          51.5,
          40.62,
          58.77,
          40.48,
          212.5,
          50.58,
          56.15,
          52.11,
          26.73,
          24,
          30,
          68.75,
          50,
          54.18,
          54.18,
          31.25,
          36,
          36,
          38.64,
          59,
          15.62,
          13,
          14.13,
          14.44,
          70.32,
          47.62,
          69.13,
          56.79,
          49.5,
          49,
          27.65,
          317.5,
          47.46,
          42.5,
          37.5,
          36.25,
          46.67,
          37.14,
          43.33,
          45.06,
          46.38,
          43.14,
          22.22,
          64.29,
          12.93,
          14.29,
          13.79,
          50,
          44.8,
          56.4,
          54.17,
          72.5,
          61.74,
          45.24,
          33.67,
          14.15,
          13.64,
          14.55,
          45,
          43.33,
          41.43,
          51.61,
          44.59,
          44.44,
          61.25,
          43.33,
          66.25,
          61.33,
          60.1,
          45.14,
          48.65,
          63.2,
          47.87,
          57.5,
          43.33,
          55.26,
          56.76,
          43.75,
          55.71,
          45,
          46.81,
          52.58,
          54.48,
          257.89,
          220,
          63.71,
          30.89,
          97.56,
          57.97,
          46.81,
          52.58,
          83.33,
          43.75,
          43.33,
          44.68,
          42.86,
          42.65,
          58.53,
          61.25,
          32,
          43.64,
          61.25,
          36,
          51.61,
          67.11,
          44,
          53.23,
          44,
          49.21,
          63.42,
          64.67,
          60.19,
          267.44,
          42.38,
          43.57,
          60.61,
          41.67,
          69.33,
          46.81,
          42.38,
          52.58,
          41.67,
          50.74,
          38.04,
          40.86,
          61.75,
          46.81,
          47.02,
          66.91,
          1.2,
          61.9,
          79.31,
          43.88,
          43.78,
          50.59,
          52.73,
          50,
          53.33,
          50.68,
          41.43,
          41.67,
          44.68,
          51.61,
          42.5,
          49.37,
          13,
          53.19,
          38.75,
          36.33,
          12,
          16.67,
          56.14,
          42.86,
          41.67,
          43.44,
          66.82,
          42.5,
          64.5,
          41.43,
          44.68,
          43.33,
          57.67,
          35.22,
          56.67,
          50.71,
          47.78,
          81.62,
          71.81,
          81.58,
          67.29,
          63.64,
          220,
          98.68,
          72.32,
          69.77,
          72.09,
          51.14,
          64,
          34.12,
          67.04,
          47,
          73.53,
          44.17,
          56,
          226.32,
          46.67,
          75.29,
          47.06,
          230.77,
          51.62,
          47.88,
          53.9,
          40.25,
          73.53,
          57.5,
          52.44,
          55.11,
          63.49,
          0.464285,
          48.84,
          42.65,
          73.33,
          60,
          44.17,
          77.27,
          50,
          12.07,
          12.93,
          74.71,
          42.65,
          43.75,
          45,
          41.88,
          43.75,
          48.84,
          69.62,
          52.97,
          36.54,
          33.57,
          35.8,
          185.71,
          36,
          163.33,
          43.33,
          42.86,
          49.67,
          66.48,
          49,
          42.86,
          42.65,
          43.75,
          44.68,
          41.67,
          41.67,
          13.64,
          14.27,
          131.25,
          37.67,
          40.98,
          240.94,
          96,
          51.18,
          72.61,
          39.29,
          58.92,
          48.53,
          48.78,
          53.64,
          0.7354400000000001,
          48.53,
          59.41,
          55.88,
          40,
          57.06,
          71.88,
          48.41,
          51.32,
          44.46,
          50.46,
          38.33,
          64.63,
          58.75,
          37.61,
          40.34,
          50,
          55.4,
          39.17,
          0.041966,
          39.58,
          254.29,
          84.11,
          66.67,
          46.76,
          42.45,
          48.53,
          46.53,
          46.53,
          40.71,
          56.52,
          47.02,
          15.22,
          47.22,
          12,
          43.75,
          46.81,
          51.61,
          73.73,
          42.79,
          48.19,
          41.43,
          41.25,
          41.67,
          44.68,
          48.39,
          37.27,
          67.96,
          43.16,
          59.43,
          63.89,
          88.89,
          43.64,
          34.88,
          47.08,
          0.096629,
          241.84,
          145.19,
          12.07,
          50,
          32.5,
          75,
          46.34,
          50,
          46.32,
          50.48,
          60.94,
          57.63,
          93.98,
          47.31,
          50.14,
          58.63,
          47.64,
          49.21,
          41.46,
          60.98,
          69.77,
          63.64,
          103.72,
          46.81,
          68.14,
          52,
          37.5,
          42.09,
          45.81,
          55.56,
          35,
          35.8,
          37.5,
          36,
          15,
          39.8,
          30,
          37.9,
          51.95,
          30.77,
          49.23,
          70.37,
          45.43,
          44.27,
          43.12,
          41.43,
          45.74,
          41.18,
          48,
          1.02,
          46.81,
          44.68,
          46.81,
          51.61,
          42.86,
          43.33,
          43.75,
          34.17,
          80,
          15.38,
          13.59,
          66.84,
          64.04,
          46.43,
          60.49,
          69.77,
          72.86,
          42.65,
          63.21,
          67.44,
          115.22,
          66.27,
          230,
          68.97,
          46.53,
          38.24,
          46.6,
          44.07,
          71.81,
          101.32,
          10.73,
          13,
          43.75,
          45,
          53.23,
          43.38,
          54.67,
          44.17,
          41.67,
          46.81,
          40,
          42.5,
          44.68,
          42.86,
          41.67,
          53.23,
          42.86,
          0.028571,
          44.05,
          63.57,
          65.62,
          56.88,
          245.76,
          40,
          41.88,
          41.67,
          44.68,
          51.61,
          72.92,
          34.89,
          57.89,
          48.84,
          41.19,
          64.84,
          41.5,
          44.14,
          31,
          43.36,
          0.685314,
          74.84,
          45.45,
          68.69,
          67.5,
          62.77,
          58.24,
          57.14,
          75.71,
          34.88,
          47.5,
          75,
          38.67,
          52.38,
          46.15,
          46.97,
          28.78,
          53.68,
          47.26,
          71.35,
          42.71,
          42.65,
          42.38,
          11.67,
          53.23,
          62.24,
          43.12,
          45.14,
          46.15,
          61.18,
          72.58,
          71.88,
          0.181818,
          52.58,
          15.48,
          13,
          15.48,
          13.04,
          50.46,
          43.75,
          13.64,
          13.96,
          44.07,
          68.33,
          45.41,
          72.92,
          62.86,
          43.33,
          41.18,
          23,
          53.31,
          66.28,
          46.81,
          43.33,
          41.67,
          67.44,
          41.67,
          56.9,
          48.55,
          58.55,
          42.38,
          41.67,
          45.74,
          39.13,
          63.17,
          54.12,
          57.14,
          42.11,
          45,
          73.48,
          83,
          46.53,
          57.83,
          62.63,
          63.55,
          46.81,
          44.17,
          63.47,
          49.66,
          44.68,
          73.38,
          66.67,
          68.97,
          44.39,
          68.18,
          41.2,
          52.31,
          40,
          54.44,
          17.31,
          21.62,
          73.41,
          71.81,
          64,
          1.78,
          75,
          45,
          64.73,
          69.77,
          70.97,
          41.43,
          40.47,
          45.08,
          44.17,
          46.81,
          44.61,
          51.56,
          57.14,
          42.86,
          43.75,
          179.81,
          66.85,
          43.75,
          35.92,
          65.26,
          13.64,
          13.64,
          16.36,
          16.36,
          16.36,
          43.75,
          51.61,
          71.81,
          47,
          51.61,
          34.12,
          15.48,
          52.38,
          13,
          46.81,
          43.75,
          41.67,
          42.86,
          42.65,
          16.67,
          63.96,
          51.26,
          71.43,
          263.16,
          60.91,
          44.29,
          43.33,
          27.8,
          74.47,
          44.17,
          46.81,
          0.590909,
          29,
          53.23,
          40.71,
          58.55,
          58.33,
          44.29,
          52.58,
          38.21,
          41.58,
          38.08,
          41.67,
          33.64,
          35.58,
          35.77,
          50,
          69.52,
          41.43,
          47.23,
          50,
          63.33,
          14.38,
          64.81,
          48.89,
          50,
          63.29,
          61.65,
          52.9,
          35.71,
          44.68,
          40,
          41.25,
          51.29,
          41.67,
          53.8,
          23,
          62,
          52.14,
          102.22,
          30.77,
          55.71,
          44.67,
          46.88,
          84.21,
          76.34,
          188.89,
          70.62,
          73.21,
          73.21,
          64.44,
          65.49,
          66.91,
          69.57,
          75.88,
          61.84,
          67.97,
          33.78,
          47.5,
          88.93,
          58,
          54.61,
          55.71,
          116.67,
          234.57,
          50,
          13.89,
          13.64,
          12.5,
          54.84,
          45.14,
          58.18,
          44.38,
          42.14,
          42.83,
          24.55,
          22.12,
          24.04,
          46.81,
          44.33,
          56.35,
          82.49,
          67.74,
          41.07,
          43.33,
          50,
          46.81,
          43.12,
          41.07,
          51.61,
          66.67,
          55.88,
          45.26,
          51.82,
          49.37,
          46.95,
          46.81,
          96.35,
          43.75,
          62.96,
          51.32,
          75,
          44.38,
          42.5,
          44.68,
          66.43,
          53.23,
          64.06,
          44.29,
          43.75,
          44.29,
          42.65,
          51.82,
          47.87,
          53.23,
          43.75,
          44.5,
          42.43,
          56.62,
          255.56,
          50,
          200,
          64.09,
          41.96,
          50.91,
          61.11,
          69.77,
          72.95,
          60.34,
          71.67,
          49.12,
          217.34,
          42.04,
          67.44,
          70.19,
          71.4,
          56.79,
          1.12,
          70.1,
          56.18,
          41.44,
          62.79,
          60,
          86.15,
          44.05,
          42.86,
          2.08,
          50.54,
          71.4,
          62.19,
          40.71,
          44.68,
          48.39,
          17.14,
          14.29,
          13.04,
          14.13,
          59.38,
          43.57,
          46.81,
          51.61,
          43.75,
          43.33,
          43.1,
          42.86,
          61.82,
          50.46,
          46.15,
          45,
          44.29,
          74,
          41.67,
          42.65,
          43.75,
          49.55,
          41.43,
          44.68,
          41.67,
          55.85,
          30.83,
          74.42,
          51.61,
          47.14,
          13.39,
          12.07,
          12.07,
          41.18,
          47.86,
          52.38,
          66.25,
          46.44,
          70.71,
          70.77,
          58.82,
          57.14,
          28.95,
          13.64,
          13.73,
          13.27,
          38.08,
          29.81,
          13,
          13.04,
          12,
          68.89,
          53.57,
          48.17,
          39.58,
          37.14,
          46.73,
          28,
          64.81,
          33.33,
          39.92,
          104.4,
          171.43,
          60.2,
          75.42,
          41.55,
          118.18,
          38.36,
          40.3,
          54.05,
          0.048885,
          50,
          58.57,
          3.78,
          194.12,
          41.11,
          67.16,
          68.33,
          65.62,
          45.28,
          61.22,
          89.92,
          56.67,
          29.05,
          138.89,
          54.18,
          46,
          193.55,
          64.81,
          0.6,
          0.498561,
          48.39,
          37.82,
          42.24,
          57.8,
          121.43,
          0.562162,
          42.8,
          94.12,
          169.64,
          59.21,
          72.94,
          0.628571,
          0.05,
          82.98,
          30.77,
          60.77,
          21.43,
          7.46,
          71.88,
          47.38,
          44.67,
          0.338345,
          0.338345,
          42.42,
          61.84,
          58.67,
          47.88,
          21.33,
          51,
          50.91,
          63.04,
          37.6,
          37.62,
          63.75,
          62.5,
          56.47,
          78.57,
          44.58,
          39.29,
          294.58,
          36,
          52.73,
          65.31,
          42.5,
          64.81,
          115.54,
          69.29,
          0.6329109999999999,
          42.5,
          75,
          4,
          66.67,
          53.52,
          85.6,
          79.17,
          38.28,
          49,
          48.5,
          58.15,
          31.6,
          46.67,
          56.25,
          193.33,
          55.07,
          63.16,
          0.897435,
          72.32,
          60.74,
          464.91,
          53.49,
          0.032679,
          27.38,
          72.47,
          69.46,
          47.83,
          57.61,
          61.02,
          41.91,
          46.81,
          51.18,
          34.69,
          47.38,
          52.52,
          52.33,
          37.69,
          51.18,
          57.46,
          38.13,
          57.61,
          50,
          61.25,
          0.054166,
          60.03,
          60,
          55.88,
          75,
          0.0578459999999999,
          58.46,
          64.18,
          48.36,
          54.25,
          80,
          247.66,
          0.056338,
          51.81,
          220,
          47.54,
          56.98,
          54.22,
          53.38,
          44.71,
          30.33,
          55.49,
          37.69,
          25,
          43,
          48.15,
          90.12,
          63.02,
          40.62,
          45.71,
          64.81,
          34.84,
          97.74,
          63.51,
          90,
          40,
          44.29,
          39.68,
          55.13,
          61.02,
          65.12,
          59.65,
          55.02,
          44.04,
          42.27,
          49.33,
          118.18,
          47.5,
          39.9,
          70.42,
          40,
          70,
          39.52,
          47.26,
          68.67,
          42.29,
          70.45,
          72.73,
          64.75,
          42.27,
          57.24,
          76.74,
          66.36,
          44.71,
          43.33,
          250,
          122.45,
          67.44,
          0.014035,
          85,
          57.2,
          59.33,
          46.39,
          38.46,
          254.55,
          41.67,
          58.18,
          52.29,
          69.62,
          51.33,
          26.67,
          65.49,
          0.840707,
          37,
          58.12,
          52.46,
          54.13,
          54.32,
          77.94,
          32.73,
          100,
          197.5,
          78.69,
          80,
          43.48,
          37.67,
          95.21,
          67.5,
          39.23,
          53.41,
          187.23,
          65.62,
          48.48,
          44.55,
          0.063636,
          68.24,
          32.69,
          192.71,
          111.25,
          0.02985,
          88.54,
          64,
          0.725,
          63.26,
          51.5,
          37.5,
          104.49,
          72.3,
          56,
          85.53,
          88.66
         ],
         "xaxis": "x2",
         "yaxis": "y2"
        }
       ],
       "layout": {
        "barmode": "relative",
        "legend": {
         "tracegroupgap": 0
        },
        "template": {
         "data": {
          "bar": [
           {
            "error_x": {
             "color": "#2a3f5f"
            },
            "error_y": {
             "color": "#2a3f5f"
            },
            "marker": {
             "line": {
              "color": "#E5ECF6",
              "width": 0.5
             },
             "pattern": {
              "fillmode": "overlay",
              "size": 10,
              "solidity": 0.2
             }
            },
            "type": "bar"
           }
          ],
          "barpolar": [
           {
            "marker": {
             "line": {
              "color": "#E5ECF6",
              "width": 0.5
             },
             "pattern": {
              "fillmode": "overlay",
              "size": 10,
              "solidity": 0.2
             }
            },
            "type": "barpolar"
           }
          ],
          "carpet": [
           {
            "aaxis": {
             "endlinecolor": "#2a3f5f",
             "gridcolor": "white",
             "linecolor": "white",
             "minorgridcolor": "white",
             "startlinecolor": "#2a3f5f"
            },
            "baxis": {
             "endlinecolor": "#2a3f5f",
             "gridcolor": "white",
             "linecolor": "white",
             "minorgridcolor": "white",
             "startlinecolor": "#2a3f5f"
            },
            "type": "carpet"
           }
          ],
          "choropleth": [
           {
            "colorbar": {
             "outlinewidth": 0,
             "ticks": ""
            },
            "type": "choropleth"
           }
          ],
          "contour": [
           {
            "colorbar": {
             "outlinewidth": 0,
             "ticks": ""
            },
            "colorscale": [
             [
              0,
              "#0d0887"
             ],
             [
              0.1111111111111111,
              "#46039f"
             ],
             [
              0.2222222222222222,
              "#7201a8"
             ],
             [
              0.3333333333333333,
              "#9c179e"
             ],
             [
              0.4444444444444444,
              "#bd3786"
             ],
             [
              0.5555555555555556,
              "#d8576b"
             ],
             [
              0.6666666666666666,
              "#ed7953"
             ],
             [
              0.7777777777777778,
              "#fb9f3a"
             ],
             [
              0.8888888888888888,
              "#fdca26"
             ],
             [
              1,
              "#f0f921"
             ]
            ],
            "type": "contour"
           }
          ],
          "contourcarpet": [
           {
            "colorbar": {
             "outlinewidth": 0,
             "ticks": ""
            },
            "type": "contourcarpet"
           }
          ],
          "heatmap": [
           {
            "colorbar": {
             "outlinewidth": 0,
             "ticks": ""
            },
            "colorscale": [
             [
              0,
              "#0d0887"
             ],
             [
              0.1111111111111111,
              "#46039f"
             ],
             [
              0.2222222222222222,
              "#7201a8"
             ],
             [
              0.3333333333333333,
              "#9c179e"
             ],
             [
              0.4444444444444444,
              "#bd3786"
             ],
             [
              0.5555555555555556,
              "#d8576b"
             ],
             [
              0.6666666666666666,
              "#ed7953"
             ],
             [
              0.7777777777777778,
              "#fb9f3a"
             ],
             [
              0.8888888888888888,
              "#fdca26"
             ],
             [
              1,
              "#f0f921"
             ]
            ],
            "type": "heatmap"
           }
          ],
          "heatmapgl": [
           {
            "colorbar": {
             "outlinewidth": 0,
             "ticks": ""
            },
            "colorscale": [
             [
              0,
              "#0d0887"
             ],
             [
              0.1111111111111111,
              "#46039f"
             ],
             [
              0.2222222222222222,
              "#7201a8"
             ],
             [
              0.3333333333333333,
              "#9c179e"
             ],
             [
              0.4444444444444444,
              "#bd3786"
             ],
             [
              0.5555555555555556,
              "#d8576b"
             ],
             [
              0.6666666666666666,
              "#ed7953"
             ],
             [
              0.7777777777777778,
              "#fb9f3a"
             ],
             [
              0.8888888888888888,
              "#fdca26"
             ],
             [
              1,
              "#f0f921"
             ]
            ],
            "type": "heatmapgl"
           }
          ],
          "histogram": [
           {
            "marker": {
             "pattern": {
              "fillmode": "overlay",
              "size": 10,
              "solidity": 0.2
             }
            },
            "type": "histogram"
           }
          ],
          "histogram2d": [
           {
            "colorbar": {
             "outlinewidth": 0,
             "ticks": ""
            },
            "colorscale": [
             [
              0,
              "#0d0887"
             ],
             [
              0.1111111111111111,
              "#46039f"
             ],
             [
              0.2222222222222222,
              "#7201a8"
             ],
             [
              0.3333333333333333,
              "#9c179e"
             ],
             [
              0.4444444444444444,
              "#bd3786"
             ],
             [
              0.5555555555555556,
              "#d8576b"
             ],
             [
              0.6666666666666666,
              "#ed7953"
             ],
             [
              0.7777777777777778,
              "#fb9f3a"
             ],
             [
              0.8888888888888888,
              "#fdca26"
             ],
             [
              1,
              "#f0f921"
             ]
            ],
            "type": "histogram2d"
           }
          ],
          "histogram2dcontour": [
           {
            "colorbar": {
             "outlinewidth": 0,
             "ticks": ""
            },
            "colorscale": [
             [
              0,
              "#0d0887"
             ],
             [
              0.1111111111111111,
              "#46039f"
             ],
             [
              0.2222222222222222,
              "#7201a8"
             ],
             [
              0.3333333333333333,
              "#9c179e"
             ],
             [
              0.4444444444444444,
              "#bd3786"
             ],
             [
              0.5555555555555556,
              "#d8576b"
             ],
             [
              0.6666666666666666,
              "#ed7953"
             ],
             [
              0.7777777777777778,
              "#fb9f3a"
             ],
             [
              0.8888888888888888,
              "#fdca26"
             ],
             [
              1,
              "#f0f921"
             ]
            ],
            "type": "histogram2dcontour"
           }
          ],
          "mesh3d": [
           {
            "colorbar": {
             "outlinewidth": 0,
             "ticks": ""
            },
            "type": "mesh3d"
           }
          ],
          "parcoords": [
           {
            "line": {
             "colorbar": {
              "outlinewidth": 0,
              "ticks": ""
             }
            },
            "type": "parcoords"
           }
          ],
          "pie": [
           {
            "automargin": true,
            "type": "pie"
           }
          ],
          "scatter": [
           {
            "fillpattern": {
             "fillmode": "overlay",
             "size": 10,
             "solidity": 0.2
            },
            "type": "scatter"
           }
          ],
          "scatter3d": [
           {
            "line": {
             "colorbar": {
              "outlinewidth": 0,
              "ticks": ""
             }
            },
            "marker": {
             "colorbar": {
              "outlinewidth": 0,
              "ticks": ""
             }
            },
            "type": "scatter3d"
           }
          ],
          "scattercarpet": [
           {
            "marker": {
             "colorbar": {
              "outlinewidth": 0,
              "ticks": ""
             }
            },
            "type": "scattercarpet"
           }
          ],
          "scattergeo": [
           {
            "marker": {
             "colorbar": {
              "outlinewidth": 0,
              "ticks": ""
             }
            },
            "type": "scattergeo"
           }
          ],
          "scattergl": [
           {
            "marker": {
             "colorbar": {
              "outlinewidth": 0,
              "ticks": ""
             }
            },
            "type": "scattergl"
           }
          ],
          "scattermapbox": [
           {
            "marker": {
             "colorbar": {
              "outlinewidth": 0,
              "ticks": ""
             }
            },
            "type": "scattermapbox"
           }
          ],
          "scatterpolar": [
           {
            "marker": {
             "colorbar": {
              "outlinewidth": 0,
              "ticks": ""
             }
            },
            "type": "scatterpolar"
           }
          ],
          "scatterpolargl": [
           {
            "marker": {
             "colorbar": {
              "outlinewidth": 0,
              "ticks": ""
             }
            },
            "type": "scatterpolargl"
           }
          ],
          "scatterternary": [
           {
            "marker": {
             "colorbar": {
              "outlinewidth": 0,
              "ticks": ""
             }
            },
            "type": "scatterternary"
           }
          ],
          "surface": [
           {
            "colorbar": {
             "outlinewidth": 0,
             "ticks": ""
            },
            "colorscale": [
             [
              0,
              "#0d0887"
             ],
             [
              0.1111111111111111,
              "#46039f"
             ],
             [
              0.2222222222222222,
              "#7201a8"
             ],
             [
              0.3333333333333333,
              "#9c179e"
             ],
             [
              0.4444444444444444,
              "#bd3786"
             ],
             [
              0.5555555555555556,
              "#d8576b"
             ],
             [
              0.6666666666666666,
              "#ed7953"
             ],
             [
              0.7777777777777778,
              "#fb9f3a"
             ],
             [
              0.8888888888888888,
              "#fdca26"
             ],
             [
              1,
              "#f0f921"
             ]
            ],
            "type": "surface"
           }
          ],
          "table": [
           {
            "cells": {
             "fill": {
              "color": "#EBF0F8"
             },
             "line": {
              "color": "white"
             }
            },
            "header": {
             "fill": {
              "color": "#C8D4E3"
             },
             "line": {
              "color": "white"
             }
            },
            "type": "table"
           }
          ]
         },
         "layout": {
          "annotationdefaults": {
           "arrowcolor": "#2a3f5f",
           "arrowhead": 0,
           "arrowwidth": 1
          },
          "autotypenumbers": "strict",
          "coloraxis": {
           "colorbar": {
            "outlinewidth": 0,
            "ticks": ""
           }
          },
          "colorscale": {
           "diverging": [
            [
             0,
             "#8e0152"
            ],
            [
             0.1,
             "#c51b7d"
            ],
            [
             0.2,
             "#de77ae"
            ],
            [
             0.3,
             "#f1b6da"
            ],
            [
             0.4,
             "#fde0ef"
            ],
            [
             0.5,
             "#f7f7f7"
            ],
            [
             0.6,
             "#e6f5d0"
            ],
            [
             0.7,
             "#b8e186"
            ],
            [
             0.8,
             "#7fbc41"
            ],
            [
             0.9,
             "#4d9221"
            ],
            [
             1,
             "#276419"
            ]
           ],
           "sequential": [
            [
             0,
             "#0d0887"
            ],
            [
             0.1111111111111111,
             "#46039f"
            ],
            [
             0.2222222222222222,
             "#7201a8"
            ],
            [
             0.3333333333333333,
             "#9c179e"
            ],
            [
             0.4444444444444444,
             "#bd3786"
            ],
            [
             0.5555555555555556,
             "#d8576b"
            ],
            [
             0.6666666666666666,
             "#ed7953"
            ],
            [
             0.7777777777777778,
             "#fb9f3a"
            ],
            [
             0.8888888888888888,
             "#fdca26"
            ],
            [
             1,
             "#f0f921"
            ]
           ],
           "sequentialminus": [
            [
             0,
             "#0d0887"
            ],
            [
             0.1111111111111111,
             "#46039f"
            ],
            [
             0.2222222222222222,
             "#7201a8"
            ],
            [
             0.3333333333333333,
             "#9c179e"
            ],
            [
             0.4444444444444444,
             "#bd3786"
            ],
            [
             0.5555555555555556,
             "#d8576b"
            ],
            [
             0.6666666666666666,
             "#ed7953"
            ],
            [
             0.7777777777777778,
             "#fb9f3a"
            ],
            [
             0.8888888888888888,
             "#fdca26"
            ],
            [
             1,
             "#f0f921"
            ]
           ]
          },
          "colorway": [
           "#636efa",
           "#EF553B",
           "#00cc96",
           "#ab63fa",
           "#FFA15A",
           "#19d3f3",
           "#FF6692",
           "#B6E880",
           "#FF97FF",
           "#FECB52"
          ],
          "font": {
           "color": "#2a3f5f"
          },
          "geo": {
           "bgcolor": "white",
           "lakecolor": "white",
           "landcolor": "#E5ECF6",
           "showlakes": true,
           "showland": true,
           "subunitcolor": "white"
          },
          "hoverlabel": {
           "align": "left"
          },
          "hovermode": "closest",
          "mapbox": {
           "style": "light"
          },
          "paper_bgcolor": "white",
          "plot_bgcolor": "#E5ECF6",
          "polar": {
           "angularaxis": {
            "gridcolor": "white",
            "linecolor": "white",
            "ticks": ""
           },
           "bgcolor": "#E5ECF6",
           "radialaxis": {
            "gridcolor": "white",
            "linecolor": "white",
            "ticks": ""
           }
          },
          "scene": {
           "xaxis": {
            "backgroundcolor": "#E5ECF6",
            "gridcolor": "white",
            "gridwidth": 2,
            "linecolor": "white",
            "showbackground": true,
            "ticks": "",
            "zerolinecolor": "white"
           },
           "yaxis": {
            "backgroundcolor": "#E5ECF6",
            "gridcolor": "white",
            "gridwidth": 2,
            "linecolor": "white",
            "showbackground": true,
            "ticks": "",
            "zerolinecolor": "white"
           },
           "zaxis": {
            "backgroundcolor": "#E5ECF6",
            "gridcolor": "white",
            "gridwidth": 2,
            "linecolor": "white",
            "showbackground": true,
            "ticks": "",
            "zerolinecolor": "white"
           }
          },
          "shapedefaults": {
           "line": {
            "color": "#2a3f5f"
           }
          },
          "ternary": {
           "aaxis": {
            "gridcolor": "white",
            "linecolor": "white",
            "ticks": ""
           },
           "baxis": {
            "gridcolor": "white",
            "linecolor": "white",
            "ticks": ""
           },
           "bgcolor": "#E5ECF6",
           "caxis": {
            "gridcolor": "white",
            "linecolor": "white",
            "ticks": ""
           }
          },
          "title": {
           "x": 0.05
          },
          "xaxis": {
           "automargin": true,
           "gridcolor": "white",
           "linecolor": "white",
           "ticks": "",
           "title": {
            "standoff": 15
           },
           "zerolinecolor": "white",
           "zerolinewidth": 2
          },
          "yaxis": {
           "automargin": true,
           "gridcolor": "white",
           "linecolor": "white",
           "ticks": "",
           "title": {
            "standoff": 15
           },
           "zerolinecolor": "white",
           "zerolinewidth": 2
          }
         }
        },
        "title": {
         "text": "Phân bố Giá/m² của các Chung cư",
         "x": 0.5
        },
        "xaxis": {
         "anchor": "y",
         "domain": [
          0,
          1
         ],
         "title": {
          "text": "Giá/m² (triệu đồng)"
         }
        },
        "xaxis2": {
         "anchor": "y2",
         "domain": [
          0,
          1
         ],
         "matches": "x",
         "showgrid": true,
         "showticklabels": false
        },
        "yaxis": {
         "anchor": "x",
         "domain": [
          0,
          0.8316
         ],
         "title": {
          "text": "Tần suất"
         }
        },
        "yaxis2": {
         "anchor": "x2",
         "domain": [
          0.8416,
          1
         ],
         "matches": "y2",
         "showgrid": false,
         "showline": false,
         "showticklabels": false,
         "ticks": ""
        }
       }
      }
     },
     "metadata": {},
     "output_type": "display_data"
    }
   ],
   "source": [
    "import plotly.express as px\n",
    "\n",
    "# Vẽ biểu đồ phân bố (Histogram và KDE)\n",
    "fig = px.histogram(\n",
    "    df, \n",
    "    x='Giá/m²', \n",
    "    title='Phân bố Giá/m² của các Chung cư',\n",
    "    marginal='box',  # Thêm biểu đồ hộp ở bên trên\n",
    "    nbins=30,        # Số lượng cột trong biểu đồ\n",
    "    color_discrete_sequence=['red']\n",
    ")\n",
    "fig.update_layout(xaxis_title='Giá/m² (triệu đồng)', yaxis_title='Tần suất', title_x=0.5)\n",
    "fig.show()\n"
   ]
  },
  {
   "cell_type": "code",
   "execution_count": 15,
   "metadata": {},
   "outputs": [
    {
     "name": "stderr",
     "output_type": "stream",
     "text": [
      "C:\\Users\\This Pc\\AppData\\Local\\Temp\\ipykernel_22312\\1000306020.py:6: FutureWarning:\n",
      "\n",
      "\n",
      "\n",
      "`shade` is now deprecated in favor of `fill`; setting `fill=True`.\n",
      "This will become an error in seaborn v0.14.0; please update your code.\n",
      "\n",
      "\n"
     ]
    },
    {
     "data": {
      "image/png": "[encoded data removed]",
      "text/plain": [
       "<Figure size 1000x600 with 1 Axes>"
      ]
     },
     "metadata": {},
     "output_type": "display_data"
    }
   ],
   "source": [
    "import seaborn as sns\n",
    "import matplotlib.pyplot as plt\n",
    "\n",
    "# Vẽ biểu đồ KDE\n",
    "plt.figure(figsize=(10, 6))\n",
    "sns.kdeplot(df['Diện tích'], color='red', shade=True)\n",
    "plt.title('Phân bố Giá/m² của các Chung cư', fontsize=16)\n",
    "plt.xlabel('Giá/m² (triệu đồng)', fontsize=14)\n",
    "plt.ylabel('Mật độ', fontsize=14)\n",
    "plt.grid(alpha=0.3)\n",
    "plt.show()\n"
   ]
  },
  {
   "cell_type": "markdown",
   "metadata": {},
   "source": [
    "Phân bố của giá"
   ]
  },
  {
   "cell_type": "code",
   "execution_count": 5,
   "metadata": {},
   "outputs": [
    {
     "data": {
      "application/vnd.plotly.v1+json": {
       "config": {
        "plotlyServerURL": "https://plot.ly"
       },
       "data": [
        {
         "alignmentgroup": "True",
         "bingroup": "x",
         "hovertemplate": "Giá/m²=%{x}<br>count=%{y}<extra></extra>",
         "legendgroup": "",
         "marker": {
          "color": "#636efa",
          "pattern": {
           "shape": ""
          }
         },
         "name": "",
         "nbinsx": 60,
         "offsetgroup": "",
         "orientation": "v",
         "showlegend": false,
         "type": "histogram",
         "x": [
          50.46,
          33,
          42.06,
          33.82,
          41.67,
          44.17,
          46.81,
          50.63,
          42.5,
          44.29,
          43.75,
          46.81,
          45,
          44.29,
          46.81,
          64.84,
          47.66,
          41.67,
          54.78,
          45.83,
          41.65,
          40,
          47.97,
          215,
          33,
          50.46,
          33.82,
          42.06,
          62.34,
          42.78,
          42.78,
          62.78,
          63.98,
          53.33,
          0.164571,
          36.67,
          25.24,
          55.38,
          54.37,
          238.46,
          209.52,
          95.21,
          55.71,
          88.24,
          91.07,
          117.5,
          65,
          71.88,
          70.97,
          70,
          65.2,
          78.08,
          129.81,
          64.55,
          53.19,
          65.19,
          40,
          160,
          38.89,
          52.7,
          28.33,
          62.08,
          38.16,
          57.95,
          42.86,
          41,
          54.84,
          141.67,
          49,
          228.84,
          82.9,
          46,
          54.83,
          54.78,
          60.77,
          44.76,
          52.31,
          43.33,
          85,
          64.55,
          67.03,
          67.96,
          56,
          56.8,
          59.14,
          87,
          61.4,
          43.75,
          66.67,
          54.38,
          56.8,
          40,
          72,
          42.78,
          100,
          59.38,
          60,
          42.5,
          54.44,
          238.46,
          40.83,
          63.39,
          45.06,
          60.62,
          38.67,
          59.65,
          75.93,
          56.62,
          56.25,
          66.67,
          59.23,
          62.79,
          60,
          56.25,
          65.12,
          37.2,
          58.16,
          66.28,
          36.21,
          46.43,
          51.43,
          0.45098,
          73.72,
          48.21,
          50,
          60.49,
          68.57,
          111.11,
          0.881987,
          110,
          96.43,
          14.27,
          13.48,
          13.91,
          65.96,
          64.62,
          50.65,
          48.42,
          31.47,
          36.28,
          69.03,
          241.18,
          44.07,
          97.14,
          51.27,
          243.9,
          70,
          64.29,
          58.11,
          41.91,
          58.82,
          67.74,
          52.94,
          45.28,
          47.71,
          64.18,
          61.29,
          59.31,
          54.17,
          66.05,
          66.36,
          182.22,
          62.78,
          46.47,
          78.08,
          29.83,
          66.38,
          54.44,
          120.48,
          100,
          51.61,
          63,
          42,
          47.22,
          44.87,
          105.68,
          65.97,
          56.88,
          77.33,
          45.94,
          52.21,
          55.56,
          46.73,
          45.94,
          43.59,
          53.49,
          52.21,
          75.65,
          57.28,
          51.36,
          36.5,
          52.38,
          49,
          76.92,
          37,
          58.33,
          62.34,
          62.5,
          58.18,
          42.06,
          32.92,
          68.94,
          54.17,
          77.86,
          44.57,
          56.45,
          39,
          50.73,
          64.1,
          41.43,
          52.67,
          73.08,
          50,
          55.88,
          49.37,
          70.63,
          46.22,
          48.37,
          38.8,
          0.0546049999999999,
          47.9,
          65,
          53.23,
          63.87,
          35.91,
          66.46,
          37.17,
          65,
          31.45,
          95.59,
          65.83,
          41,
          63.64,
          50.42,
          63.09,
          61.27,
          47.3,
          44.29,
          47.66,
          44,
          55.56,
          62,
          43.33,
          57,
          64.58,
          51.85,
          36.67,
          40.91,
          60.71,
          36.67,
          185.37,
          72.03,
          46.9,
          34.29,
          56.49,
          75.27,
          43.48,
          22.86,
          85.24,
          49,
          93.06,
          61.43,
          226.03,
          61.54,
          54.02,
          52.11,
          44.68,
          43.62,
          40,
          41.43,
          50,
          44.29,
          44.05,
          43.75,
          60.47,
          43.33,
          46.81,
          48.39,
          44.57,
          44.57,
          37.27,
          85.31,
          73.72,
          45.62,
          81.78,
          60,
          58.82,
          61.82,
          44,
          49,
          252.73,
          208.75,
          53.12,
          51.11,
          49,
          46.53,
          37.94,
          44.29,
          64.6,
          49,
          54.18,
          13.89,
          46.43,
          70.66,
          10,
          13,
          15.48,
          10,
          52.31,
          41.67,
          43.33,
          36.54,
          43.08,
          72.12,
          58.68,
          60.98,
          45.62,
          173.68,
          33.57,
          50.29,
          58.51,
          62.69,
          69.13,
          66.3,
          51.61,
          70.62,
          61.54,
          75.76,
          43.48,
          68.57,
          69.31,
          90.81,
          39.44,
          59.38,
          59.56,
          55.93,
          63.45,
          59.64,
          59.33,
          40,
          63.49,
          69.07,
          42.86,
          64.1,
          50,
          70,
          42.06,
          66.04,
          61.88,
          54.02,
          56.15,
          53.29,
          79.27,
          40.56,
          77.5,
          58.92,
          54.02,
          20,
          42,
          50.75,
          79.17,
          46.15,
          28.89,
          93.66,
          49.82,
          42,
          54.02,
          43.75,
          34.42,
          46.2,
          61.25,
          72.09,
          75.38,
          55.2,
          63.33,
          41.67,
          58.47,
          52.81,
          47.23,
          58.62,
          77.5,
          40.43,
          0.033571,
          42.06,
          72.83,
          32.71,
          46.25,
          41.33,
          56.67,
          38.16,
          46.25,
          72.35,
          42.65,
          215.56,
          43.7,
          44.92,
          45.96,
          30.67,
          45.8,
          70,
          49,
          70.59,
          67.19,
          51.18,
          43.33,
          34.62,
          45.72,
          43.75,
          55.72,
          24.44,
          57.5,
          75.35,
          43.17,
          56.25,
          46.4,
          32.71,
          63.33,
          82.22,
          65.79,
          49,
          51.21,
          40.38,
          46.43,
          32.86,
          33.41,
          44.67,
          54.17,
          54.84,
          34,
          43.5,
          110.21,
          67.5,
          39.62,
          60,
          49.44,
          38.42,
          60.29,
          42.22,
          62.93,
          35.48,
          69.33,
          44.29,
          46,
          55.72,
          44.05,
          64.81,
          71.77,
          50.91,
          50.91,
          73.26,
          53.12,
          15.48,
          13.04,
          70.65,
          13,
          65.79,
          14.44,
          67.21,
          54.5,
          61.2,
          62,
          55.56,
          63.45,
          52.86,
          40.88,
          34.56,
          49.44,
          53.28,
          63.45,
          50,
          55.77,
          66.43,
          46.81,
          54.17,
          37.01,
          37.94,
          49.29,
          68.18,
          62.79,
          43.75,
          42.5,
          44.68,
          41.43,
          41.67,
          32.5,
          53.72,
          29.74,
          78.21,
          56.15,
          52.68,
          54.5,
          69.02,
          36.88,
          55.49,
          40,
          266.67,
          60,
          25.11,
          55.43,
          66.92,
          68.74,
          58.33,
          52.6,
          72.47,
          44.17,
          42.71,
          46.81,
          51.61,
          43.75,
          62.88,
          71.88,
          42.65,
          43,
          45.06,
          51.11,
          75,
          58.57,
          74.42,
          46.81,
          68.97,
          53.23,
          45,
          48.15,
          52.2,
          65.79,
          63.29,
          64.71,
          12.67,
          12.93,
          12.07,
          47.98,
          59.62,
          58.46,
          0.090909,
          35.48,
          50.67,
          48.65,
          0.0352,
          51.64,
          54.87,
          61.84,
          61.64,
          74.16,
          41.3,
          61.33,
          75.61,
          75.61,
          27.5,
          46.15,
          43.33,
          70,
          48.33,
          59.38,
          42.65,
          0.809353,
          37.14,
          56.45,
          39.07,
          42.86,
          49.49,
          72.65,
          43.75,
          35.18,
          45.65,
          72.73,
          73.81,
          51.47,
          25.04,
          50.92,
          43.75,
          69.44,
          53.38,
          51.51,
          52.94,
          46.86,
          45.41,
          44.38,
          46.81,
          65.45,
          53.04,
          46.07,
          60,
          61.45,
          65.12,
          39.76,
          43.33,
          48.4,
          56.9,
          70,
          25,
          61.35,
          26,
          70.27,
          44.68,
          40,
          48.39,
          38.57,
          41.25,
          55.91,
          92.45,
          69.61,
          46.81,
          41.18,
          68.75,
          53.23,
          44.25,
          52.7,
          35.42,
          83.59,
          60.62,
          12.44,
          66.13,
          42.86,
          33.33,
          35.09,
          71.14,
          68.18,
          68.89,
          57,
          53.41,
          245.76,
          41.67,
          46.81,
          56.52,
          45.67,
          66.48,
          61.72,
          65.93,
          67.19,
          62.77,
          69.23,
          13,
          55.18,
          50.86,
          0.063974,
          48.89,
          62.22,
          15.48,
          58.53,
          36,
          43.38,
          41.33,
          45.83,
          13,
          65.12,
          44.38,
          41.91,
          52.58,
          75,
          64.29,
          50.43,
          63.89,
          39.3,
          75.81,
          13.93,
          13.64,
          13.93,
          13.48,
          60.29,
          45,
          43.75,
          41.67,
          69.5,
          46.81,
          36.32,
          17.68,
          41.9,
          36.92,
          42.86,
          40.47,
          86.73,
          58.46,
          38.27,
          44.83,
          53.23,
          42.5,
          39.47,
          48,
          38.3,
          56.54,
          51.67,
          49,
          51.18,
          58.57,
          64.71,
          53.74,
          54.75,
          40.28,
          43.84,
          51.5,
          37.65,
          53.04,
          34.5,
          55.91,
          45.74,
          41.91,
          42.5,
          43.62,
          70.43,
          51.18,
          55.19,
          51.67,
          48.21,
          58.54,
          64.29,
          55.49,
          55,
          194.34,
          42.73,
          64.64,
          171.7,
          69.15,
          53.12,
          71.74,
          68.12,
          36,
          256.52,
          64.55,
          66.43,
          56.38,
          70.93,
          59.62,
          237.78,
          256.67,
          205.63,
          4,
          50,
          32.08,
          47,
          44.55,
          45,
          73.08,
          43.33,
          59.32,
          62.5,
          32.73,
          53.12,
          71.88,
          53.23,
          60.76,
          33.17,
          62,
          230,
          86,
          62,
          238.03,
          43.38,
          40,
          41.43,
          37.78,
          92.59,
          106.15,
          43.33,
          62,
          41.99,
          41.07,
          46.81,
          58.31,
          66.36,
          45,
          17.78,
          33,
          71.15,
          34,
          95.83,
          30,
          46.43,
          43.08,
          32.29,
          54.29,
          49.07,
          59.85,
          49.29,
          49.29,
          70.53,
          59.38,
          45.9,
          70.53,
          46.43,
          44.19,
          50.82,
          46.43,
          45.9,
          40,
          37.78,
          42.14,
          63.7,
          59.42,
          68.42,
          70,
          61.9,
          64.81,
          70.19,
          60,
          78,
          44.05,
          54.52,
          43.75,
          42.37,
          41.67,
          186.67,
          13.04,
          17.11,
          48.52,
          72.34,
          48.04,
          53.62,
          27.92,
          42.65,
          28.17,
          62.69,
          43.33,
          47.84,
          42.45,
          46.81,
          37.57,
          44.57,
          43.29,
          47.3,
          73.95,
          48.55,
          46.15,
          43.33,
          77.84,
          31.43,
          71.88,
          223.64,
          45.15,
          41.44,
          52.7,
          43.75,
          62.22,
          67.16,
          68.57,
          47.2,
          49.09,
          54.17,
          56.25,
          46.67,
          65,
          54.55,
          42.86,
          53.23,
          43.75,
          42.5,
          40,
          41.67,
          44.68,
          50,
          50.71,
          58.67,
          44.68,
          42.86,
          41.18,
          59.25,
          59.25,
          42.5,
          65.88,
          63.64,
          58.67,
          55.56,
          58.57,
          0.0579709999999999,
          55.43,
          54.55,
          42.67,
          54.41,
          0.373831,
          0.5315209999999999,
          71.43,
          38.46,
          52,
          66.67,
          66.33,
          13.64,
          13.02,
          50.71,
          61.82,
          85,
          56.51,
          42.42,
          44,
          42.11,
          53.33,
          46.03,
          58.23,
          12.93,
          64.81,
          45.28,
          70.53,
          60.98,
          73.21,
          43.86,
          47.3,
          216.36,
          48.94,
          43.88,
          57.14,
          44.17,
          222.58,
          63.78,
          50.85,
          46.81,
          43.25,
          44.17,
          72,
          41.67,
          44.17,
          50.97,
          43.57,
          43.75,
          46.81,
          35.83,
          48.12,
          45,
          35.29,
          46.05,
          50.89,
          68.18,
          64.67,
          85,
          64.81,
          58.94,
          38.4,
          91.67,
          84.62,
          64.44,
          54.29,
          40.88,
          64.1,
          42.86,
          52.95,
          34.75,
          60.91,
          31.54,
          49.44,
          57.26,
          46.4,
          71.63,
          107.69,
          73.02,
          53.07,
          42.5,
          44.44,
          18.15,
          42.65,
          20.36,
          45.74,
          53.23,
          97.07,
          59.38,
          82.67,
          74.42,
          73.02,
          46.25,
          41.43,
          44.68,
          41.67,
          67.17,
          80,
          50.79,
          58.51,
          54.9,
          43.75,
          35.36,
          59.74,
          34.4,
          30.73,
          30,
          72.46,
          41.67,
          58.33,
          47.66,
          42.86,
          67.11,
          38,
          93.1,
          74.49,
          58.54,
          62.22,
          62.96,
          63.76,
          57,
          68,
          55.91,
          53.95,
          51.61,
          70.56,
          28,
          31.47,
          39.47,
          61.29,
          38.08,
          14.13,
          12,
          21.82,
          0.065686,
          43.75,
          12,
          11.54,
          42.65,
          61.82,
          68.6,
          46.25,
          70,
          59.15,
          26.88,
          64.38,
          40.67,
          68.38,
          25.32,
          40.62,
          60,
          50,
          48.08,
          48.08,
          51.5,
          36.17,
          35.14,
          70.59,
          65.24,
          45.06,
          51.28,
          53.64,
          31.89,
          71.88,
          45.65,
          28.75,
          44.35,
          33.1,
          27.5,
          27.5,
          41.09,
          44.23,
          46.25,
          56.94,
          63.64,
          66.67,
          63.83,
          67.19,
          100,
          60,
          72.22,
          55.71,
          53.47,
          36.06,
          62.5,
          57.45,
          46.74,
          14.55,
          13.64,
          68.24,
          33.82,
          61.96,
          65.62,
          56.06,
          56.49,
          45,
          20.59,
          105,
          44.38,
          165.52,
          59.7,
          218,
          37.12,
          65.62,
          51.54,
          61.82,
          74.42,
          60,
          56.52,
          50,
          60.61,
          63.62,
          45.45,
          60,
          58.18,
          56.73,
          65.43,
          60,
          55.91,
          82.86,
          59.64,
          39.66,
          75.81,
          71.81,
          79.29,
          44.58,
          42.86,
          43.88,
          68.75,
          311.11,
          74.64,
          43.16,
          113.5,
          49.17,
          56.35,
          80.65,
          61.72,
          7.36,
          46.43,
          49.29,
          53.49,
          66.67,
          72.22,
          226.15,
          55.93,
          64.98,
          65.12,
          63.64,
          61.82,
          40.95,
          180.85,
          49.12,
          28.95,
          41.33,
          70.67,
          57.41,
          28.95,
          37.06,
          100,
          44.29,
          59.78,
          63.64,
          52.14,
          46.2,
          46.81,
          42.86,
          44.05,
          45.71,
          44.29,
          77.86,
          39,
          35.96,
          69.87,
          59.43,
          53.37,
          60.71,
          36.17,
          38.1,
          43.33,
          47.22,
          68.97,
          62.96,
          73.42,
          69.77,
          86.79,
          46.81,
          19.6,
          11.23,
          44.2,
          43.33,
          43.75,
          47.87,
          44.29,
          44.59,
          54.09,
          54,
          0.798611,
          62.04,
          50.76,
          47.02,
          0.052571,
          32.22,
          41.25,
          69.47,
          192.31,
          46.38,
          41.67,
          57.79,
          44,
          47.44,
          43.33,
          45.96,
          52.11,
          45.38,
          64.12,
          46.79,
          40.67,
          226.03,
          185,
          78.33,
          210,
          39.73,
          40.71,
          40,
          62.5,
          42.86,
          234.78,
          222.41,
          266.67,
          227.59,
          171.5,
          188.24,
          44.64,
          56.94,
          46.15,
          52.68,
          42.5,
          44.68,
          41.67,
          50.46,
          55.98,
          49.15,
          140.62,
          60,
          51.49,
          213.24,
          234.48,
          35.71,
          59.02,
          59.29,
          65.07,
          44.64,
          51.55,
          41.67,
          134.27,
          50.61,
          40.62,
          132,
          64.29,
          35.45,
          40.62,
          21.32,
          80.65,
          79.29,
          71.81,
          21.89,
          67.27,
          13.71,
          14.15,
          16.36,
          56,
          227.27,
          50.61,
          54.29,
          53.07,
          44.29,
          193.18,
          43.61,
          51.5,
          40.62,
          58.77,
          40.48,
          212.5,
          50.58,
          56.15,
          52.11,
          26.73,
          24,
          30,
          68.75,
          50,
          54.18,
          54.18,
          31.25,
          36,
          36,
          38.64,
          59,
          15.62,
          13,
          14.13,
          14.44,
          70.32,
          47.62,
          69.13,
          56.79,
          49.5,
          49,
          27.65,
          317.5,
          47.46,
          42.5,
          37.5,
          36.25,
          46.67,
          37.14,
          43.33,
          45.06,
          46.38,
          43.14,
          22.22,
          64.29,
          12.93,
          14.29,
          13.79,
          50,
          44.8,
          56.4,
          54.17,
          72.5,
          61.74,
          45.24,
          33.67,
          14.15,
          13.64,
          14.55,
          45,
          43.33,
          41.43,
          51.61,
          44.59,
          44.44,
          61.25,
          43.33,
          66.25,
          61.33,
          60.1,
          45.14,
          48.65,
          63.2,
          47.87,
          57.5,
          43.33,
          55.26,
          56.76,
          43.75,
          55.71,
          45,
          46.81,
          52.58,
          54.48,
          257.89,
          220,
          63.71,
          30.89,
          97.56,
          57.97,
          46.81,
          52.58,
          83.33,
          43.75,
          43.33,
          44.68,
          42.86,
          42.65,
          58.53,
          61.25,
          32,
          43.64,
          61.25,
          36,
          51.61,
          67.11,
          44,
          53.23,
          44,
          49.21,
          63.42,
          64.67,
          60.19,
          267.44,
          42.38,
          43.57,
          60.61,
          41.67,
          69.33,
          46.81,
          42.38,
          52.58,
          41.67,
          50.74,
          38.04,
          40.86,
          61.75,
          46.81,
          47.02,
          66.91,
          1.2,
          61.9,
          79.31,
          43.88,
          43.78,
          50.59,
          52.73,
          50,
          53.33,
          50.68,
          41.43,
          41.67,
          44.68,
          51.61,
          42.5,
          49.37,
          13,
          53.19,
          38.75,
          36.33,
          12,
          16.67,
          56.14,
          42.86,
          41.67,
          43.44,
          66.82,
          42.5,
          64.5,
          41.43,
          44.68,
          43.33,
          57.67,
          35.22,
          56.67,
          50.71,
          47.78,
          81.62,
          71.81,
          81.58,
          67.29,
          63.64,
          220,
          98.68,
          72.32,
          69.77,
          72.09,
          51.14,
          64,
          34.12,
          67.04,
          47,
          73.53,
          44.17,
          56,
          226.32,
          46.67,
          75.29,
          47.06,
          230.77,
          51.62,
          47.88,
          53.9,
          40.25,
          73.53,
          57.5,
          52.44,
          55.11,
          63.49,
          0.464285,
          48.84,
          42.65,
          73.33,
          60,
          44.17,
          77.27,
          50,
          12.07,
          12.93,
          74.71,
          42.65,
          43.75,
          45,
          41.88,
          43.75,
          48.84,
          69.62,
          52.97,
          36.54,
          33.57,
          35.8,
          185.71,
          36,
          163.33,
          43.33,
          42.86,
          49.67,
          66.48,
          49,
          42.86,
          42.65,
          43.75,
          44.68,
          41.67,
          41.67,
          13.64,
          14.27,
          131.25,
          37.67,
          40.98,
          240.94,
          96,
          51.18,
          72.61,
          39.29,
          58.92,
          48.53,
          48.78,
          53.64,
          0.7354400000000001,
          48.53,
          59.41,
          55.88,
          40,
          57.06,
          71.88,
          48.41,
          51.32,
          44.46,
          50.46,
          38.33,
          64.63,
          58.75,
          37.61,
          40.34,
          50,
          55.4,
          39.17,
          0.041966,
          39.58,
          254.29,
          84.11,
          66.67,
          46.76,
          42.45,
          48.53,
          46.53,
          46.53,
          40.71,
          56.52,
          47.02,
          15.22,
          47.22,
          12,
          43.75,
          46.81,
          51.61,
          73.73,
          42.79,
          48.19,
          41.43,
          41.25,
          41.67,
          44.68,
          48.39,
          37.27,
          67.96,
          43.16,
          59.43,
          63.89,
          88.89,
          43.64,
          34.88,
          47.08,
          0.096629,
          241.84,
          145.19,
          12.07,
          50,
          32.5,
          75,
          46.34,
          50,
          46.32,
          50.48,
          60.94,
          57.63,
          93.98,
          47.31,
          50.14,
          58.63,
          47.64,
          49.21,
          41.46,
          60.98,
          69.77,
          63.64,
          103.72,
          46.81,
          68.14,
          52,
          37.5,
          42.09,
          45.81,
          55.56,
          35,
          35.8,
          37.5,
          36,
          15,
          39.8,
          30,
          37.9,
          51.95,
          30.77,
          49.23,
          70.37,
          45.43,
          44.27,
          43.12,
          41.43,
          45.74,
          41.18,
          48,
          1.02,
          46.81,
          44.68,
          46.81,
          51.61,
          42.86,
          43.33,
          43.75,
          34.17,
          80,
          15.38,
          13.59,
          66.84,
          64.04,
          46.43,
          60.49,
          69.77,
          72.86,
          42.65,
          63.21,
          67.44,
          115.22,
          66.27,
          230,
          68.97,
          46.53,
          38.24,
          46.6,
          44.07,
          71.81,
          101.32,
          10.73,
          13,
          43.75,
          45,
          53.23,
          43.38,
          54.67,
          44.17,
          41.67,
          46.81,
          40,
          42.5,
          44.68,
          42.86,
          41.67,
          53.23,
          42.86,
          0.028571,
          44.05,
          63.57,
          65.62,
          56.88,
          245.76,
          40,
          41.88,
          41.67,
          44.68,
          51.61,
          72.92,
          34.89,
          57.89,
          48.84,
          41.19,
          64.84,
          41.5,
          44.14,
          31,
          43.36,
          0.685314,
          74.84,
          45.45,
          68.69,
          67.5,
          62.77,
          58.24,
          57.14,
          75.71,
          34.88,
          47.5,
          75,
          38.67,
          52.38,
          46.15,
          46.97,
          28.78,
          53.68,
          47.26,
          71.35,
          42.71,
          42.65,
          42.38,
          11.67,
          53.23,
          62.24,
          43.12,
          45.14,
          46.15,
          61.18,
          72.58,
          71.88,
          0.181818,
          52.58,
          15.48,
          13,
          15.48,
          13.04,
          50.46,
          43.75,
          13.64,
          13.96,
          44.07,
          68.33,
          45.41,
          72.92,
          62.86,
          43.33,
          41.18,
          23,
          53.31,
          66.28,
          46.81,
          43.33,
          41.67,
          67.44,
          41.67,
          56.9,
          48.55,
          58.55,
          42.38,
          41.67,
          45.74,
          39.13,
          63.17,
          54.12,
          57.14,
          42.11,
          45,
          73.48,
          83,
          46.53,
          57.83,
          62.63,
          63.55,
          46.81,
          44.17,
          63.47,
          49.66,
          44.68,
          73.38,
          66.67,
          68.97,
          44.39,
          68.18,
          41.2,
          52.31,
          40,
          54.44,
          17.31,
          21.62,
          73.41,
          71.81,
          64,
          1.78,
          75,
          45,
          64.73,
          69.77,
          70.97,
          41.43,
          40.47,
          45.08,
          44.17,
          46.81,
          44.61,
          51.56,
          57.14,
          42.86,
          43.75,
          179.81,
          66.85,
          43.75,
          35.92,
          65.26,
          13.64,
          13.64,
          16.36,
          16.36,
          16.36,
          43.75,
          51.61,
          71.81,
          47,
          51.61,
          34.12,
          15.48,
          52.38,
          13,
          46.81,
          43.75,
          41.67,
          42.86,
          42.65,
          16.67,
          63.96,
          51.26,
          71.43,
          263.16,
          60.91,
          44.29,
          43.33,
          27.8,
          74.47,
          44.17,
          46.81,
          0.590909,
          29,
          53.23,
          40.71,
          58.55,
          58.33,
          44.29,
          52.58,
          38.21,
          41.58,
          38.08,
          41.67,
          33.64,
          35.58,
          35.77,
          50,
          69.52,
          41.43,
          47.23,
          50,
          63.33,
          14.38,
          64.81,
          48.89,
          50,
          63.29,
          61.65,
          52.9,
          35.71,
          44.68,
          40,
          41.25,
          51.29,
          41.67,
          53.8,
          23,
          62,
          52.14,
          102.22,
          30.77,
          55.71,
          44.67,
          46.88,
          84.21,
          76.34,
          188.89,
          70.62,
          73.21,
          73.21,
          64.44,
          65.49,
          66.91,
          69.57,
          75.88,
          61.84,
          67.97,
          33.78,
          47.5,
          88.93,
          58,
          54.61,
          55.71,
          116.67,
          234.57,
          50,
          13.89,
          13.64,
          12.5,
          54.84,
          45.14,
          58.18,
          44.38,
          42.14,
          42.83,
          24.55,
          22.12,
          24.04,
          46.81,
          44.33,
          56.35,
          82.49,
          67.74,
          41.07,
          43.33,
          50,
          46.81,
          43.12,
          41.07,
          51.61,
          66.67,
          55.88,
          45.26,
          51.82,
          49.37,
          46.95,
          46.81,
          96.35,
          43.75,
          62.96,
          51.32,
          75,
          44.38,
          42.5,
          44.68,
          66.43,
          53.23,
          64.06,
          44.29,
          43.75,
          44.29,
          42.65,
          51.82,
          47.87,
          53.23,
          43.75,
          44.5,
          42.43,
          56.62,
          255.56,
          50,
          200,
          64.09,
          41.96,
          50.91,
          61.11,
          69.77,
          72.95,
          60.34,
          71.67,
          49.12,
          217.34,
          42.04,
          67.44,
          70.19,
          71.4,
          56.79,
          1.12,
          70.1,
          56.18,
          41.44,
          62.79,
          60,
          86.15,
          44.05,
          42.86,
          2.08,
          50.54,
          71.4,
          62.19,
          40.71,
          44.68,
          48.39,
          17.14,
          14.29,
          13.04,
          14.13,
          59.38,
          43.57,
          46.81,
          51.61,
          43.75,
          43.33,
          43.1,
          42.86,
          61.82,
          50.46,
          46.15,
          45,
          44.29,
          74,
          41.67,
          42.65,
          43.75,
          49.55,
          41.43,
          44.68,
          41.67,
          55.85,
          30.83,
          74.42,
          51.61,
          47.14,
          13.39,
          12.07,
          12.07,
          41.18,
          47.86,
          52.38,
          66.25,
          46.44,
          70.71,
          70.77,
          58.82,
          57.14,
          28.95,
          13.64,
          13.73,
          13.27,
          38.08,
          29.81,
          13,
          13.04,
          12,
          68.89,
          53.57,
          48.17,
          39.58,
          37.14,
          46.73,
          28,
          64.81,
          33.33,
          39.92,
          104.4,
          171.43,
          60.2,
          75.42,
          41.55,
          118.18,
          38.36,
          40.3,
          54.05,
          0.048885,
          50,
          58.57,
          3.78,
          194.12,
          41.11,
          67.16,
          68.33,
          65.62,
          45.28,
          61.22,
          89.92,
          56.67,
          29.05,
          138.89,
          54.18,
          46,
          193.55,
          64.81,
          0.6,
          0.498561,
          48.39,
          37.82,
          42.24,
          57.8,
          121.43,
          0.562162,
          42.8,
          94.12,
          169.64,
          59.21,
          72.94,
          0.628571,
          0.05,
          82.98,
          30.77,
          60.77,
          21.43,
          7.46,
          71.88,
          47.38,
          44.67,
          0.338345,
          0.338345,
          42.42,
          61.84,
          58.67,
          47.88,
          21.33,
          51,
          50.91,
          63.04,
          37.6,
          37.62,
          63.75,
          62.5,
          56.47,
          78.57,
          44.58,
          39.29,
          294.58,
          36,
          52.73,
          65.31,
          42.5,
          64.81,
          115.54,
          69.29,
          0.6329109999999999,
          42.5,
          75,
          4,
          66.67,
          53.52,
          85.6,
          79.17,
          38.28,
          49,
          48.5,
          58.15,
          31.6,
          46.67,
          56.25,
          193.33,
          55.07,
          63.16,
          0.897435,
          72.32,
          60.74,
          464.91,
          53.49,
          0.032679,
          27.38,
          72.47,
          69.46,
          47.83,
          57.61,
          61.02,
          41.91,
          46.81,
          51.18,
          34.69,
          47.38,
          52.52,
          52.33,
          37.69,
          51.18,
          57.46,
          38.13,
          57.61,
          50,
          61.25,
          0.054166,
          60.03,
          60,
          55.88,
          75,
          0.0578459999999999,
          58.46,
          64.18,
          48.36,
          54.25,
          80,
          247.66,
          0.056338,
          51.81,
          220,
          47.54,
          56.98,
          54.22,
          53.38,
          44.71,
          30.33,
          55.49,
          37.69,
          25,
          43,
          48.15,
          90.12,
          63.02,
          40.62,
          45.71,
          64.81,
          34.84,
          97.74,
          63.51,
          90,
          40,
          44.29,
          39.68,
          55.13,
          61.02,
          65.12,
          59.65,
          55.02,
          44.04,
          42.27,
          49.33,
          118.18,
          47.5,
          39.9,
          70.42,
          40,
          70,
          39.52,
          47.26,
          68.67,
          42.29,
          70.45,
          72.73,
          64.75,
          42.27,
          57.24,
          76.74,
          66.36,
          44.71,
          43.33,
          250,
          122.45,
          67.44,
          0.014035,
          85,
          57.2,
          59.33,
          46.39,
          38.46,
          254.55,
          41.67,
          58.18,
          52.29,
          69.62,
          51.33,
          26.67,
          65.49,
          0.840707,
          37,
          58.12,
          52.46,
          54.13,
          54.32,
          77.94,
          32.73,
          100,
          197.5,
          78.69,
          80,
          43.48,
          37.67,
          95.21,
          67.5,
          39.23,
          53.41,
          187.23,
          65.62,
          48.48,
          44.55,
          0.063636,
          68.24,
          32.69,
          192.71,
          111.25,
          0.02985,
          88.54,
          64,
          0.725,
          63.26,
          51.5,
          37.5,
          104.49,
          72.3,
          56,
          85.53,
          88.66
         ],
         "xaxis": "x",
         "yaxis": "y"
        }
       ],
       "layout": {
        "barmode": "relative",
        "legend": {
         "tracegroupgap": 0
        },
        "margin": {
         "t": 60
        },
        "template": {
         "data": {
          "bar": [
           {
            "error_x": {
             "color": "#2a3f5f"
            },
            "error_y": {
             "color": "#2a3f5f"
            },
            "marker": {
             "line": {
              "color": "#E5ECF6",
              "width": 0.5
             },
             "pattern": {
              "fillmode": "overlay",
              "size": 10,
              "solidity": 0.2
             }
            },
            "type": "bar"
           }
          ],
          "barpolar": [
           {
            "marker": {
             "line": {
              "color": "#E5ECF6",
              "width": 0.5
             },
             "pattern": {
              "fillmode": "overlay",
              "size": 10,
              "solidity": 0.2
             }
            },
            "type": "barpolar"
           }
          ],
          "carpet": [
           {
            "aaxis": {
             "endlinecolor": "#2a3f5f",
             "gridcolor": "white",
             "linecolor": "white",
             "minorgridcolor": "white",
             "startlinecolor": "#2a3f5f"
            },
            "baxis": {
             "endlinecolor": "#2a3f5f",
             "gridcolor": "white",
             "linecolor": "white",
             "minorgridcolor": "white",
             "startlinecolor": "#2a3f5f"
            },
            "type": "carpet"
           }
          ],
          "choropleth": [
           {
            "colorbar": {
             "outlinewidth": 0,
             "ticks": ""
            },
            "type": "choropleth"
           }
          ],
          "contour": [
           {
            "colorbar": {
             "outlinewidth": 0,
             "ticks": ""
            },
            "colorscale": [
             [
              0,
              "#0d0887"
             ],
             [
              0.1111111111111111,
              "#46039f"
             ],
             [
              0.2222222222222222,
              "#7201a8"
             ],
             [
              0.3333333333333333,
              "#9c179e"
             ],
             [
              0.4444444444444444,
              "#bd3786"
             ],
             [
              0.5555555555555556,
              "#d8576b"
             ],
             [
              0.6666666666666666,
              "#ed7953"
             ],
             [
              0.7777777777777778,
              "#fb9f3a"
             ],
             [
              0.8888888888888888,
              "#fdca26"
             ],
             [
              1,
              "#f0f921"
             ]
            ],
            "type": "contour"
           }
          ],
          "contourcarpet": [
           {
            "colorbar": {
             "outlinewidth": 0,
             "ticks": ""
            },
            "type": "contourcarpet"
           }
          ],
          "heatmap": [
           {
            "colorbar": {
             "outlinewidth": 0,
             "ticks": ""
            },
            "colorscale": [
             [
              0,
              "#0d0887"
             ],
             [
              0.1111111111111111,
              "#46039f"
             ],
             [
              0.2222222222222222,
              "#7201a8"
             ],
             [
              0.3333333333333333,
              "#9c179e"
             ],
             [
              0.4444444444444444,
              "#bd3786"
             ],
             [
              0.5555555555555556,
              "#d8576b"
             ],
             [
              0.6666666666666666,
              "#ed7953"
             ],
             [
              0.7777777777777778,
              "#fb9f3a"
             ],
             [
              0.8888888888888888,
              "#fdca26"
             ],
             [
              1,
              "#f0f921"
             ]
            ],
            "type": "heatmap"
           }
          ],
          "heatmapgl": [
           {
            "colorbar": {
             "outlinewidth": 0,
             "ticks": ""
            },
            "colorscale": [
             [
              0,
              "#0d0887"
             ],
             [
              0.1111111111111111,
              "#46039f"
             ],
             [
              0.2222222222222222,
              "#7201a8"
             ],
             [
              0.3333333333333333,
              "#9c179e"
             ],
             [
              0.4444444444444444,
              "#bd3786"
             ],
             [
              0.5555555555555556,
              "#d8576b"
             ],
             [
              0.6666666666666666,
              "#ed7953"
             ],
             [
              0.7777777777777778,
              "#fb9f3a"
             ],
             [
              0.8888888888888888,
              "#fdca26"
             ],
             [
              1,
              "#f0f921"
             ]
            ],
            "type": "heatmapgl"
           }
          ],
          "histogram": [
           {
            "marker": {
             "pattern": {
              "fillmode": "overlay",
              "size": 10,
              "solidity": 0.2
             }
            },
            "type": "histogram"
           }
          ],
          "histogram2d": [
           {
            "colorbar": {
             "outlinewidth": 0,
             "ticks": ""
            },
            "colorscale": [
             [
              0,
              "#0d0887"
             ],
             [
              0.1111111111111111,
              "#46039f"
             ],
             [
              0.2222222222222222,
              "#7201a8"
             ],
             [
              0.3333333333333333,
              "#9c179e"
             ],
             [
              0.4444444444444444,
              "#bd3786"
             ],
             [
              0.5555555555555556,
              "#d8576b"
             ],
             [
              0.6666666666666666,
              "#ed7953"
             ],
             [
              0.7777777777777778,
              "#fb9f3a"
             ],
             [
              0.8888888888888888,
              "#fdca26"
             ],
             [
              1,
              "#f0f921"
             ]
            ],
            "type": "histogram2d"
           }
          ],
          "histogram2dcontour": [
           {
            "colorbar": {
             "outlinewidth": 0,
             "ticks": ""
            },
            "colorscale": [
             [
              0,
              "#0d0887"
             ],
             [
              0.1111111111111111,
              "#46039f"
             ],
             [
              0.2222222222222222,
              "#7201a8"
             ],
             [
              0.3333333333333333,
              "#9c179e"
             ],
             [
              0.4444444444444444,
              "#bd3786"
             ],
             [
              0.5555555555555556,
              "#d8576b"
             ],
             [
              0.6666666666666666,
              "#ed7953"
             ],
             [
              0.7777777777777778,
              "#fb9f3a"
             ],
             [
              0.8888888888888888,
              "#fdca26"
             ],
             [
              1,
              "#f0f921"
             ]
            ],
            "type": "histogram2dcontour"
           }
          ],
          "mesh3d": [
           {
            "colorbar": {
             "outlinewidth": 0,
             "ticks": ""
            },
            "type": "mesh3d"
           }
          ],
          "parcoords": [
           {
            "line": {
             "colorbar": {
              "outlinewidth": 0,
              "ticks": ""
             }
            },
            "type": "parcoords"
           }
          ],
          "pie": [
           {
            "automargin": true,
            "type": "pie"
           }
          ],
          "scatter": [
           {
            "fillpattern": {
             "fillmode": "overlay",
             "size": 10,
             "solidity": 0.2
            },
            "type": "scatter"
           }
          ],
          "scatter3d": [
           {
            "line": {
             "colorbar": {
              "outlinewidth": 0,
              "ticks": ""
             }
            },
            "marker": {
             "colorbar": {
              "outlinewidth": 0,
              "ticks": ""
             }
            },
            "type": "scatter3d"
           }
          ],
          "scattercarpet": [
           {
            "marker": {
             "colorbar": {
              "outlinewidth": 0,
              "ticks": ""
             }
            },
            "type": "scattercarpet"
           }
          ],
          "scattergeo": [
           {
            "marker": {
             "colorbar": {
              "outlinewidth": 0,
              "ticks": ""
             }
            },
            "type": "scattergeo"
           }
          ],
          "scattergl": [
           {
            "marker": {
             "colorbar": {
              "outlinewidth": 0,
              "ticks": ""
             }
            },
            "type": "scattergl"
           }
          ],
          "scattermapbox": [
           {
            "marker": {
             "colorbar": {
              "outlinewidth": 0,
              "ticks": ""
             }
            },
            "type": "scattermapbox"
           }
          ],
          "scatterpolar": [
           {
            "marker": {
             "colorbar": {
              "outlinewidth": 0,
              "ticks": ""
             }
            },
            "type": "scatterpolar"
           }
          ],
          "scatterpolargl": [
           {
            "marker": {
             "colorbar": {
              "outlinewidth": 0,
              "ticks": ""
             }
            },
            "type": "scatterpolargl"
           }
          ],
          "scatterternary": [
           {
            "marker": {
             "colorbar": {
              "outlinewidth": 0,
              "ticks": ""
             }
            },
            "type": "scatterternary"
           }
          ],
          "surface": [
           {
            "colorbar": {
             "outlinewidth": 0,
             "ticks": ""
            },
            "colorscale": [
             [
              0,
              "#0d0887"
             ],
             [
              0.1111111111111111,
              "#46039f"
             ],
             [
              0.2222222222222222,
              "#7201a8"
             ],
             [
              0.3333333333333333,
              "#9c179e"
             ],
             [
              0.4444444444444444,
              "#bd3786"
             ],
             [
              0.5555555555555556,
              "#d8576b"
             ],
             [
              0.6666666666666666,
              "#ed7953"
             ],
             [
              0.7777777777777778,
              "#fb9f3a"
             ],
             [
              0.8888888888888888,
              "#fdca26"
             ],
             [
              1,
              "#f0f921"
             ]
            ],
            "type": "surface"
           }
          ],
          "table": [
           {
            "cells": {
             "fill": {
              "color": "#EBF0F8"
             },
             "line": {
              "color": "white"
             }
            },
            "header": {
             "fill": {
              "color": "#C8D4E3"
             },
             "line": {
              "color": "white"
             }
            },
            "type": "table"
           }
          ]
         },
         "layout": {
          "annotationdefaults": {
           "arrowcolor": "#2a3f5f",
           "arrowhead": 0,
           "arrowwidth": 1
          },
          "autotypenumbers": "strict",
          "coloraxis": {
           "colorbar": {
            "outlinewidth": 0,
            "ticks": ""
           }
          },
          "colorscale": {
           "diverging": [
            [
             0,
             "#8e0152"
            ],
            [
             0.1,
             "#c51b7d"
            ],
            [
             0.2,
             "#de77ae"
            ],
            [
             0.3,
             "#f1b6da"
            ],
            [
             0.4,
             "#fde0ef"
            ],
            [
             0.5,
             "#f7f7f7"
            ],
            [
             0.6,
             "#e6f5d0"
            ],
            [
             0.7,
             "#b8e186"
            ],
            [
             0.8,
             "#7fbc41"
            ],
            [
             0.9,
             "#4d9221"
            ],
            [
             1,
             "#276419"
            ]
           ],
           "sequential": [
            [
             0,
             "#0d0887"
            ],
            [
             0.1111111111111111,
             "#46039f"
            ],
            [
             0.2222222222222222,
             "#7201a8"
            ],
            [
             0.3333333333333333,
             "#9c179e"
            ],
            [
             0.4444444444444444,
             "#bd3786"
            ],
            [
             0.5555555555555556,
             "#d8576b"
            ],
            [
             0.6666666666666666,
             "#ed7953"
            ],
            [
             0.7777777777777778,
             "#fb9f3a"
            ],
            [
             0.8888888888888888,
             "#fdca26"
            ],
            [
             1,
             "#f0f921"
            ]
           ],
           "sequentialminus": [
            [
             0,
             "#0d0887"
            ],
            [
             0.1111111111111111,
             "#46039f"
            ],
            [
             0.2222222222222222,
             "#7201a8"
            ],
            [
             0.3333333333333333,
             "#9c179e"
            ],
            [
             0.4444444444444444,
             "#bd3786"
            ],
            [
             0.5555555555555556,
             "#d8576b"
            ],
            [
             0.6666666666666666,
             "#ed7953"
            ],
            [
             0.7777777777777778,
             "#fb9f3a"
            ],
            [
             0.8888888888888888,
             "#fdca26"
            ],
            [
             1,
             "#f0f921"
            ]
           ]
          },
          "colorway": [
           "#636efa",
           "#EF553B",
           "#00cc96",
           "#ab63fa",
           "#FFA15A",
           "#19d3f3",
           "#FF6692",
           "#B6E880",
           "#FF97FF",
           "#FECB52"
          ],
          "font": {
           "color": "#2a3f5f"
          },
          "geo": {
           "bgcolor": "white",
           "lakecolor": "white",
           "landcolor": "#E5ECF6",
           "showlakes": true,
           "showland": true,
           "subunitcolor": "white"
          },
          "hoverlabel": {
           "align": "left"
          },
          "hovermode": "closest",
          "mapbox": {
           "style": "light"
          },
          "paper_bgcolor": "white",
          "plot_bgcolor": "#E5ECF6",
          "polar": {
           "angularaxis": {
            "gridcolor": "white",
            "linecolor": "white",
            "ticks": ""
           },
           "bgcolor": "#E5ECF6",
           "radialaxis": {
            "gridcolor": "white",
            "linecolor": "white",
            "ticks": ""
           }
          },
          "scene": {
           "xaxis": {
            "backgroundcolor": "#E5ECF6",
            "gridcolor": "white",
            "gridwidth": 2,
            "linecolor": "white",
            "showbackground": true,
            "ticks": "",
            "zerolinecolor": "white"
           },
           "yaxis": {
            "backgroundcolor": "#E5ECF6",
            "gridcolor": "white",
            "gridwidth": 2,
            "linecolor": "white",
            "showbackground": true,
            "ticks": "",
            "zerolinecolor": "white"
           },
           "zaxis": {
            "backgroundcolor": "#E5ECF6",
            "gridcolor": "white",
            "gridwidth": 2,
            "linecolor": "white",
            "showbackground": true,
            "ticks": "",
            "zerolinecolor": "white"
           }
          },
          "shapedefaults": {
           "line": {
            "color": "#2a3f5f"
           }
          },
          "ternary": {
           "aaxis": {
            "gridcolor": "white",
            "linecolor": "white",
            "ticks": ""
           },
           "baxis": {
            "gridcolor": "white",
            "linecolor": "white",
            "ticks": ""
           },
           "bgcolor": "#E5ECF6",
           "caxis": {
            "gridcolor": "white",
            "linecolor": "white",
            "ticks": ""
           }
          },
          "title": {
           "x": 0.05
          },
          "xaxis": {
           "automargin": true,
           "gridcolor": "white",
           "linecolor": "white",
           "ticks": "",
           "title": {
            "standoff": 15
           },
           "zerolinecolor": "white",
           "zerolinewidth": 2
          },
          "yaxis": {
           "automargin": true,
           "gridcolor": "white",
           "linecolor": "white",
           "ticks": "",
           "title": {
            "standoff": 15
           },
           "zerolinecolor": "white",
           "zerolinewidth": 2
          }
         }
        },
        "title": {
         "text": "Distribution of Price"
        },
        "xaxis": {
         "anchor": "y",
         "domain": [
          0,
          1
         ],
         "title": {
          "text": "Giá/m²"
         }
        },
        "yaxis": {
         "anchor": "x",
         "domain": [
          0,
          1
         ],
         "title": {
          "text": "count"
         }
        }
       }
      }
     },
     "metadata": {},
     "output_type": "display_data"
    }
   ],
   "source": [
    "fig = px.histogram(df, x='Giá/m²', nbins=60, template=\"plotly\")\n",
    "fig.update_layout(title=\"Distribution of Price\")\n",
    "fig.show()"
   ]
  },
  {
   "cell_type": "markdown",
   "metadata": {},
   "source": [
    "Phụ thuộc của giá vào số phòng ngủ"
   ]
  },
  {
   "cell_type": "code",
   "execution_count": 15,
   "metadata": {},
   "outputs": [
    {
     "data": {
      "application/vnd.plotly.v1+json": {
       "config": {
        "plotlyServerURL": "https://plot.ly"
       },
       "data": [
        {
         "alignmentgroup": "True",
         "bingroup": "x",
         "hovertemplate": "Số phòng ngủ=2<br>Giá/m²=%{x}<br>count=%{y}<extra></extra>",
         "legendgroup": "2",
         "marker": {
          "color": "#636efa",
          "pattern": {
           "shape": ""
          }
         },
         "name": "2",
         "nbinsx": 20,
         "offsetgroup": "2",
         "orientation": "v",
         "showlegend": true,
         "type": "histogram",
         "x": [
          50.46,
          33,
          42.06,
          33.82,
          41.67,
          44.17,
          50.63,
          42.5,
          44.29,
          45,
          44.29,
          64.84,
          41.67,
          54.78,
          41.65,
          47.97,
          33,
          50.46,
          33.82,
          42.06,
          62.34,
          42.78,
          42.78,
          62.78,
          0.164571,
          55.38,
          95.21,
          55.71,
          117.5,
          65,
          70,
          64.55,
          65.19,
          40,
          52.7,
          42.86,
          41,
          141.67,
          49,
          54.83,
          54.78,
          60.77,
          52.31,
          67.03,
          67.96,
          61.4,
          66.67,
          54.38,
          60,
          42.5,
          54.44,
          40.83,
          45.06,
          60.62,
          59.65,
          75.93,
          56.62,
          56.25,
          66.67,
          59.23,
          62.79,
          37.2,
          36.21,
          46.43,
          48.21,
          50,
          60.49,
          96.43,
          14.27,
          13.48,
          13.91,
          64.62,
          44.07,
          97.14,
          64.29,
          58.11,
          41.91,
          58.82,
          52.94,
          45.28,
          64.18,
          59.31,
          54.17,
          66.36,
          182.22,
          62.78,
          29.83,
          66.38,
          120.48,
          100,
          51.61,
          47.22,
          56.88,
          52.21,
          55.56,
          46.73,
          52.21,
          75.65,
          57.28,
          52.38,
          49,
          37,
          58.33,
          62.34,
          42.06,
          54.17,
          50.73,
          64.1,
          41.43,
          52.67,
          50,
          55.88,
          49.37,
          70.63,
          48.37,
          0.0546049999999999,
          65,
          95.59,
          65.83,
          63.64,
          61.27,
          44.29,
          55.56,
          62,
          43.33,
          57,
          64.58,
          51.85,
          60.71,
          72.03,
          46.9,
          34.29,
          43.48,
          49,
          93.06,
          61.43,
          61.54,
          41.43,
          44.29,
          60.47,
          43.33,
          48.39,
          37.27,
          85.31,
          45.62,
          58.82,
          61.82,
          44,
          49,
          51.11,
          49,
          46.53,
          37.94,
          44.29,
          49,
          54.18,
          13.89,
          46.43,
          10,
          13,
          15.48,
          10,
          41.67,
          43.08,
          58.68,
          45.62,
          33.57,
          50.29,
          62.69,
          66.3,
          75.76,
          43.48,
          68.57,
          39.44,
          55.93,
          63.45,
          59.64,
          59.33,
          63.49,
          69.07,
          42.86,
          70,
          42.06,
          61.88,
          56.15,
          79.27,
          40.56,
          58.92,
          50.75,
          93.66,
          49.82,
          46.2,
          61.25,
          72.09,
          75.38,
          55.2,
          63.33,
          41.67,
          58.62,
          77.5,
          40.43,
          0.033571,
          42.06,
          72.83,
          32.71,
          46.25,
          41.33,
          72.35,
          42.65,
          43.7,
          44.92,
          30.67,
          45.8,
          49,
          70.59,
          67.19,
          43.33,
          34.62,
          24.44,
          57.5,
          43.17,
          56.25,
          32.71,
          63.33,
          49,
          51.21,
          46.43,
          32.86,
          44.67,
          54.17,
          54.84,
          34,
          49.44,
          60.29,
          42.22,
          62.93,
          44.29,
          46,
          64.81,
          71.77,
          50.91,
          50.91,
          15.48,
          13.04,
          13,
          14.44,
          63.45,
          52.86,
          49.44,
          63.45,
          54.17,
          37.94,
          49.29,
          41.43,
          41.67,
          32.5,
          56.15,
          52.68,
          68.74,
          58.33,
          72.47,
          44.17,
          42.71,
          62.88,
          42.65,
          45.06,
          75,
          68.97,
          45,
          52.2,
          65.79,
          12.67,
          12.93,
          12.07,
          47.98,
          59.62,
          58.46,
          50.67,
          51.64,
          54.87,
          61.64,
          41.3,
          75.61,
          75.61,
          43.33,
          59.38,
          42.65,
          0.809353,
          42.86,
          49.49,
          35.18,
          72.73,
          73.81,
          51.47,
          25.04,
          69.44,
          52.94,
          46.86,
          65.45,
          53.04,
          46.07,
          60,
          61.45,
          43.33,
          48.4,
          70,
          25,
          26,
          70.27,
          40,
          38.57,
          41.18,
          52.7,
          83.59,
          60.62,
          12.44,
          66.13,
          42.86,
          33.33,
          35.09,
          71.14,
          68.89,
          41.67,
          56.52,
          45.67,
          66.48,
          61.72,
          65.93,
          67.19,
          69.23,
          13,
          55.18,
          50.86,
          0.063974,
          48.89,
          62.22,
          15.48,
          36,
          43.38,
          41.33,
          13,
          41.91,
          75,
          64.29,
          63.89,
          13.93,
          13.64,
          13.93,
          13.48,
          60.29,
          41.67,
          17.68,
          36.92,
          42.86,
          38.27,
          44.83,
          48,
          38.3,
          51.67,
          49,
          40.28,
          53.04,
          41.91,
          42.5,
          55.19,
          51.67,
          48.21,
          64.29,
          55,
          42.73,
          71.74,
          36,
          64.55,
          66.43,
          56.38,
          59.62,
          4,
          50,
          47,
          44.55,
          43.33,
          62.5,
          60.76,
          33.17,
          62,
          62,
          43.38,
          40,
          41.43,
          106.15,
          43.33,
          41.99,
          41.07,
          58.31,
          66.36,
          17.78,
          33,
          34,
          30,
          46.43,
          32.29,
          54.29,
          49.07,
          49.29,
          49.29,
          59.38,
          46.43,
          50.82,
          46.43,
          45.9,
          40,
          42.14,
          63.7,
          59.42,
          64.81,
          42.37,
          41.67,
          13.04,
          17.11,
          72.34,
          42.65,
          62.69,
          43.33,
          44.57,
          48.55,
          43.33,
          71.88,
          45.15,
          52.7,
          62.22,
          67.16,
          68.57,
          49.09,
          54.17,
          56.25,
          46.67,
          42.86,
          40,
          41.67,
          50.71,
          42.86,
          41.18,
          59.25,
          59.25,
          63.64,
          58.67,
          55.56,
          0.0579709999999999,
          55.43,
          42.67,
          54.41,
          52,
          66.67,
          66.33,
          13.64,
          13.02,
          50.71,
          61.82,
          85,
          56.51,
          42.42,
          44,
          53.33,
          46.03,
          58.23,
          12.93,
          64.81,
          45.28,
          43.86,
          57.14,
          44.17,
          44.17,
          41.67,
          44.17,
          43.57,
          48.12,
          35.29,
          46.05,
          64.81,
          84.62,
          64.44,
          42.86,
          60.91,
          31.54,
          49.44,
          46.4,
          73.02,
          53.07,
          42.5,
          18.15,
          42.65,
          20.36,
          97.07,
          59.38,
          73.02,
          41.43,
          41.67,
          67.17,
          80,
          50.79,
          54.9,
          35.36,
          59.74,
          34.4,
          30.73,
          30,
          41.67,
          58.33,
          42.86,
          62.22,
          62.96,
          57,
          68,
          55.91,
          53.95,
          28,
          38.08,
          14.13,
          12,
          21.82,
          0.065686,
          12,
          11.54,
          42.65,
          61.82,
          68.6,
          70,
          26.88,
          64.38,
          40.67,
          68.38,
          25.32,
          50,
          36.17,
          35.14,
          45.06,
          53.64,
          71.88,
          44.35,
          41.09,
          66.67,
          67.19,
          55.71,
          36.06,
          46.74,
          14.55,
          13.64,
          68.24,
          33.82,
          61.96,
          56.06,
          45,
          20.59,
          105,
          59.7,
          37.12,
          51.54,
          61.82,
          56.52,
          50,
          60.61,
          58.18,
          56.73,
          60,
          55.91,
          82.86,
          59.64,
          39.66,
          79.29,
          44.58,
          42.86,
          68.75,
          43.16,
          113.5,
          49.17,
          56.35,
          61.72,
          7.36,
          55.93,
          63.64,
          61.82,
          41.33,
          100,
          44.29,
          59.78,
          63.64,
          52.14,
          46.2,
          42.86,
          45.71,
          39,
          35.96,
          60.71,
          36.17,
          38.1,
          47.22,
          68.97,
          73.42,
          19.6,
          44.2,
          43.33,
          44.29,
          54,
          0.798611,
          62.04,
          50.76,
          0.052571,
          41.67,
          44,
          43.33,
          45.96,
          52.11,
          45.38,
          46.79,
          40.67,
          78.33,
          62.5,
          44.64,
          52.68,
          42.5,
          41.67,
          50.46,
          35.71,
          59.02,
          59.29,
          44.64,
          41.67,
          40.62,
          132,
          64.29,
          35.45,
          21.32,
          79.29,
          21.89,
          67.27,
          13.71,
          14.15,
          16.36,
          54.29,
          53.07,
          40.62,
          40.48,
          50.58,
          52.11,
          26.73,
          24,
          30,
          50,
          54.18,
          54.18,
          31.25,
          36,
          38.64,
          15.62,
          13,
          14.13,
          14.44,
          47.62,
          56.79,
          49.5,
          49,
          27.65,
          37.5,
          46.67,
          37.14,
          43.33,
          45.06,
          43.14,
          22.22,
          64.29,
          12.93,
          14.29,
          13.79,
          50,
          54.17,
          72.5,
          45.24,
          33.67,
          14.15,
          13.64,
          14.55,
          43.33,
          41.43,
          51.61,
          61.25,
          43.33,
          61.33,
          45.14,
          43.33,
          56.76,
          45,
          54.48,
          63.71,
          57.97,
          43.33,
          42.86,
          42.65,
          61.25,
          32,
          43.64,
          61.25,
          36,
          44,
          44,
          49.21,
          60.19,
          43.57,
          60.61,
          41.67,
          41.67,
          50.74,
          38.04,
          61.75,
          66.91,
          1.2,
          61.9,
          50.59,
          52.73,
          53.33,
          41.43,
          41.67,
          13,
          53.19,
          38.75,
          12,
          16.67,
          42.86,
          41.67,
          41.43,
          43.33,
          57.67,
          35.22,
          50.71,
          81.62,
          81.58,
          67.29,
          34.12,
          67.04,
          44.17,
          46.67,
          53.9,
          63.49,
          42.65,
          44.17,
          77.27,
          50,
          12.07,
          12.93,
          42.65,
          45,
          52.97,
          35.8,
          43.33,
          42.86,
          49.67,
          66.48,
          49,
          42.86,
          42.65,
          41.67,
          41.67,
          13.64,
          14.27,
          37.67,
          96,
          51.18,
          39.29,
          58.92,
          48.53,
          48.78,
          0.7354400000000001,
          48.53,
          55.88,
          48.41,
          51.32,
          44.46,
          50.46,
          38.33,
          39.17,
          0.041966,
          39.58,
          46.76,
          48.53,
          46.53,
          46.53,
          40.71,
          56.52,
          15.22,
          47.22,
          12,
          73.73,
          42.79,
          41.43,
          41.67,
          63.89,
          43.64,
          12.07,
          50,
          50.48,
          57.63,
          93.98,
          50.14,
          49.21,
          63.64,
          103.72,
          52,
          37.5,
          45.81,
          55.56,
          35.8,
          37.5,
          15,
          51.95,
          49.23,
          70.37,
          45.43,
          41.43,
          48,
          1.02,
          42.86,
          43.33,
          80,
          15.38,
          13.59,
          64.04,
          46.43,
          42.65,
          115.22,
          68.97,
          46.53,
          38.24,
          44.07,
          10.73,
          13,
          45,
          43.38,
          54.67,
          44.17,
          41.67,
          40,
          42.86,
          41.67,
          42.86,
          0.028571,
          63.57,
          65.62,
          56.88,
          40,
          41.67,
          57.89,
          48.84,
          41.19,
          64.84,
          31,
          62.77,
          57.14,
          47.5,
          52.38,
          46.15,
          28.78,
          47.26,
          42.71,
          42.65,
          11.67,
          45.14,
          72.58,
          0.181818,
          15.48,
          13,
          15.48,
          13.04,
          50.46,
          13.64,
          13.96,
          44.07,
          72.92,
          62.86,
          43.33,
          41.18,
          23,
          43.33,
          41.67,
          41.67,
          48.55,
          41.67,
          63.17,
          54.12,
          57.14,
          45,
          83,
          46.53,
          44.17,
          49.66,
          73.38,
          68.97,
          68.18,
          41.2,
          54.44,
          17.31,
          64.73,
          41.43,
          45.08,
          44.17,
          44.61,
          42.86,
          66.85,
          13.64,
          13.64,
          16.36,
          16.36,
          16.36,
          47,
          51.61,
          15.48,
          52.38,
          13,
          41.67,
          42.86,
          42.65,
          16.67,
          63.96,
          60.91,
          44.29,
          43.33,
          27.8,
          44.17,
          29,
          40.71,
          58.33,
          44.29,
          38.21,
          41.58,
          38.08,
          41.67,
          33.64,
          35.58,
          35.77,
          41.43,
          14.38,
          48.89,
          50,
          63.29,
          61.65,
          52.9,
          40,
          41.67,
          23,
          62,
          52.14,
          102.22,
          30.77,
          55.71,
          44.67,
          64.44,
          65.49,
          66.91,
          69.57,
          67.97,
          58,
          54.61,
          55.71,
          13.89,
          13.64,
          12.5,
          45.14,
          58.18,
          42.14,
          42.83,
          24.55,
          22.12,
          24.04,
          44.33,
          56.35,
          43.33,
          50,
          66.67,
          55.88,
          51.82,
          49.37,
          62.96,
          51.32,
          42.5,
          66.43,
          44.29,
          44.29,
          42.65,
          44.5,
          42.43,
          56.62,
          50,
          64.09,
          50.91,
          61.11,
          72.95,
          71.67,
          70.19,
          1.12,
          60,
          42.86,
          50.54,
          62.19,
          40.71,
          17.14,
          14.29,
          13.04,
          14.13,
          59.38,
          43.57,
          43.33,
          43.1,
          42.86,
          61.82,
          50.46,
          44.29,
          41.67,
          42.65,
          41.43,
          41.67,
          55.85,
          74.42,
          51.61,
          47.14,
          13.39,
          12.07,
          12.07,
          47.86,
          70.77,
          13.64,
          13.73,
          13.27,
          38.08,
          29.81,
          13,
          13.04,
          12,
          68.89,
          53.57,
          48.17,
          28,
          64.81,
          33.33,
          75.42,
          118.18,
          38.36,
          40.3,
          0.048885,
          3.78,
          67.16,
          65.62,
          61.22,
          29.05,
          54.18,
          64.81,
          48.39,
          42.24,
          57.8,
          0.562162,
          59.21,
          72.94,
          0.628571,
          30.77,
          21.43,
          7.46,
          71.88,
          47.38,
          42.42,
          61.84,
          58.67,
          47.88,
          51,
          50.91,
          37.6,
          37.62,
          63.75,
          62.5,
          52.73,
          42.5,
          64.81,
          115.54,
          69.29,
          0.6329109999999999,
          42.5,
          4,
          66.67,
          53.52,
          85.6,
          79.17,
          49,
          48.5,
          31.6,
          55.07,
          63.16,
          0.897435,
          27.38,
          47.83,
          61.02,
          41.91,
          51.18,
          47.38,
          37.69,
          57.46,
          38.13,
          57.61,
          50,
          61.25,
          0.054166,
          60,
          55.88,
          75,
          0.0578459999999999,
          58.46,
          64.18,
          48.36,
          54.25,
          80,
          0.056338,
          51.81,
          47.54,
          53.38,
          37.69,
          25,
          48.15,
          90.12,
          63.02,
          45.71,
          64.81,
          34.84,
          63.51,
          90,
          39.68,
          61.02,
          59.65,
          42.27,
          49.33,
          40,
          47.26,
          68.67,
          42.29,
          72.73,
          64.75,
          42.27,
          57.24,
          66.36,
          43.33,
          67.44,
          85,
          57.2,
          38.46,
          41.67,
          58.18,
          52.29,
          69.62,
          51.33,
          58.12,
          52.46,
          54.32,
          77.94,
          78.69,
          80,
          43.48,
          37.67,
          95.21,
          0.063636,
          32.69,
          0.02985,
          64,
          104.49,
          72.3,
          85.53
         ],
         "xaxis": "x",
         "yaxis": "y"
        },
        {
         "alignmentgroup": "True",
         "bingroup": "x",
         "hovertemplate": "Số phòng ngủ=1<br>Giá/m²=%{x}<br>count=%{y}<extra></extra>",
         "legendgroup": "1",
         "marker": {
          "color": "#EF553B",
          "pattern": {
           "shape": ""
          }
         },
         "name": "1",
         "nbinsx": 20,
         "offsetgroup": "1",
         "orientation": "v",
         "showlegend": true,
         "type": "histogram",
         "x": [
          46.81,
          46.81,
          46.81,
          47.66,
          25.24,
          91.07,
          71.88,
          70.97,
          78.08,
          28.33,
          46,
          85,
          43.75,
          100,
          59.38,
          65.12,
          66.28,
          51.43,
          73.72,
          50.65,
          69.03,
          70,
          67.74,
          78.08,
          54.44,
          42,
          65.97,
          43.59,
          76.92,
          68.94,
          77.86,
          73.08,
          53.23,
          66.46,
          65,
          47.3,
          47.66,
          22.86,
          85.24,
          44.68,
          43.62,
          50,
          44.05,
          46.81,
          73.72,
          81.78,
          60,
          64.6,
          43.33,
          173.68,
          51.61,
          61.54,
          59.38,
          59.56,
          77.5,
          42,
          79.17,
          46.15,
          47.23,
          45.96,
          75.35,
          82.22,
          67.5,
          39.62,
          44.05,
          73.26,
          67.21,
          46.81,
          62.79,
          44.68,
          29.74,
          78.21,
          25.11,
          46.81,
          51.61,
          71.88,
          74.42,
          46.81,
          53.23,
          63.29,
          27.5,
          46.15,
          70,
          39.07,
          72.65,
          45.41,
          46.81,
          65.12,
          56.9,
          44.68,
          48.39,
          69.61,
          46.81,
          53.23,
          53.41,
          46.81,
          65.12,
          52.58,
          75.81,
          46.81,
          36.32,
          58.46,
          53.23,
          37.65,
          45.74,
          43.62,
          70.93,
          32.73,
          53.23,
          92.59,
          62,
          46.81,
          95.83,
          44.19,
          68.42,
          78,
          44.05,
          54.52,
          47.84,
          46.81,
          37.57,
          47.3,
          73.95,
          31.43,
          53.23,
          44.68,
          50,
          44.68,
          71.43,
          73.21,
          47.3,
          48.94,
          46.81,
          50.97,
          46.81,
          35.83,
          50.89,
          85,
          34.75,
          71.63,
          107.69,
          45.74,
          53.23,
          74.42,
          46.25,
          44.68,
          43.75,
          72.46,
          47.66,
          67.11,
          61.29,
          46.25,
          28.75,
          33.1,
          27.5,
          27.5,
          44.23,
          46.25,
          60,
          62.5,
          65.62,
          74.42,
          63.62,
          75.81,
          74.64,
          53.49,
          65.12,
          46.81,
          44.05,
          77.86,
          69.77,
          86.79,
          46.81,
          47.87,
          44.59,
          47.02,
          46.38,
          44.68,
          60,
          43.61,
          36,
          70.32,
          46.38,
          44.8,
          44.59,
          48.65,
          47.87,
          55.26,
          46.81,
          52.58,
          30.89,
          46.81,
          52.58,
          44.68,
          51.61,
          67.11,
          53.23,
          69.33,
          46.81,
          52.58,
          46.81,
          47.02,
          79.31,
          43.78,
          44.68,
          51.61,
          44.68,
          56.67,
          98.68,
          72.32,
          69.77,
          72.09,
          51.14,
          73.53,
          75.29,
          47.06,
          73.53,
          48.84,
          74.71,
          48.84,
          44.68,
          71.88,
          50,
          66.67,
          47.02,
          46.81,
          51.61,
          44.68,
          48.39,
          60.94,
          69.77,
          46.81,
          68.14,
          35,
          36,
          44.27,
          45.74,
          46.81,
          44.68,
          46.81,
          51.61,
          69.77,
          72.86,
          67.44,
          46.6,
          53.23,
          46.81,
          44.68,
          53.23,
          44.05,
          44.68,
          51.61,
          74.84,
          75.71,
          53.23,
          46.15,
          71.88,
          52.58,
          68.33,
          45.41,
          66.28,
          46.81,
          67.44,
          45.74,
          46.81,
          44.68,
          21.62,
          73.41,
          75,
          69.77,
          70.97,
          46.81,
          51.56,
          51.61,
          46.81,
          71.43,
          46.81,
          53.23,
          52.58,
          69.52,
          47.23,
          44.68,
          51.29,
          76.34,
          70.62,
          73.21,
          73.21,
          75.88,
          33.78,
          88.93,
          54.84,
          46.81,
          82.49,
          67.74,
          46.81,
          51.61,
          46.81,
          75,
          44.68,
          53.23,
          64.06,
          47.87,
          53.23,
          69.77,
          67.44,
          71.4,
          62.79,
          44.05,
          2.08,
          71.4,
          44.68,
          48.39,
          46.81,
          51.61,
          49.55,
          44.68,
          52.38,
          66.25,
          46.44,
          70.71,
          37.14,
          60.2,
          194.12,
          41.11,
          94.12,
          82.98,
          78.57,
          53.49,
          46.81,
          52.33,
          56.98,
          30.33,
          65.12,
          55.02,
          70.42,
          70,
          76.74,
          26.67,
          100,
          53.41,
          65.62
         ],
         "xaxis": "x",
         "yaxis": "y"
        },
        {
         "alignmentgroup": "True",
         "bingroup": "x",
         "hovertemplate": "Số phòng ngủ=3<br>Giá/m²=%{x}<br>count=%{y}<extra></extra>",
         "legendgroup": "3",
         "marker": {
          "color": "#00cc96",
          "pattern": {
           "shape": ""
          }
         },
         "name": "3",
         "nbinsx": 20,
         "offsetgroup": "3",
         "orientation": "v",
         "showlegend": true,
         "type": "histogram",
         "x": [
          43.75,
          45.83,
          40,
          63.98,
          53.33,
          36.67,
          54.37,
          88.24,
          65.2,
          129.81,
          53.19,
          38.89,
          62.08,
          38.16,
          57.95,
          54.84,
          82.9,
          44.76,
          43.33,
          64.55,
          56.8,
          59.14,
          87,
          56.8,
          40,
          42.78,
          63.39,
          38.67,
          60,
          56.25,
          58.16,
          0.45098,
          68.57,
          111.11,
          0.881987,
          65.96,
          48.42,
          31.47,
          36.28,
          51.27,
          47.71,
          61.29,
          66.05,
          46.47,
          63,
          44.87,
          105.68,
          77.33,
          45.94,
          45.94,
          53.49,
          51.36,
          36.5,
          62.5,
          58.18,
          44.57,
          56.45,
          39,
          46.22,
          38.8,
          47.9,
          63.87,
          35.91,
          37.17,
          31.45,
          41,
          50.42,
          63.09,
          44,
          36.67,
          40.91,
          36.67,
          56.49,
          54.02,
          52.11,
          40,
          43.75,
          44.57,
          44.57,
          53.12,
          70.66,
          52.31,
          36.54,
          72.12,
          60.98,
          58.51,
          69.13,
          70.62,
          69.31,
          90.81,
          40,
          64.1,
          50,
          66.04,
          54.02,
          53.29,
          54.02,
          20,
          28.89,
          42,
          54.02,
          43.75,
          58.47,
          52.81,
          56.67,
          38.16,
          46.25,
          70,
          51.18,
          45.72,
          43.75,
          55.72,
          46.4,
          65.79,
          40.38,
          43.5,
          60,
          38.42,
          35.48,
          69.33,
          55.72,
          53.12,
          70.65,
          65.79,
          54.5,
          61.2,
          62,
          55.56,
          34.56,
          53.28,
          50,
          55.77,
          66.43,
          37.01,
          68.18,
          43.75,
          42.5,
          53.72,
          69.02,
          36.88,
          55.49,
          40,
          60,
          55.43,
          66.92,
          52.6,
          43.75,
          43,
          51.11,
          58.57,
          48.15,
          64.71,
          0.090909,
          35.48,
          48.65,
          61.84,
          74.16,
          61.33,
          48.33,
          37.14,
          56.45,
          43.75,
          45.65,
          50.92,
          43.75,
          53.38,
          51.51,
          44.38,
          39.76,
          61.35,
          41.25,
          55.91,
          92.45,
          68.75,
          44.25,
          35.42,
          68.18,
          57,
          62.77,
          58.53,
          45.83,
          44.38,
          50.43,
          39.3,
          43.75,
          69.5,
          41.9,
          40.47,
          86.73,
          42.5,
          39.47,
          56.54,
          51.18,
          58.57,
          64.71,
          53.74,
          54.75,
          43.84,
          51.5,
          55.91,
          70.43,
          51.18,
          58.54,
          55.49,
          64.64,
          69.15,
          53.12,
          68.12,
          32.08,
          45,
          73.08,
          59.32,
          53.12,
          71.88,
          86,
          37.78,
          45,
          71.15,
          43.08,
          59.85,
          70.53,
          45.9,
          70.53,
          37.78,
          70,
          61.9,
          70.19,
          60,
          43.75,
          48.52,
          48.04,
          53.62,
          27.92,
          28.17,
          42.45,
          43.29,
          46.15,
          77.84,
          223.64,
          43.75,
          47.2,
          65,
          54.55,
          43.75,
          42.5,
          58.67,
          42.5,
          65.88,
          58.57,
          54.55,
          0.373831,
          0.5315209999999999,
          38.46,
          42.11,
          70.53,
          60.98,
          43.88,
          63.78,
          50.85,
          43.25,
          43.75,
          45,
          68.18,
          64.67,
          58.94,
          38.4,
          54.29,
          40.88,
          64.1,
          52.95,
          57.26,
          44.44,
          82.67,
          58.51,
          38,
          93.1,
          74.49,
          58.54,
          63.76,
          51.61,
          70.56,
          31.47,
          39.47,
          43.75,
          59.15,
          40.62,
          60,
          48.08,
          48.08,
          51.5,
          70.59,
          65.24,
          51.28,
          45.65,
          56.94,
          63.64,
          63.83,
          100,
          72.22,
          53.47,
          57.45,
          65.62,
          56.49,
          44.38,
          60,
          45.45,
          60,
          65.43,
          71.81,
          43.88,
          46.43,
          49.29,
          66.67,
          72.22,
          64.98,
          40.95,
          49.12,
          28.95,
          70.67,
          57.41,
          28.95,
          37.06,
          44.29,
          69.87,
          59.43,
          53.37,
          43.33,
          62.96,
          11.23,
          43.75,
          54.09,
          32.22,
          41.25,
          69.47,
          57.79,
          47.44,
          64.12,
          39.73,
          40.71,
          40,
          42.86,
          56.94,
          46.15,
          55.98,
          49.15,
          65.07,
          51.55,
          50.61,
          40.62,
          71.81,
          56,
          50.61,
          44.29,
          51.5,
          58.77,
          68.75,
          59,
          69.13,
          47.46,
          42.5,
          36.25,
          56.4,
          61.74,
          45,
          44.44,
          66.25,
          60.1,
          63.2,
          57.5,
          43.75,
          55.71,
          97.56,
          83.33,
          43.75,
          58.53,
          63.42,
          64.67,
          42.38,
          42.38,
          40.86,
          43.88,
          50.68,
          42.5,
          49.37,
          36.33,
          56.14,
          43.44,
          66.82,
          42.5,
          64.5,
          47.78,
          71.81,
          63.64,
          64,
          47,
          56,
          51.62,
          47.88,
          40.25,
          57.5,
          52.44,
          55.11,
          0.464285,
          73.33,
          60,
          43.75,
          41.88,
          43.75,
          69.62,
          36.54,
          33.57,
          36,
          43.75,
          72.61,
          53.64,
          59.41,
          40,
          57.06,
          64.63,
          58.75,
          37.61,
          40.34,
          55.4,
          84.11,
          42.45,
          43.75,
          48.19,
          41.25,
          37.27,
          67.96,
          43.16,
          59.43,
          88.89,
          34.88,
          47.08,
          75,
          46.34,
          50,
          46.32,
          47.31,
          58.63,
          47.64,
          41.46,
          60.98,
          42.09,
          39.8,
          30,
          37.9,
          30.77,
          43.12,
          41.18,
          43.75,
          66.84,
          60.49,
          63.21,
          66.27,
          71.81,
          101.32,
          43.75,
          42.5,
          41.88,
          72.92,
          34.89,
          41.5,
          44.14,
          43.36,
          0.685314,
          45.45,
          68.69,
          67.5,
          58.24,
          34.88,
          75,
          38.67,
          46.97,
          53.68,
          71.35,
          42.38,
          62.24,
          43.12,
          61.18,
          43.75,
          53.31,
          56.9,
          58.55,
          42.38,
          39.13,
          42.11,
          73.48,
          57.83,
          62.63,
          63.55,
          63.47,
          66.67,
          44.39,
          52.31,
          40,
          71.81,
          64,
          45,
          40.47,
          57.14,
          43.75,
          43.75,
          65.26,
          43.75,
          71.81,
          34.12,
          43.75,
          51.26,
          0.590909,
          58.55,
          50,
          63.33,
          64.81,
          35.71,
          41.25,
          53.8,
          46.88,
          84.21,
          61.84,
          47.5,
          50,
          44.38,
          41.07,
          43.12,
          41.07,
          45.26,
          46.95,
          43.75,
          44.38,
          43.75,
          51.82,
          43.75,
          41.96,
          60.34,
          49.12,
          42.04,
          56.79,
          70.1,
          56.18,
          41.44,
          86.15,
          43.75,
          46.15,
          45,
          43.75,
          41.18,
          58.82,
          57.14,
          28.95,
          39.58,
          46.73,
          39.92,
          104.4,
          41.55,
          54.05,
          50,
          58.57,
          68.33,
          89.92,
          56.67,
          46,
          0.6,
          0.498561,
          121.43,
          42.8,
          60.77,
          44.67,
          0.338345,
          0.338345,
          21.33,
          63.04,
          56.47,
          44.58,
          39.29,
          36,
          38.28,
          58.15,
          46.67,
          56.25,
          72.32,
          60.74,
          72.47,
          69.46,
          57.61,
          34.69,
          51.18,
          60.03,
          54.22,
          44.71,
          55.49,
          43,
          40,
          44.29,
          55.13,
          44.04,
          47.5,
          39.9,
          39.52,
          70.45,
          44.71,
          0.014035,
          59.33,
          46.39,
          65.49,
          0.840707,
          37,
          54.13,
          32.73,
          67.5,
          39.23,
          48.48,
          44.55,
          68.24,
          88.54,
          0.725,
          63.26,
          51.5,
          37.5,
          88.66
         ],
         "xaxis": "x",
         "yaxis": "y"
        },
        {
         "alignmentgroup": "True",
         "bingroup": "x",
         "hovertemplate": "Số phòng ngủ=8<br>Giá/m²=%{x}<br>count=%{y}<extra></extra>",
         "legendgroup": "8",
         "marker": {
          "color": "#ab63fa",
          "pattern": {
           "shape": ""
          }
         },
         "name": "8",
         "nbinsx": 20,
         "offsetgroup": "8",
         "orientation": "v",
         "showlegend": true,
         "type": "histogram",
         "x": [
          215,
          208.75,
          218,
          220,
          131.25,
          187.23
         ],
         "xaxis": "x",
         "yaxis": "y"
        },
        {
         "alignmentgroup": "True",
         "bingroup": "x",
         "hovertemplate": "Số phòng ngủ=10<br>Giá/m²=%{x}<br>count=%{y}<extra></extra>",
         "legendgroup": "10",
         "marker": {
          "color": "#FFA15A",
          "pattern": {
           "shape": ""
          }
         },
         "name": "10",
         "nbinsx": 20,
         "offsetgroup": "10",
         "orientation": "v",
         "showlegend": true,
         "type": "histogram",
         "x": [
          238.46,
          209.52,
          160,
          228.84,
          241.18,
          243.9,
          226.03,
          252.73,
          215.56,
          266.67,
          245.76,
          194.34,
          256.52,
          237.78,
          256.67,
          205.63,
          230,
          238.03,
          186.67,
          216.36,
          222.58,
          165.52,
          311.11,
          226.15,
          192.31,
          226.03,
          185,
          210,
          234.78,
          222.41,
          266.67,
          227.59,
          188.24,
          140.62,
          213.24,
          234.48,
          134.27,
          227.27,
          317.5,
          257.89,
          267.44,
          220,
          226.32,
          230.77,
          185.71,
          163.33,
          240.94,
          254.29,
          230,
          245.76,
          179.81,
          263.16,
          50,
          234.57,
          255.56,
          200,
          217.34,
          171.43,
          138.89,
          193.55,
          169.64,
          464.91,
          247.66,
          220,
          254.55,
          197.5,
          192.71
         ],
         "xaxis": "x",
         "yaxis": "y"
        },
        {
         "alignmentgroup": "True",
         "bingroup": "x",
         "hovertemplate": "Số phòng ngủ=4<br>Giá/m²=%{x}<br>count=%{y}<extra></extra>",
         "legendgroup": "4",
         "marker": {
          "color": "#19d3f3",
          "pattern": {
           "shape": ""
          }
         },
         "name": "4",
         "nbinsx": 20,
         "offsetgroup": "4",
         "orientation": "v",
         "showlegend": true,
         "type": "histogram",
         "x": [
          56,
          72,
          238.46,
          110,
          34.42,
          33.41,
          40.88,
          54.5,
          0.0352,
          45,
          72,
          91.67,
          31.89,
          80.65,
          180.85,
          51.49,
          80.65,
          56.15,
          50,
          40.98,
          0.096629,
          1.78,
          35.92,
          74.47,
          116.67,
          96.35,
          74,
          30.83,
          45.28,
          37.82,
          75,
          0.032679,
          52.52,
          40.62,
          97.74,
          250,
          122.45,
          111.25
         ],
         "xaxis": "x",
         "yaxis": "y"
        },
        {
         "alignmentgroup": "True",
         "bingroup": "x",
         "hovertemplate": "Số phòng ngủ=5<br>Giá/m²=%{x}<br>count=%{y}<extra></extra>",
         "legendgroup": "5",
         "marker": {
          "color": "#FF6692",
          "pattern": {
           "shape": ""
          }
         },
         "name": "5",
         "nbinsx": 20,
         "offsetgroup": "5",
         "orientation": "v",
         "showlegend": true,
         "type": "histogram",
         "x": [
          32.92,
          75.27,
          110.21,
          34.5,
          41.44,
          32.5,
          34.17,
          0.05,
          294.58,
          65.31,
          193.33,
          118.18,
          56
         ],
         "xaxis": "x",
         "yaxis": "y"
        },
        {
         "alignmentgroup": "True",
         "bingroup": "x",
         "hovertemplate": "Số phòng ngủ=9<br>Giá/m²=%{x}<br>count=%{y}<extra></extra>",
         "legendgroup": "9",
         "marker": {
          "color": "#B6E880",
          "pattern": {
           "shape": ""
          }
         },
         "name": "9",
         "nbinsx": 20,
         "offsetgroup": "9",
         "orientation": "v",
         "showlegend": true,
         "type": "histogram",
         "x": [
          185.37,
          171.5,
          193.18,
          241.84,
          145.19,
          188.89
         ],
         "xaxis": "x",
         "yaxis": "y"
        },
        {
         "alignmentgroup": "True",
         "bingroup": "x",
         "hovertemplate": "Số phòng ngủ=7<br>Giá/m²=%{x}<br>count=%{y}<extra></extra>",
         "legendgroup": "7",
         "marker": {
          "color": "#FF97FF",
          "pattern": {
           "shape": ""
          }
         },
         "name": "7",
         "nbinsx": 20,
         "offsetgroup": "7",
         "orientation": "v",
         "showlegend": true,
         "type": "histogram",
         "x": [
          171.7
         ],
         "xaxis": "x",
         "yaxis": "y"
        },
        {
         "alignmentgroup": "True",
         "bingroup": "x",
         "hovertemplate": "Số phòng ngủ=6<br>Giá/m²=%{x}<br>count=%{y}<extra></extra>",
         "legendgroup": "6",
         "marker": {
          "color": "#FECB52",
          "pattern": {
           "shape": ""
          }
         },
         "name": "6",
         "nbinsx": 20,
         "offsetgroup": "6",
         "orientation": "v",
         "showlegend": true,
         "type": "histogram",
         "x": [
          212.5
         ],
         "xaxis": "x",
         "yaxis": "y"
        }
       ],
       "layout": {
        "barmode": "relative",
        "legend": {
         "title": {
          "text": "Số phòng ngủ"
         },
         "tracegroupgap": 0
        },
        "margin": {
         "t": 60
        },
        "template": {
         "data": {
          "bar": [
           {
            "error_x": {
             "color": "#2a3f5f"
            },
            "error_y": {
             "color": "#2a3f5f"
            },
            "marker": {
             "line": {
              "color": "#E5ECF6",
              "width": 0.5
             },
             "pattern": {
              "fillmode": "overlay",
              "size": 10,
              "solidity": 0.2
             }
            },
            "type": "bar"
           }
          ],
          "barpolar": [
           {
            "marker": {
             "line": {
              "color": "#E5ECF6",
              "width": 0.5
             },
             "pattern": {
              "fillmode": "overlay",
              "size": 10,
              "solidity": 0.2
             }
            },
            "type": "barpolar"
           }
          ],
          "carpet": [
           {
            "aaxis": {
             "endlinecolor": "#2a3f5f",
             "gridcolor": "white",
             "linecolor": "white",
             "minorgridcolor": "white",
             "startlinecolor": "#2a3f5f"
            },
            "baxis": {
             "endlinecolor": "#2a3f5f",
             "gridcolor": "white",
             "linecolor": "white",
             "minorgridcolor": "white",
             "startlinecolor": "#2a3f5f"
            },
            "type": "carpet"
           }
          ],
          "choropleth": [
           {
            "colorbar": {
             "outlinewidth": 0,
             "ticks": ""
            },
            "type": "choropleth"
           }
          ],
          "contour": [
           {
            "colorbar": {
             "outlinewidth": 0,
             "ticks": ""
            },
            "colorscale": [
             [
              0,
              "#0d0887"
             ],
             [
              0.1111111111111111,
              "#46039f"
             ],
             [
              0.2222222222222222,
              "#7201a8"
             ],
             [
              0.3333333333333333,
              "#9c179e"
             ],
             [
              0.4444444444444444,
              "#bd3786"
             ],
             [
              0.5555555555555556,
              "#d8576b"
             ],
             [
              0.6666666666666666,
              "#ed7953"
             ],
             [
              0.7777777777777778,
              "#fb9f3a"
             ],
             [
              0.8888888888888888,
              "#fdca26"
             ],
             [
              1,
              "#f0f921"
             ]
            ],
            "type": "contour"
           }
          ],
          "contourcarpet": [
           {
            "colorbar": {
             "outlinewidth": 0,
             "ticks": ""
            },
            "type": "contourcarpet"
           }
          ],
          "heatmap": [
           {
            "colorbar": {
             "outlinewidth": 0,
             "ticks": ""
            },
            "colorscale": [
             [
              0,
              "#0d0887"
             ],
             [
              0.1111111111111111,
              "#46039f"
             ],
             [
              0.2222222222222222,
              "#7201a8"
             ],
             [
              0.3333333333333333,
              "#9c179e"
             ],
             [
              0.4444444444444444,
              "#bd3786"
             ],
             [
              0.5555555555555556,
              "#d8576b"
             ],
             [
              0.6666666666666666,
              "#ed7953"
             ],
             [
              0.7777777777777778,
              "#fb9f3a"
             ],
             [
              0.8888888888888888,
              "#fdca26"
             ],
             [
              1,
              "#f0f921"
             ]
            ],
            "type": "heatmap"
           }
          ],
          "heatmapgl": [
           {
            "colorbar": {
             "outlinewidth": 0,
             "ticks": ""
            },
            "colorscale": [
             [
              0,
              "#0d0887"
             ],
             [
              0.1111111111111111,
              "#46039f"
             ],
             [
              0.2222222222222222,
              "#7201a8"
             ],
             [
              0.3333333333333333,
              "#9c179e"
             ],
             [
              0.4444444444444444,
              "#bd3786"
             ],
             [
              0.5555555555555556,
              "#d8576b"
             ],
             [
              0.6666666666666666,
              "#ed7953"
             ],
             [
              0.7777777777777778,
              "#fb9f3a"
             ],
             [
              0.8888888888888888,
              "#fdca26"
             ],
             [
              1,
              "#f0f921"
             ]
            ],
            "type": "heatmapgl"
           }
          ],
          "histogram": [
           {
            "marker": {
             "pattern": {
              "fillmode": "overlay",
              "size": 10,
              "solidity": 0.2
             }
            },
            "type": "histogram"
           }
          ],
          "histogram2d": [
           {
            "colorbar": {
             "outlinewidth": 0,
             "ticks": ""
            },
            "colorscale": [
             [
              0,
              "#0d0887"
             ],
             [
              0.1111111111111111,
              "#46039f"
             ],
             [
              0.2222222222222222,
              "#7201a8"
             ],
             [
              0.3333333333333333,
              "#9c179e"
             ],
             [
              0.4444444444444444,
              "#bd3786"
             ],
             [
              0.5555555555555556,
              "#d8576b"
             ],
             [
              0.6666666666666666,
              "#ed7953"
             ],
             [
              0.7777777777777778,
              "#fb9f3a"
             ],
             [
              0.8888888888888888,
              "#fdca26"
             ],
             [
              1,
              "#f0f921"
             ]
            ],
            "type": "histogram2d"
           }
          ],
          "histogram2dcontour": [
           {
            "colorbar": {
             "outlinewidth": 0,
             "ticks": ""
            },
            "colorscale": [
             [
              0,
              "#0d0887"
             ],
             [
              0.1111111111111111,
              "#46039f"
             ],
             [
              0.2222222222222222,
              "#7201a8"
             ],
             [
              0.3333333333333333,
              "#9c179e"
             ],
             [
              0.4444444444444444,
              "#bd3786"
             ],
             [
              0.5555555555555556,
              "#d8576b"
             ],
             [
              0.6666666666666666,
              "#ed7953"
             ],
             [
              0.7777777777777778,
              "#fb9f3a"
             ],
             [
              0.8888888888888888,
              "#fdca26"
             ],
             [
              1,
              "#f0f921"
             ]
            ],
            "type": "histogram2dcontour"
           }
          ],
          "mesh3d": [
           {
            "colorbar": {
             "outlinewidth": 0,
             "ticks": ""
            },
            "type": "mesh3d"
           }
          ],
          "parcoords": [
           {
            "line": {
             "colorbar": {
              "outlinewidth": 0,
              "ticks": ""
             }
            },
            "type": "parcoords"
           }
          ],
          "pie": [
           {
            "automargin": true,
            "type": "pie"
           }
          ],
          "scatter": [
           {
            "fillpattern": {
             "fillmode": "overlay",
             "size": 10,
             "solidity": 0.2
            },
            "type": "scatter"
           }
          ],
          "scatter3d": [
           {
            "line": {
             "colorbar": {
              "outlinewidth": 0,
              "ticks": ""
             }
            },
            "marker": {
             "colorbar": {
              "outlinewidth": 0,
              "ticks": ""
             }
            },
            "type": "scatter3d"
           }
          ],
          "scattercarpet": [
           {
            "marker": {
             "colorbar": {
              "outlinewidth": 0,
              "ticks": ""
             }
            },
            "type": "scattercarpet"
           }
          ],
          "scattergeo": [
           {
            "marker": {
             "colorbar": {
              "outlinewidth": 0,
              "ticks": ""
             }
            },
            "type": "scattergeo"
           }
          ],
          "scattergl": [
           {
            "marker": {
             "colorbar": {
              "outlinewidth": 0,
              "ticks": ""
             }
            },
            "type": "scattergl"
           }
          ],
          "scattermapbox": [
           {
            "marker": {
             "colorbar": {
              "outlinewidth": 0,
              "ticks": ""
             }
            },
            "type": "scattermapbox"
           }
          ],
          "scatterpolar": [
           {
            "marker": {
             "colorbar": {
              "outlinewidth": 0,
              "ticks": ""
             }
            },
            "type": "scatterpolar"
           }
          ],
          "scatterpolargl": [
           {
            "marker": {
             "colorbar": {
              "outlinewidth": 0,
              "ticks": ""
             }
            },
            "type": "scatterpolargl"
           }
          ],
          "scatterternary": [
           {
            "marker": {
             "colorbar": {
              "outlinewidth": 0,
              "ticks": ""
             }
            },
            "type": "scatterternary"
           }
          ],
          "surface": [
           {
            "colorbar": {
             "outlinewidth": 0,
             "ticks": ""
            },
            "colorscale": [
             [
              0,
              "#0d0887"
             ],
             [
              0.1111111111111111,
              "#46039f"
             ],
             [
              0.2222222222222222,
              "#7201a8"
             ],
             [
              0.3333333333333333,
              "#9c179e"
             ],
             [
              0.4444444444444444,
              "#bd3786"
             ],
             [
              0.5555555555555556,
              "#d8576b"
             ],
             [
              0.6666666666666666,
              "#ed7953"
             ],
             [
              0.7777777777777778,
              "#fb9f3a"
             ],
             [
              0.8888888888888888,
              "#fdca26"
             ],
             [
              1,
              "#f0f921"
             ]
            ],
            "type": "surface"
           }
          ],
          "table": [
           {
            "cells": {
             "fill": {
              "color": "#EBF0F8"
             },
             "line": {
              "color": "white"
             }
            },
            "header": {
             "fill": {
              "color": "#C8D4E3"
             },
             "line": {
              "color": "white"
             }
            },
            "type": "table"
           }
          ]
         },
         "layout": {
          "annotationdefaults": {
           "arrowcolor": "#2a3f5f",
           "arrowhead": 0,
           "arrowwidth": 1
          },
          "autotypenumbers": "strict",
          "coloraxis": {
           "colorbar": {
            "outlinewidth": 0,
            "ticks": ""
           }
          },
          "colorscale": {
           "diverging": [
            [
             0,
             "#8e0152"
            ],
            [
             0.1,
             "#c51b7d"
            ],
            [
             0.2,
             "#de77ae"
            ],
            [
             0.3,
             "#f1b6da"
            ],
            [
             0.4,
             "#fde0ef"
            ],
            [
             0.5,
             "#f7f7f7"
            ],
            [
             0.6,
             "#e6f5d0"
            ],
            [
             0.7,
             "#b8e186"
            ],
            [
             0.8,
             "#7fbc41"
            ],
            [
             0.9,
             "#4d9221"
            ],
            [
             1,
             "#276419"
            ]
           ],
           "sequential": [
            [
             0,
             "#0d0887"
            ],
            [
             0.1111111111111111,
             "#46039f"
            ],
            [
             0.2222222222222222,
             "#7201a8"
            ],
            [
             0.3333333333333333,
             "#9c179e"
            ],
            [
             0.4444444444444444,
             "#bd3786"
            ],
            [
             0.5555555555555556,
             "#d8576b"
            ],
            [
             0.6666666666666666,
             "#ed7953"
            ],
            [
             0.7777777777777778,
             "#fb9f3a"
            ],
            [
             0.8888888888888888,
             "#fdca26"
            ],
            [
             1,
             "#f0f921"
            ]
           ],
           "sequentialminus": [
            [
             0,
             "#0d0887"
            ],
            [
             0.1111111111111111,
             "#46039f"
            ],
            [
             0.2222222222222222,
             "#7201a8"
            ],
            [
             0.3333333333333333,
             "#9c179e"
            ],
            [
             0.4444444444444444,
             "#bd3786"
            ],
            [
             0.5555555555555556,
             "#d8576b"
            ],
            [
             0.6666666666666666,
             "#ed7953"
            ],
            [
             0.7777777777777778,
             "#fb9f3a"
            ],
            [
             0.8888888888888888,
             "#fdca26"
            ],
            [
             1,
             "#f0f921"
            ]
           ]
          },
          "colorway": [
           "#636efa",
           "#EF553B",
           "#00cc96",
           "#ab63fa",
           "#FFA15A",
           "#19d3f3",
           "#FF6692",
           "#B6E880",
           "#FF97FF",
           "#FECB52"
          ],
          "font": {
           "color": "#2a3f5f"
          },
          "geo": {
           "bgcolor": "white",
           "lakecolor": "white",
           "landcolor": "#E5ECF6",
           "showlakes": true,
           "showland": true,
           "subunitcolor": "white"
          },
          "hoverlabel": {
           "align": "left"
          },
          "hovermode": "closest",
          "mapbox": {
           "style": "light"
          },
          "paper_bgcolor": "white",
          "plot_bgcolor": "#E5ECF6",
          "polar": {
           "angularaxis": {
            "gridcolor": "white",
            "linecolor": "white",
            "ticks": ""
           },
           "bgcolor": "#E5ECF6",
           "radialaxis": {
            "gridcolor": "white",
            "linecolor": "white",
            "ticks": ""
           }
          },
          "scene": {
           "xaxis": {
            "backgroundcolor": "#E5ECF6",
            "gridcolor": "white",
            "gridwidth": 2,
            "linecolor": "white",
            "showbackground": true,
            "ticks": "",
            "zerolinecolor": "white"
           },
           "yaxis": {
            "backgroundcolor": "#E5ECF6",
            "gridcolor": "white",
            "gridwidth": 2,
            "linecolor": "white",
            "showbackground": true,
            "ticks": "",
            "zerolinecolor": "white"
           },
           "zaxis": {
            "backgroundcolor": "#E5ECF6",
            "gridcolor": "white",
            "gridwidth": 2,
            "linecolor": "white",
            "showbackground": true,
            "ticks": "",
            "zerolinecolor": "white"
           }
          },
          "shapedefaults": {
           "line": {
            "color": "#2a3f5f"
           }
          },
          "ternary": {
           "aaxis": {
            "gridcolor": "white",
            "linecolor": "white",
            "ticks": ""
           },
           "baxis": {
            "gridcolor": "white",
            "linecolor": "white",
            "ticks": ""
           },
           "bgcolor": "#E5ECF6",
           "caxis": {
            "gridcolor": "white",
            "linecolor": "white",
            "ticks": ""
           }
          },
          "title": {
           "x": 0.05
          },
          "xaxis": {
           "automargin": true,
           "gridcolor": "white",
           "linecolor": "white",
           "ticks": "",
           "title": {
            "standoff": 15
           },
           "zerolinecolor": "white",
           "zerolinewidth": 2
          },
          "yaxis": {
           "automargin": true,
           "gridcolor": "white",
           "linecolor": "white",
           "ticks": "",
           "title": {
            "standoff": 15
           },
           "zerolinecolor": "white",
           "zerolinewidth": 2
          }
         }
        },
        "title": {
         "text": "Distribution of Price by Bed"
        },
        "xaxis": {
         "anchor": "y",
         "domain": [
          0,
          1
         ],
         "title": {
          "text": "Giá/m2"
         }
        },
        "yaxis": {
         "anchor": "x",
         "domain": [
          0,
          1
         ],
         "title": {
          "text": "Count"
         }
        }
       }
      }
     },
     "metadata": {},
     "output_type": "display_data"
    }
   ],
   "source": [
    "fig = px.histogram(df, x=\"Giá/m²\", color=\"Số phòng ngủ\", nbins=20)\n",
    "fig.update_layout(title=\"Distribution of Price by Bed\", xaxis_title=\"Giá/m2\", yaxis_title=\"Count\")\n",
    "fig.show()"
   ]
  },
  {
   "cell_type": "code",
   "execution_count": 16,
   "metadata": {},
   "outputs": [
    {
     "data": {
      "text/html": [
       "<div>\n",
       "<style scoped>\n",
       "    .dataframe tbody tr th:only-of-type {\n",
       "        vertical-align: middle;\n",
       "    }\n",
       "\n",
       "    .dataframe tbody tr th {\n",
       "        vertical-align: top;\n",
       "    }\n",
       "\n",
       "    .dataframe thead th {\n",
       "        text-align: right;\n",
       "    }\n",
       "</style>\n",
       "<table border=\"1\" class=\"dataframe\">\n",
       "  <thead>\n",
       "    <tr style=\"text-align: right;\">\n",
       "      <th></th>\n",
       "      <th>Số phòng ngủ</th>\n",
       "      <th>Giá/m²</th>\n",
       "    </tr>\n",
       "  </thead>\n",
       "  <tbody>\n",
       "    <tr>\n",
       "      <th>9</th>\n",
       "      <td>10</td>\n",
       "      <td>221.942537</td>\n",
       "    </tr>\n",
       "    <tr>\n",
       "      <th>5</th>\n",
       "      <td>6</td>\n",
       "      <td>212.500000</td>\n",
       "    </tr>\n",
       "    <tr>\n",
       "      <th>7</th>\n",
       "      <td>8</td>\n",
       "      <td>196.705000</td>\n",
       "    </tr>\n",
       "    <tr>\n",
       "      <th>8</th>\n",
       "      <td>9</td>\n",
       "      <td>187.661667</td>\n",
       "    </tr>\n",
       "    <tr>\n",
       "      <th>6</th>\n",
       "      <td>7</td>\n",
       "      <td>171.700000</td>\n",
       "    </tr>\n",
       "    <tr>\n",
       "      <th>4</th>\n",
       "      <td>5</td>\n",
       "      <td>83.727692</td>\n",
       "    </tr>\n",
       "    <tr>\n",
       "      <th>3</th>\n",
       "      <td>4</td>\n",
       "      <td>70.628013</td>\n",
       "    </tr>\n",
       "    <tr>\n",
       "      <th>0</th>\n",
       "      <td>1</td>\n",
       "      <td>57.051144</td>\n",
       "    </tr>\n",
       "    <tr>\n",
       "      <th>2</th>\n",
       "      <td>3</td>\n",
       "      <td>52.444613</td>\n",
       "    </tr>\n",
       "    <tr>\n",
       "      <th>1</th>\n",
       "      <td>2</td>\n",
       "      <td>48.128367</td>\n",
       "    </tr>\n",
       "  </tbody>\n",
       "</table>\n",
       "</div>"
      ],
      "text/plain": [
       "   Số phòng ngủ      Giá/m²\n",
       "9            10  221.942537\n",
       "5             6  212.500000\n",
       "7             8  196.705000\n",
       "8             9  187.661667\n",
       "6             7  171.700000\n",
       "4             5   83.727692\n",
       "3             4   70.628013\n",
       "0             1   57.051144\n",
       "2             3   52.444613\n",
       "1             2   48.128367"
      ]
     },
     "execution_count": 16,
     "metadata": {},
     "output_type": "execute_result"
    }
   ],
   "source": [
    "df.groupby('Số phòng ngủ', as_index=False).agg({'Giá/m²' : 'mean'}).sort_values('Giá/m²', ascending=False)"
   ]
  },
  {
   "cell_type": "code",
   "execution_count": 18,
   "metadata": {},
   "outputs": [
    {
     "data": {
      "application/vnd.plotly.v1+json": {
       "config": {
        "plotlyServerURL": "https://plot.ly"
       },
       "data": [
        {
         "hovertemplate": "Số phòng ngủ=%{x}<br>Giá/m²=%{y}<extra></extra>",
         "legendgroup": "",
         "marker": {
          "color": "#636efa",
          "symbol": "circle"
         },
         "mode": "markers",
         "name": "",
         "orientation": "v",
         "showlegend": false,
         "type": "scatter",
         "x": [
          1,
          2,
          3,
          4,
          5,
          6,
          7,
          8,
          9,
          10
         ],
         "xaxis": "x",
         "y": [
          57.05114369501466,
          48.12836655945252,
          52.44461309017713,
          70.62801336842105,
          83.72769230769231,
          212.5,
          171.7,
          196.705,
          187.66166666666666,
          221.94253731343284
         ],
         "yaxis": "y"
        },
        {
         "hovertemplate": "<b>OLS trendline</b><br>Giá/m² = 21.9033 * Số phòng ngủ + 9.78071<br>R<sup>2</sup>=0.816450<br><br>Số phòng ngủ=%{x}<br>Giá/m²=%{y} <b>(trend)</b><extra></extra>",
         "legendgroup": "",
         "marker": {
          "color": "#636efa",
          "symbol": "circle"
         },
         "mode": "lines",
         "name": "",
         "showlegend": false,
         "type": "scatter",
         "x": [
          1,
          2,
          3,
          4,
          5,
          6,
          7,
          8,
          9,
          10
         ],
         "xaxis": "x",
         "y": [
          31.684016605928775,
          53.58732476018588,
          75.49063291444298,
          97.39394106870009,
          119.29724922295719,
          141.2005573772143,
          163.1038655314714,
          185.0071736857285,
          206.9104818399856,
          228.8137899942427
         ],
         "yaxis": "y"
        }
       ],
       "layout": {
        "legend": {
         "tracegroupgap": 0
        },
        "margin": {
         "t": 60
        },
        "template": {
         "data": {
          "bar": [
           {
            "error_x": {
             "color": "#2a3f5f"
            },
            "error_y": {
             "color": "#2a3f5f"
            },
            "marker": {
             "line": {
              "color": "#E5ECF6",
              "width": 0.5
             },
             "pattern": {
              "fillmode": "overlay",
              "size": 10,
              "solidity": 0.2
             }
            },
            "type": "bar"
           }
          ],
          "barpolar": [
           {
            "marker": {
             "line": {
              "color": "#E5ECF6",
              "width": 0.5
             },
             "pattern": {
              "fillmode": "overlay",
              "size": 10,
              "solidity": 0.2
             }
            },
            "type": "barpolar"
           }
          ],
          "carpet": [
           {
            "aaxis": {
             "endlinecolor": "#2a3f5f",
             "gridcolor": "white",
             "linecolor": "white",
             "minorgridcolor": "white",
             "startlinecolor": "#2a3f5f"
            },
            "baxis": {
             "endlinecolor": "#2a3f5f",
             "gridcolor": "white",
             "linecolor": "white",
             "minorgridcolor": "white",
             "startlinecolor": "#2a3f5f"
            },
            "type": "carpet"
           }
          ],
          "choropleth": [
           {
            "colorbar": {
             "outlinewidth": 0,
             "ticks": ""
            },
            "type": "choropleth"
           }
          ],
          "contour": [
           {
            "colorbar": {
             "outlinewidth": 0,
             "ticks": ""
            },
            "colorscale": [
             [
              0,
              "#0d0887"
             ],
             [
              0.1111111111111111,
              "#46039f"
             ],
             [
              0.2222222222222222,
              "#7201a8"
             ],
             [
              0.3333333333333333,
              "#9c179e"
             ],
             [
              0.4444444444444444,
              "#bd3786"
             ],
             [
              0.5555555555555556,
              "#d8576b"
             ],
             [
              0.6666666666666666,
              "#ed7953"
             ],
             [
              0.7777777777777778,
              "#fb9f3a"
             ],
             [
              0.8888888888888888,
              "#fdca26"
             ],
             [
              1,
              "#f0f921"
             ]
            ],
            "type": "contour"
           }
          ],
          "contourcarpet": [
           {
            "colorbar": {
             "outlinewidth": 0,
             "ticks": ""
            },
            "type": "contourcarpet"
           }
          ],
          "heatmap": [
           {
            "colorbar": {
             "outlinewidth": 0,
             "ticks": ""
            },
            "colorscale": [
             [
              0,
              "#0d0887"
             ],
             [
              0.1111111111111111,
              "#46039f"
             ],
             [
              0.2222222222222222,
              "#7201a8"
             ],
             [
              0.3333333333333333,
              "#9c179e"
             ],
             [
              0.4444444444444444,
              "#bd3786"
             ],
             [
              0.5555555555555556,
              "#d8576b"
             ],
             [
              0.6666666666666666,
              "#ed7953"
             ],
             [
              0.7777777777777778,
              "#fb9f3a"
             ],
             [
              0.8888888888888888,
              "#fdca26"
             ],
             [
              1,
              "#f0f921"
             ]
            ],
            "type": "heatmap"
           }
          ],
          "heatmapgl": [
           {
            "colorbar": {
             "outlinewidth": 0,
             "ticks": ""
            },
            "colorscale": [
             [
              0,
              "#0d0887"
             ],
             [
              0.1111111111111111,
              "#46039f"
             ],
             [
              0.2222222222222222,
              "#7201a8"
             ],
             [
              0.3333333333333333,
              "#9c179e"
             ],
             [
              0.4444444444444444,
              "#bd3786"
             ],
             [
              0.5555555555555556,
              "#d8576b"
             ],
             [
              0.6666666666666666,
              "#ed7953"
             ],
             [
              0.7777777777777778,
              "#fb9f3a"
             ],
             [
              0.8888888888888888,
              "#fdca26"
             ],
             [
              1,
              "#f0f921"
             ]
            ],
            "type": "heatmapgl"
           }
          ],
          "histogram": [
           {
            "marker": {
             "pattern": {
              "fillmode": "overlay",
              "size": 10,
              "solidity": 0.2
             }
            },
            "type": "histogram"
           }
          ],
          "histogram2d": [
           {
            "colorbar": {
             "outlinewidth": 0,
             "ticks": ""
            },
            "colorscale": [
             [
              0,
              "#0d0887"
             ],
             [
              0.1111111111111111,
              "#46039f"
             ],
             [
              0.2222222222222222,
              "#7201a8"
             ],
             [
              0.3333333333333333,
              "#9c179e"
             ],
             [
              0.4444444444444444,
              "#bd3786"
             ],
             [
              0.5555555555555556,
              "#d8576b"
             ],
             [
              0.6666666666666666,
              "#ed7953"
             ],
             [
              0.7777777777777778,
              "#fb9f3a"
             ],
             [
              0.8888888888888888,
              "#fdca26"
             ],
             [
              1,
              "#f0f921"
             ]
            ],
            "type": "histogram2d"
           }
          ],
          "histogram2dcontour": [
           {
            "colorbar": {
             "outlinewidth": 0,
             "ticks": ""
            },
            "colorscale": [
             [
              0,
              "#0d0887"
             ],
             [
              0.1111111111111111,
              "#46039f"
             ],
             [
              0.2222222222222222,
              "#7201a8"
             ],
             [
              0.3333333333333333,
              "#9c179e"
             ],
             [
              0.4444444444444444,
              "#bd3786"
             ],
             [
              0.5555555555555556,
              "#d8576b"
             ],
             [
              0.6666666666666666,
              "#ed7953"
             ],
             [
              0.7777777777777778,
              "#fb9f3a"
             ],
             [
              0.8888888888888888,
              "#fdca26"
             ],
             [
              1,
              "#f0f921"
             ]
            ],
            "type": "histogram2dcontour"
           }
          ],
          "mesh3d": [
           {
            "colorbar": {
             "outlinewidth": 0,
             "ticks": ""
            },
            "type": "mesh3d"
           }
          ],
          "parcoords": [
           {
            "line": {
             "colorbar": {
              "outlinewidth": 0,
              "ticks": ""
             }
            },
            "type": "parcoords"
           }
          ],
          "pie": [
           {
            "automargin": true,
            "type": "pie"
           }
          ],
          "scatter": [
           {
            "fillpattern": {
             "fillmode": "overlay",
             "size": 10,
             "solidity": 0.2
            },
            "type": "scatter"
           }
          ],
          "scatter3d": [
           {
            "line": {
             "colorbar": {
              "outlinewidth": 0,
              "ticks": ""
             }
            },
            "marker": {
             "colorbar": {
              "outlinewidth": 0,
              "ticks": ""
             }
            },
            "type": "scatter3d"
           }
          ],
          "scattercarpet": [
           {
            "marker": {
             "colorbar": {
              "outlinewidth": 0,
              "ticks": ""
             }
            },
            "type": "scattercarpet"
           }
          ],
          "scattergeo": [
           {
            "marker": {
             "colorbar": {
              "outlinewidth": 0,
              "ticks": ""
             }
            },
            "type": "scattergeo"
           }
          ],
          "scattergl": [
           {
            "marker": {
             "colorbar": {
              "outlinewidth": 0,
              "ticks": ""
             }
            },
            "type": "scattergl"
           }
          ],
          "scattermapbox": [
           {
            "marker": {
             "colorbar": {
              "outlinewidth": 0,
              "ticks": ""
             }
            },
            "type": "scattermapbox"
           }
          ],
          "scatterpolar": [
           {
            "marker": {
             "colorbar": {
              "outlinewidth": 0,
              "ticks": ""
             }
            },
            "type": "scatterpolar"
           }
          ],
          "scatterpolargl": [
           {
            "marker": {
             "colorbar": {
              "outlinewidth": 0,
              "ticks": ""
             }
            },
            "type": "scatterpolargl"
           }
          ],
          "scatterternary": [
           {
            "marker": {
             "colorbar": {
              "outlinewidth": 0,
              "ticks": ""
             }
            },
            "type": "scatterternary"
           }
          ],
          "surface": [
           {
            "colorbar": {
             "outlinewidth": 0,
             "ticks": ""
            },
            "colorscale": [
             [
              0,
              "#0d0887"
             ],
             [
              0.1111111111111111,
              "#46039f"
             ],
             [
              0.2222222222222222,
              "#7201a8"
             ],
             [
              0.3333333333333333,
              "#9c179e"
             ],
             [
              0.4444444444444444,
              "#bd3786"
             ],
             [
              0.5555555555555556,
              "#d8576b"
             ],
             [
              0.6666666666666666,
              "#ed7953"
             ],
             [
              0.7777777777777778,
              "#fb9f3a"
             ],
             [
              0.8888888888888888,
              "#fdca26"
             ],
             [
              1,
              "#f0f921"
             ]
            ],
            "type": "surface"
           }
          ],
          "table": [
           {
            "cells": {
             "fill": {
              "color": "#EBF0F8"
             },
             "line": {
              "color": "white"
             }
            },
            "header": {
             "fill": {
              "color": "#C8D4E3"
             },
             "line": {
              "color": "white"
             }
            },
            "type": "table"
           }
          ]
         },
         "layout": {
          "annotationdefaults": {
           "arrowcolor": "#2a3f5f",
           "arrowhead": 0,
           "arrowwidth": 1
          },
          "autotypenumbers": "strict",
          "coloraxis": {
           "colorbar": {
            "outlinewidth": 0,
            "ticks": ""
           }
          },
          "colorscale": {
           "diverging": [
            [
             0,
             "#8e0152"
            ],
            [
             0.1,
             "#c51b7d"
            ],
            [
             0.2,
             "#de77ae"
            ],
            [
             0.3,
             "#f1b6da"
            ],
            [
             0.4,
             "#fde0ef"
            ],
            [
             0.5,
             "#f7f7f7"
            ],
            [
             0.6,
             "#e6f5d0"
            ],
            [
             0.7,
             "#b8e186"
            ],
            [
             0.8,
             "#7fbc41"
            ],
            [
             0.9,
             "#4d9221"
            ],
            [
             1,
             "#276419"
            ]
           ],
           "sequential": [
            [
             0,
             "#0d0887"
            ],
            [
             0.1111111111111111,
             "#46039f"
            ],
            [
             0.2222222222222222,
             "#7201a8"
            ],
            [
             0.3333333333333333,
             "#9c179e"
            ],
            [
             0.4444444444444444,
             "#bd3786"
            ],
            [
             0.5555555555555556,
             "#d8576b"
            ],
            [
             0.6666666666666666,
             "#ed7953"
            ],
            [
             0.7777777777777778,
             "#fb9f3a"
            ],
            [
             0.8888888888888888,
             "#fdca26"
            ],
            [
             1,
             "#f0f921"
            ]
           ],
           "sequentialminus": [
            [
             0,
             "#0d0887"
            ],
            [
             0.1111111111111111,
             "#46039f"
            ],
            [
             0.2222222222222222,
             "#7201a8"
            ],
            [
             0.3333333333333333,
             "#9c179e"
            ],
            [
             0.4444444444444444,
             "#bd3786"
            ],
            [
             0.5555555555555556,
             "#d8576b"
            ],
            [
             0.6666666666666666,
             "#ed7953"
            ],
            [
             0.7777777777777778,
             "#fb9f3a"
            ],
            [
             0.8888888888888888,
             "#fdca26"
            ],
            [
             1,
             "#f0f921"
            ]
           ]
          },
          "colorway": [
           "#636efa",
           "#EF553B",
           "#00cc96",
           "#ab63fa",
           "#FFA15A",
           "#19d3f3",
           "#FF6692",
           "#B6E880",
           "#FF97FF",
           "#FECB52"
          ],
          "font": {
           "color": "#2a3f5f"
          },
          "geo": {
           "bgcolor": "white",
           "lakecolor": "white",
           "landcolor": "#E5ECF6",
           "showlakes": true,
           "showland": true,
           "subunitcolor": "white"
          },
          "hoverlabel": {
           "align": "left"
          },
          "hovermode": "closest",
          "mapbox": {
           "style": "light"
          },
          "paper_bgcolor": "white",
          "plot_bgcolor": "#E5ECF6",
          "polar": {
           "angularaxis": {
            "gridcolor": "white",
            "linecolor": "white",
            "ticks": ""
           },
           "bgcolor": "#E5ECF6",
           "radialaxis": {
            "gridcolor": "white",
            "linecolor": "white",
            "ticks": ""
           }
          },
          "scene": {
           "xaxis": {
            "backgroundcolor": "#E5ECF6",
            "gridcolor": "white",
            "gridwidth": 2,
            "linecolor": "white",
            "showbackground": true,
            "ticks": "",
            "zerolinecolor": "white"
           },
           "yaxis": {
            "backgroundcolor": "#E5ECF6",
            "gridcolor": "white",
            "gridwidth": 2,
            "linecolor": "white",
            "showbackground": true,
            "ticks": "",
            "zerolinecolor": "white"
           },
           "zaxis": {
            "backgroundcolor": "#E5ECF6",
            "gridcolor": "white",
            "gridwidth": 2,
            "linecolor": "white",
            "showbackground": true,
            "ticks": "",
            "zerolinecolor": "white"
           }
          },
          "shapedefaults": {
           "line": {
            "color": "#2a3f5f"
           }
          },
          "ternary": {
           "aaxis": {
            "gridcolor": "white",
            "linecolor": "white",
            "ticks": ""
           },
           "baxis": {
            "gridcolor": "white",
            "linecolor": "white",
            "ticks": ""
           },
           "bgcolor": "#E5ECF6",
           "caxis": {
            "gridcolor": "white",
            "linecolor": "white",
            "ticks": ""
           }
          },
          "title": {
           "x": 0.05
          },
          "xaxis": {
           "automargin": true,
           "gridcolor": "white",
           "linecolor": "white",
           "ticks": "",
           "title": {
            "standoff": 15
           },
           "zerolinecolor": "white",
           "zerolinewidth": 2
          },
          "yaxis": {
           "automargin": true,
           "gridcolor": "white",
           "linecolor": "white",
           "ticks": "",
           "title": {
            "standoff": 15
           },
           "zerolinecolor": "white",
           "zerolinewidth": 2
          }
         }
        },
        "title": {
         "text": "Average Price per Số phòng ngủ"
        },
        "xaxis": {
         "anchor": "y",
         "domain": [
          0,
          1
         ],
         "title": {
          "text": "Số phòng ngủ"
         }
        },
        "yaxis": {
         "anchor": "x",
         "domain": [
          0,
          1
         ],
         "title": {
          "text": "Giá/m²"
         }
        }
       }
      }
     },
     "metadata": {},
     "output_type": "display_data"
    }
   ],
   "source": [
    "df_mean = df.groupby('Số phòng ngủ')['Giá/m²'].mean().reset_index()\n",
    "\n",
    "# plot mean price per acre lot\n",
    "fig = px.scatter(df_mean, x='Số phòng ngủ', y='Giá/m²', trendline='ols')\n",
    "fig.update_layout(title='Average Price per Số phòng ngủ', xaxis_title='Số phòng ngủ', yaxis_title='Giá/m²')\n",
    "fig.show()"
   ]
  },
  {
   "cell_type": "markdown",
   "metadata": {},
   "source": [
    "Phụ thuộc của giá vào diện tích "
   ]
  },
  {
   "cell_type": "code",
   "execution_count": 32,
   "metadata": {},
   "outputs": [
    {
     "data": {
      "text/html": [
       "<div>\n",
       "<style scoped>\n",
       "    .dataframe tbody tr th:only-of-type {\n",
       "        vertical-align: middle;\n",
       "    }\n",
       "\n",
       "    .dataframe tbody tr th {\n",
       "        vertical-align: top;\n",
       "    }\n",
       "\n",
       "    .dataframe thead th {\n",
       "        text-align: right;\n",
       "    }\n",
       "</style>\n",
       "<table border=\"1\" class=\"dataframe\">\n",
       "  <thead>\n",
       "    <tr style=\"text-align: right;\">\n",
       "      <th></th>\n",
       "      <th>Diện tích</th>\n",
       "      <th>Giá/m²</th>\n",
       "    </tr>\n",
       "  </thead>\n",
       "  <tbody>\n",
       "    <tr>\n",
       "      <th>0</th>\n",
       "      <td>17.0</td>\n",
       "      <td>194.12000</td>\n",
       "    </tr>\n",
       "    <tr>\n",
       "      <th>1</th>\n",
       "      <td>18.0</td>\n",
       "      <td>161.94500</td>\n",
       "    </tr>\n",
       "    <tr>\n",
       "      <th>2</th>\n",
       "      <td>20.0</td>\n",
       "      <td>108.75000</td>\n",
       "    </tr>\n",
       "    <tr>\n",
       "      <th>3</th>\n",
       "      <td>22.0</td>\n",
       "      <td>32.73000</td>\n",
       "    </tr>\n",
       "    <tr>\n",
       "      <th>4</th>\n",
       "      <td>23.0</td>\n",
       "      <td>107.61000</td>\n",
       "    </tr>\n",
       "    <tr>\n",
       "      <th>...</th>\n",
       "      <td>...</td>\n",
       "      <td>...</td>\n",
       "    </tr>\n",
       "    <tr>\n",
       "      <th>233</th>\n",
       "      <td>235.0</td>\n",
       "      <td>110.21000</td>\n",
       "    </tr>\n",
       "    <tr>\n",
       "      <th>234</th>\n",
       "      <td>245.0</td>\n",
       "      <td>65.31000</td>\n",
       "    </tr>\n",
       "    <tr>\n",
       "      <th>235</th>\n",
       "      <td>276.0</td>\n",
       "      <td>34.42000</td>\n",
       "    </tr>\n",
       "    <tr>\n",
       "      <th>236</th>\n",
       "      <td>500.0</td>\n",
       "      <td>56.00000</td>\n",
       "    </tr>\n",
       "    <tr>\n",
       "      <th>237</th>\n",
       "      <td>5031.0</td>\n",
       "      <td>0.73544</td>\n",
       "    </tr>\n",
       "  </tbody>\n",
       "</table>\n",
       "<p>238 rows × 2 columns</p>\n",
       "</div>"
      ],
      "text/plain": [
       "     Diện tích     Giá/m²\n",
       "0         17.0  194.12000\n",
       "1         18.0  161.94500\n",
       "2         20.0  108.75000\n",
       "3         22.0   32.73000\n",
       "4         23.0  107.61000\n",
       "..         ...        ...\n",
       "233      235.0  110.21000\n",
       "234      245.0   65.31000\n",
       "235      276.0   34.42000\n",
       "236      500.0   56.00000\n",
       "237     5031.0    0.73544\n",
       "\n",
       "[238 rows x 2 columns]"
      ]
     },
     "execution_count": 32,
     "metadata": {},
     "output_type": "execute_result"
    }
   ],
   "source": [
    "df_mean"
   ]
  },
  {
   "cell_type": "code",
   "execution_count": 39,
   "metadata": {},
   "outputs": [
    {
     "data": {
      "text/html": [
       "<div>\n",
       "<style scoped>\n",
       "    .dataframe tbody tr th:only-of-type {\n",
       "        vertical-align: middle;\n",
       "    }\n",
       "\n",
       "    .dataframe tbody tr th {\n",
       "        vertical-align: top;\n",
       "    }\n",
       "\n",
       "    .dataframe thead th {\n",
       "        text-align: right;\n",
       "    }\n",
       "</style>\n",
       "<table border=\"1\" class=\"dataframe\">\n",
       "  <thead>\n",
       "    <tr style=\"text-align: right;\">\n",
       "      <th></th>\n",
       "      <th>Diện tích</th>\n",
       "      <th>Giá/m²</th>\n",
       "    </tr>\n",
       "  </thead>\n",
       "  <tbody>\n",
       "    <tr>\n",
       "      <th>0</th>\n",
       "      <td>17.0</td>\n",
       "      <td>194.120</td>\n",
       "    </tr>\n",
       "    <tr>\n",
       "      <th>1</th>\n",
       "      <td>18.0</td>\n",
       "      <td>161.945</td>\n",
       "    </tr>\n",
       "    <tr>\n",
       "      <th>2</th>\n",
       "      <td>20.0</td>\n",
       "      <td>108.750</td>\n",
       "    </tr>\n",
       "    <tr>\n",
       "      <th>3</th>\n",
       "      <td>22.0</td>\n",
       "      <td>32.730</td>\n",
       "    </tr>\n",
       "    <tr>\n",
       "      <th>4</th>\n",
       "      <td>23.0</td>\n",
       "      <td>107.610</td>\n",
       "    </tr>\n",
       "    <tr>\n",
       "      <th>...</th>\n",
       "      <td>...</td>\n",
       "      <td>...</td>\n",
       "    </tr>\n",
       "    <tr>\n",
       "      <th>232</th>\n",
       "      <td>230.0</td>\n",
       "      <td>47.830</td>\n",
       "    </tr>\n",
       "    <tr>\n",
       "      <th>233</th>\n",
       "      <td>235.0</td>\n",
       "      <td>110.210</td>\n",
       "    </tr>\n",
       "    <tr>\n",
       "      <th>234</th>\n",
       "      <td>245.0</td>\n",
       "      <td>65.310</td>\n",
       "    </tr>\n",
       "    <tr>\n",
       "      <th>235</th>\n",
       "      <td>276.0</td>\n",
       "      <td>34.420</td>\n",
       "    </tr>\n",
       "    <tr>\n",
       "      <th>236</th>\n",
       "      <td>500.0</td>\n",
       "      <td>56.000</td>\n",
       "    </tr>\n",
       "  </tbody>\n",
       "</table>\n",
       "<p>237 rows × 2 columns</p>\n",
       "</div>"
      ],
      "text/plain": [
       "     Diện tích   Giá/m²\n",
       "0         17.0  194.120\n",
       "1         18.0  161.945\n",
       "2         20.0  108.750\n",
       "3         22.0   32.730\n",
       "4         23.0  107.610\n",
       "..         ...      ...\n",
       "232      230.0   47.830\n",
       "233      235.0  110.210\n",
       "234      245.0   65.310\n",
       "235      276.0   34.420\n",
       "236      500.0   56.000\n",
       "\n",
       "[237 rows x 2 columns]"
      ]
     },
     "execution_count": 39,
     "metadata": {},
     "output_type": "execute_result"
    }
   ],
   "source": [
    "df_test = df_mean[df_mean['Diện tích'] != 5031.0]\n",
    "df_test"
   ]
  },
  {
   "cell_type": "code",
   "execution_count": 40,
   "metadata": {},
   "outputs": [
    {
     "data": {
      "application/vnd.plotly.v1+json": {
       "config": {
        "plotlyServerURL": "https://plot.ly"
       },
       "data": [
        {
         "hovertemplate": "Diện tích=%{x}<br>Giá/m²=%{y}<extra></extra>",
         "legendgroup": "",
         "marker": {
          "color": "#636efa",
          "symbol": "circle"
         },
         "mode": "markers",
         "name": "",
         "orientation": "v",
         "showlegend": false,
         "type": "scatter",
         "x": [
          17,
          18,
          20,
          22,
          23,
          24,
          25,
          25.5,
          25.7,
          26,
          26.2,
          28,
          29,
          30,
          30.6,
          31,
          31.74,
          32,
          33,
          33.2,
          33.5,
          33.7,
          34,
          35,
          36,
          37,
          37.4,
          37.5,
          38,
          39,
          39.5,
          40,
          41,
          41.8,
          42,
          42.9,
          43,
          43.1,
          44,
          44.5,
          45,
          46,
          46.9,
          47,
          48,
          48.5,
          49,
          50,
          51,
          52,
          53,
          53.3,
          53.5,
          54,
          54.2,
          54.3,
          54.6,
          55,
          55.6,
          56,
          56.5,
          57,
          58,
          58.3,
          58.4,
          59,
          59.7,
          60,
          60.2,
          60.3,
          61,
          61.5,
          62,
          62.2,
          63,
          63.2,
          63.3,
          64,
          64.4,
          65,
          65.6,
          66,
          66.5,
          67,
          68,
          68.39,
          69,
          69.2,
          69.3,
          69.5,
          69.9,
          70,
          70.8,
          71,
          71.6,
          72,
          72.6,
          73,
          73.6,
          73.9,
          74,
          74.3,
          74.7,
          75,
          75.1,
          75.6,
          75.8,
          76,
          76.5,
          76.6,
          76.7,
          77,
          77.3,
          77.6,
          77.8,
          78,
          79,
          80,
          80.5,
          80.6,
          81,
          81.2,
          81.3,
          81.8,
          82,
          82.2,
          82.5,
          83,
          83.1,
          83.7,
          84,
          85,
          86,
          86.4,
          87,
          87.4,
          87.8,
          88,
          88.1,
          89,
          90,
          90.7,
          91,
          91.9,
          92,
          92.3,
          92.5,
          93,
          93.13,
          93.2,
          94,
          95,
          95.3,
          95.45,
          95.7,
          96,
          96.5,
          97,
          98,
          99,
          100,
          101,
          102,
          103,
          104,
          104.3,
          105,
          106,
          107,
          107.1,
          108,
          109,
          110,
          111,
          112,
          112.2,
          113,
          113.9,
          114,
          115,
          116,
          117,
          118,
          119,
          120,
          121,
          122,
          123,
          124,
          125,
          126,
          127,
          127.2,
          128,
          128.4,
          130,
          132,
          132.2,
          133,
          134,
          134.6,
          137,
          138,
          139,
          140,
          141,
          142,
          142.5,
          143,
          145,
          146,
          150,
          151,
          153,
          155,
          156.5,
          157,
          159,
          160,
          163,
          166,
          167,
          170,
          175,
          178,
          181.2,
          186,
          193,
          196,
          200,
          205,
          210,
          230,
          235,
          245,
          276,
          500
         ],
         "xaxis": "x",
         "y": [
          194.12,
          161.945,
          108.75,
          32.73,
          107.61,
          73.33,
          66.2,
          94.12,
          82.49,
          69.23166666666667,
          76.34,
          76.98210526315789,
          60.26,
          58.27272727272727,
          74.84,
          54.60108695652174,
          72.46,
          68.77666666666666,
          55.1204545,
          120.48,
          49.55,
          53.41,
          68.72666666666666,
          40.473457100000005,
          46.14111111111111,
          42.20611111111111,
          69.52,
          44.27,
          67.55785714285715,
          93.5875,
          63.29,
          85.82931034482759,
          124.34833333333334,
          55.02,
          32.040625,
          65.97,
          70.50387755102041,
          69.61,
          123.295,
          0.096629,
          59.96625,
          39.553125,
          240.94,
          48.405617977528095,
          51.4695,
          42.27,
          151.02,
          45.53774647887324,
          32.1531372,
          45.474230769230765,
          76.41375000000001,
          46.9,
          84.11,
          58.67416666666667,
          64.58,
          51.01333333333334,
          62.14666666666667,
          45.51915094339623,
          0.809353,
          43.417,
          54.87,
          164.6357142857143,
          57.904444444444444,
          0.048885,
          35.96,
          77.24266666666666,
          75.38,
          51.66335877862595,
          38.21,
          77.94,
          50.251666666666665,
          60,
          67.81,
          48.39,
          65.49090909090908,
          59.65,
          61.22,
          68.04882352941176,
          45.81,
          63.47495857692308,
          47.26,
          75.54104892307693,
          53.38,
          53.087846428571424,
          52.56242424242424,
          54.83,
          59.8848731875,
          57.8,
          7.36,
          46.765,
          25.04,
          50.659900500000006,
          64,
          81.5416338,
          75.42,
          51.257673583333336,
          93.66,
          99.0111111111111,
          85.6,
          74.42,
          54.84307692307693,
          63.26,
          41.65,
          55.03938461538461,
          48.5,
          38.36,
          65.96,
          54.53445017857143,
          54.25,
          93.345,
          58.67,
          55.37428571428571,
          217.34,
          46.97,
          43.7,
          53.339339153846154,
          56.914113875,
          50.885362903225804,
          0.881987,
          42.8,
          75.14416666666666,
          64.04,
          44.14,
          40.34,
          57.10555555555556,
          57.79,
          48.48,
          60.89818181818182,
          60.77,
          113.5,
          73.66333333333334,
          53.11774193548386,
          63.284,
          0.798611,
          58.11,
          90,
          7.46,
          93.61857142857141,
          90.81,
          52.81466288888888,
          73.22897435897436,
          69.46,
          62.462,
          44.61,
          53.91721528571428,
          67.17,
          0.562162,
          75.92857142857143,
          86,
          45.06,
          77.28,
          56.413181818181826,
          71.88,
          60.76,
          104.49,
          72.74111111111111,
          60.1,
          65.672,
          55.711666666666666,
          55.012,
          55.82749999999999,
          60.8425,
          48.790245,
          62.62,
          68.68142857142857,
          0.498561,
          61.49421052631578,
          51.79,
          49.93730516666667,
          38.28,
          52.86142857142857,
          49.6575,
          62.637430826086955,
          51.0575,
          60.113,
          36.54,
          38.94345116666667,
          64.1,
          59.65,
          62.348,
          62.285,
          49.28666666666666,
          52.7,
          74.09666666666668,
          40.730588235294114,
          62.105000000000004,
          50.977999999999994,
          64.63,
          49.92,
          55.6344,
          55.4,
          59.845,
          40.88,
          40.62,
          46.73,
          49.6475,
          56,
          52.95,
          32.80556333333333,
          51.49,
          60.03,
          78.1,
          53.38,
          34.885000000000005,
          32.89142833333333,
          66.315,
          56.9,
          0.014035,
          45.015407666666675,
          60.34,
          57.875,
          110.22333333333331,
          53.31,
          52.084,
          40.6425,
          223.64,
          44.39,
          47.59,
          45.94,
          61.35,
          55.72,
          70.66,
          120.6063395,
          56,
          50,
          55.19,
          78.85666666666667,
          82.9,
          67.94333333333334,
          72.25,
          33.41,
          121.43,
          47.83,
          110.21,
          65.31,
          34.42,
          56
         ],
         "yaxis": "y"
        },
        {
         "hovertemplate": "<b>OLS trendline</b><br>Giá/m² = -0.0501116 * Diện tích + 67.171<br>R<sup>2</sup>=0.007047<br><br>Diện tích=%{x}<br>Giá/m²=%{y} <b>(trend)</b><extra></extra>",
         "legendgroup": "",
         "marker": {
          "color": "#636efa",
          "symbol": "circle"
         },
         "mode": "lines",
         "name": "",
         "showlegend": false,
         "type": "scatter",
         "x": [
          17,
          18,
          20,
          22,
          23,
          24,
          25,
          25.5,
          25.7,
          26,
          26.2,
          28,
          29,
          30,
          30.6,
          31,
          31.74,
          32,
          33,
          33.2,
          33.5,
          33.7,
          34,
          35,
          36,
          37,
          37.4,
          37.5,
          38,
          39,
          39.5,
          40,
          41,
          41.8,
          42,
          42.9,
          43,
          43.1,
          44,
          44.5,
          45,
          46,
          46.9,
          47,
          48,
          48.5,
          49,
          50,
          51,
          52,
          53,
          53.3,
          53.5,
          54,
          54.2,
          54.3,
          54.6,
          55,
          55.6,
          56,
          56.5,
          57,
          58,
          58.3,
          58.4,
          59,
          59.7,
          60,
          60.2,
          60.3,
          61,
          61.5,
          62,
          62.2,
          63,
          63.2,
          63.3,
          64,
          64.4,
          65,
          65.6,
          66,
          66.5,
          67,
          68,
          68.39,
          69,
          69.2,
          69.3,
          69.5,
          69.9,
          70,
          70.8,
          71,
          71.6,
          72,
          72.6,
          73,
          73.6,
          73.9,
          74,
          74.3,
          74.7,
          75,
          75.1,
          75.6,
          75.8,
          76,
          76.5,
          76.6,
          76.7,
          77,
          77.3,
          77.6,
          77.8,
          78,
          79,
          80,
          80.5,
          80.6,
          81,
          81.2,
          81.3,
          81.8,
          82,
          82.2,
          82.5,
          83,
          83.1,
          83.7,
          84,
          85,
          86,
          86.4,
          87,
          87.4,
          87.8,
          88,
          88.1,
          89,
          90,
          90.7,
          91,
          91.9,
          92,
          92.3,
          92.5,
          93,
          93.13,
          93.2,
          94,
          95,
          95.3,
          95.45,
          95.7,
          96,
          96.5,
          97,
          98,
          99,
          100,
          101,
          102,
          103,
          104,
          104.3,
          105,
          106,
          107,
          107.1,
          108,
          109,
          110,
          111,
          112,
          112.2,
          113,
          113.9,
          114,
          115,
          116,
          117,
          118,
          119,
          120,
          121,
          122,
          123,
          124,
          125,
          126,
          127,
          127.2,
          128,
          128.4,
          130,
          132,
          132.2,
          133,
          134,
          134.6,
          137,
          138,
          139,
          140,
          141,
          142,
          142.5,
          143,
          145,
          146,
          150,
          151,
          153,
          155,
          156.5,
          157,
          159,
          160,
          163,
          166,
          167,
          170,
          175,
          178,
          181.2,
          186,
          193,
          196,
          200,
          205,
          210,
          230,
          235,
          245,
          276,
          500
         ],
         "xaxis": "x",
         "y": [
          66.31906324725598,
          66.26895161618108,
          66.16872835403127,
          66.06850509188148,
          66.01839346080658,
          65.96828182973168,
          65.91817019865677,
          65.89311438311933,
          65.88309205690435,
          65.86805856758187,
          65.85803624136689,
          65.76783530543207,
          65.71772367435717,
          65.66761204328226,
          65.63754506463732,
          65.61750041220736,
          65.58041780521194,
          65.56738878113246,
          65.51727715005757,
          65.50725482384259,
          65.49222133452011,
          65.48219900830513,
          65.46716551898267,
          65.41705388790777,
          65.36694225683286,
          65.31683062575796,
          65.296785973328,
          65.29177481022052,
          65.26671899468306,
          65.21660736360816,
          65.1915515480707,
          65.16649573253326,
          65.11638410145835,
          65.07629479659843,
          65.06627247038345,
          65.02117200241605,
          65.01616083930855,
          65.01114967620106,
          64.96604920823366,
          64.9409933926962,
          64.91593757715876,
          64.86582594608385,
          64.82072547811644,
          64.81571431500895,
          64.76560268393405,
          64.74054686839659,
          64.71549105285915,
          64.66537942178425,
          64.61526779070935,
          64.56515615963444,
          64.51504452855954,
          64.50001103923708,
          64.4899887130221,
          64.46493289748464,
          64.45491057126966,
          64.44989940816217,
          64.4348659188397,
          64.41482126640975,
          64.3847542877648,
          64.36470963533485,
          64.33965381979739,
          64.31459800425993,
          64.26448637318504,
          64.24945288386257,
          64.24444172075508,
          64.21437474211014,
          64.1792966003577,
          64.16426311103524,
          64.15424078482026,
          64.14922962171276,
          64.11415147996034,
          64.08909566442289,
          64.06403984888544,
          64.05401752267045,
          64.01392821781053,
          64.00390589159555,
          63.99889472848807,
          63.96381658673563,
          63.94377193430567,
          63.913704955660734,
          63.883637977015795,
          63.863593324585835,
          63.83853750904838,
          63.81348169351093,
          63.76337006243603,
          63.743826526316816,
          63.713258431361126,
          63.703236105146146,
          63.69822494203866,
          63.68820261582368,
          63.66815796339372,
          63.66314680028623,
          63.62305749542631,
          63.61303516921133,
          63.58296819056639,
          63.562923538136424,
          63.532856559491485,
          63.512811907061526,
          63.48274492841659,
          63.46771143909412,
          63.46270027598663,
          63.44766678666415,
          63.42762213423419,
          63.41258864491172,
          63.40757748180423,
          63.38252166626678,
          63.3724993400518,
          63.36247701383682,
          63.337421198299374,
          63.332410035191884,
          63.32739887208439,
          63.31236538276192,
          63.29733189343945,
          63.28229840411698,
          63.272276077902,
          63.26225375168702,
          63.21214212061212,
          63.162030489537216,
          63.13697467399977,
          63.13196351089228,
          63.11191885846232,
          63.10189653224734,
          63.09688536913985,
          63.0718295536024,
          63.06180722738742,
          63.05178490117244,
          63.03675141184996,
          63.011695596312514,
          63.006684433205024,
          62.976617454560085,
          62.961583965237615,
          62.91147233416271,
          62.86136070308781,
          62.84131605065785,
          62.81124907201291,
          62.791204419582954,
          62.771159767152994,
          62.76113744093801,
          62.75612627783052,
          62.71102580986311,
          62.66091417878821,
          62.625836037035775,
          62.610802547713305,
          62.5657020797459,
          62.56069091663841,
          62.54565742731594,
          62.53563510110096,
          62.51057928556351,
          62.504064773523766,
          62.50055695934852,
          62.4604676544886,
          62.410356023413705,
          62.395322534091235,
          62.38780578943,
          62.375277881661276,
          62.3602443923388,
          62.33518857680135,
          62.3101327612639,
          62.260021130189,
          62.2099094991141,
          62.1597978680392,
          62.10968623696429,
          62.059574605889395,
          62.0094629748145,
          61.95935134373959,
          61.94431785441712,
          61.90923971266469,
          61.859128081589795,
          61.80901645051489,
          61.8040052874074,
          61.75890481943999,
          61.70879318836509,
          61.65868155729019,
          61.60856992621529,
          61.55845829514038,
          61.5484359689254,
          61.508346664065485,
          61.463246196098076,
          61.458235032990586,
          61.40812340191568,
          61.35801177084078,
          61.307900139765884,
          61.25778850869098,
          61.20767687761608,
          61.15756524654118,
          61.10745361546628,
          61.05734198439138,
          61.00723035331647,
          60.957118722241574,
          60.907007091166676,
          60.85689546009177,
          60.80678382901687,
          60.79676150280189,
          60.75667219794197,
          60.73662754551201,
          60.65644893579217,
          60.556225673642366,
          60.54620334742739,
          60.50611404256747,
          60.45600241149256,
          60.42593543284762,
          60.30566751826786,
          60.25555588719296,
          60.20544425611806,
          60.15533262504316,
          60.10522099396826,
          60.055109362893354,
          60.030053547355905,
          60.004997731818456,
          59.90477446966865,
          59.854662838593754,
          59.654216314294146,
          59.60410468321925,
          59.503881421069444,
          59.40365815891964,
          59.32849071230729,
          59.30343489676984,
          59.20321163462004,
          59.153100003545134,
          59.00276511032044,
          58.85243021709573,
          58.80231858602083,
          58.65198369279613,
          58.40142553742162,
          58.25109064419692,
          58.09073342475724,
          57.85019759559771,
          57.4994161780734,
          57.3490812848487,
          57.1486347605491,
          56.898076605174595,
          56.64751844980009,
          55.64528582830207,
          55.394727672927566,
          54.893611362178554,
          53.34015079885663,
          42.1151454380788
         ],
         "yaxis": "y"
        }
       ],
       "layout": {
        "legend": {
         "tracegroupgap": 0
        },
        "margin": {
         "t": 60
        },
        "template": {
         "data": {
          "bar": [
           {
            "error_x": {
             "color": "#2a3f5f"
            },
            "error_y": {
             "color": "#2a3f5f"
            },
            "marker": {
             "line": {
              "color": "#E5ECF6",
              "width": 0.5
             },
             "pattern": {
              "fillmode": "overlay",
              "size": 10,
              "solidity": 0.2
             }
            },
            "type": "bar"
           }
          ],
          "barpolar": [
           {
            "marker": {
             "line": {
              "color": "#E5ECF6",
              "width": 0.5
             },
             "pattern": {
              "fillmode": "overlay",
              "size": 10,
              "solidity": 0.2
             }
            },
            "type": "barpolar"
           }
          ],
          "carpet": [
           {
            "aaxis": {
             "endlinecolor": "#2a3f5f",
             "gridcolor": "white",
             "linecolor": "white",
             "minorgridcolor": "white",
             "startlinecolor": "#2a3f5f"
            },
            "baxis": {
             "endlinecolor": "#2a3f5f",
             "gridcolor": "white",
             "linecolor": "white",
             "minorgridcolor": "white",
             "startlinecolor": "#2a3f5f"
            },
            "type": "carpet"
           }
          ],
          "choropleth": [
           {
            "colorbar": {
             "outlinewidth": 0,
             "ticks": ""
            },
            "type": "choropleth"
           }
          ],
          "contour": [
           {
            "colorbar": {
             "outlinewidth": 0,
             "ticks": ""
            },
            "colorscale": [
             [
              0,
              "#0d0887"
             ],
             [
              0.1111111111111111,
              "#46039f"
             ],
             [
              0.2222222222222222,
              "#7201a8"
             ],
             [
              0.3333333333333333,
              "#9c179e"
             ],
             [
              0.4444444444444444,
              "#bd3786"
             ],
             [
              0.5555555555555556,
              "#d8576b"
             ],
             [
              0.6666666666666666,
              "#ed7953"
             ],
             [
              0.7777777777777778,
              "#fb9f3a"
             ],
             [
              0.8888888888888888,
              "#fdca26"
             ],
             [
              1,
              "#f0f921"
             ]
            ],
            "type": "contour"
           }
          ],
          "contourcarpet": [
           {
            "colorbar": {
             "outlinewidth": 0,
             "ticks": ""
            },
            "type": "contourcarpet"
           }
          ],
          "heatmap": [
           {
            "colorbar": {
             "outlinewidth": 0,
             "ticks": ""
            },
            "colorscale": [
             [
              0,
              "#0d0887"
             ],
             [
              0.1111111111111111,
              "#46039f"
             ],
             [
              0.2222222222222222,
              "#7201a8"
             ],
             [
              0.3333333333333333,
              "#9c179e"
             ],
             [
              0.4444444444444444,
              "#bd3786"
             ],
             [
              0.5555555555555556,
              "#d8576b"
             ],
             [
              0.6666666666666666,
              "#ed7953"
             ],
             [
              0.7777777777777778,
              "#fb9f3a"
             ],
             [
              0.8888888888888888,
              "#fdca26"
             ],
             [
              1,
              "#f0f921"
             ]
            ],
            "type": "heatmap"
           }
          ],
          "heatmapgl": [
           {
            "colorbar": {
             "outlinewidth": 0,
             "ticks": ""
            },
            "colorscale": [
             [
              0,
              "#0d0887"
             ],
             [
              0.1111111111111111,
              "#46039f"
             ],
             [
              0.2222222222222222,
              "#7201a8"
             ],
             [
              0.3333333333333333,
              "#9c179e"
             ],
             [
              0.4444444444444444,
              "#bd3786"
             ],
             [
              0.5555555555555556,
              "#d8576b"
             ],
             [
              0.6666666666666666,
              "#ed7953"
             ],
             [
              0.7777777777777778,
              "#fb9f3a"
             ],
             [
              0.8888888888888888,
              "#fdca26"
             ],
             [
              1,
              "#f0f921"
             ]
            ],
            "type": "heatmapgl"
           }
          ],
          "histogram": [
           {
            "marker": {
             "pattern": {
              "fillmode": "overlay",
              "size": 10,
              "solidity": 0.2
             }
            },
            "type": "histogram"
           }
          ],
          "histogram2d": [
           {
            "colorbar": {
             "outlinewidth": 0,
             "ticks": ""
            },
            "colorscale": [
             [
              0,
              "#0d0887"
             ],
             [
              0.1111111111111111,
              "#46039f"
             ],
             [
              0.2222222222222222,
              "#7201a8"
             ],
             [
              0.3333333333333333,
              "#9c179e"
             ],
             [
              0.4444444444444444,
              "#bd3786"
             ],
             [
              0.5555555555555556,
              "#d8576b"
             ],
             [
              0.6666666666666666,
              "#ed7953"
             ],
             [
              0.7777777777777778,
              "#fb9f3a"
             ],
             [
              0.8888888888888888,
              "#fdca26"
             ],
             [
              1,
              "#f0f921"
             ]
            ],
            "type": "histogram2d"
           }
          ],
          "histogram2dcontour": [
           {
            "colorbar": {
             "outlinewidth": 0,
             "ticks": ""
            },
            "colorscale": [
             [
              0,
              "#0d0887"
             ],
             [
              0.1111111111111111,
              "#46039f"
             ],
             [
              0.2222222222222222,
              "#7201a8"
             ],
             [
              0.3333333333333333,
              "#9c179e"
             ],
             [
              0.4444444444444444,
              "#bd3786"
             ],
             [
              0.5555555555555556,
              "#d8576b"
             ],
             [
              0.6666666666666666,
              "#ed7953"
             ],
             [
              0.7777777777777778,
              "#fb9f3a"
             ],
             [
              0.8888888888888888,
              "#fdca26"
             ],
             [
              1,
              "#f0f921"
             ]
            ],
            "type": "histogram2dcontour"
           }
          ],
          "mesh3d": [
           {
            "colorbar": {
             "outlinewidth": 0,
             "ticks": ""
            },
            "type": "mesh3d"
           }
          ],
          "parcoords": [
           {
            "line": {
             "colorbar": {
              "outlinewidth": 0,
              "ticks": ""
             }
            },
            "type": "parcoords"
           }
          ],
          "pie": [
           {
            "automargin": true,
            "type": "pie"
           }
          ],
          "scatter": [
           {
            "fillpattern": {
             "fillmode": "overlay",
             "size": 10,
             "solidity": 0.2
            },
            "type": "scatter"
           }
          ],
          "scatter3d": [
           {
            "line": {
             "colorbar": {
              "outlinewidth": 0,
              "ticks": ""
             }
            },
            "marker": {
             "colorbar": {
              "outlinewidth": 0,
              "ticks": ""
             }
            },
            "type": "scatter3d"
           }
          ],
          "scattercarpet": [
           {
            "marker": {
             "colorbar": {
              "outlinewidth": 0,
              "ticks": ""
             }
            },
            "type": "scattercarpet"
           }
          ],
          "scattergeo": [
           {
            "marker": {
             "colorbar": {
              "outlinewidth": 0,
              "ticks": ""
             }
            },
            "type": "scattergeo"
           }
          ],
          "scattergl": [
           {
            "marker": {
             "colorbar": {
              "outlinewidth": 0,
              "ticks": ""
             }
            },
            "type": "scattergl"
           }
          ],
          "scattermapbox": [
           {
            "marker": {
             "colorbar": {
              "outlinewidth": 0,
              "ticks": ""
             }
            },
            "type": "scattermapbox"
           }
          ],
          "scatterpolar": [
           {
            "marker": {
             "colorbar": {
              "outlinewidth": 0,
              "ticks": ""
             }
            },
            "type": "scatterpolar"
           }
          ],
          "scatterpolargl": [
           {
            "marker": {
             "colorbar": {
              "outlinewidth": 0,
              "ticks": ""
             }
            },
            "type": "scatterpolargl"
           }
          ],
          "scatterternary": [
           {
            "marker": {
             "colorbar": {
              "outlinewidth": 0,
              "ticks": ""
             }
            },
            "type": "scatterternary"
           }
          ],
          "surface": [
           {
            "colorbar": {
             "outlinewidth": 0,
             "ticks": ""
            },
            "colorscale": [
             [
              0,
              "#0d0887"
             ],
             [
              0.1111111111111111,
              "#46039f"
             ],
             [
              0.2222222222222222,
              "#7201a8"
             ],
             [
              0.3333333333333333,
              "#9c179e"
             ],
             [
              0.4444444444444444,
              "#bd3786"
             ],
             [
              0.5555555555555556,
              "#d8576b"
             ],
             [
              0.6666666666666666,
              "#ed7953"
             ],
             [
              0.7777777777777778,
              "#fb9f3a"
             ],
             [
              0.8888888888888888,
              "#fdca26"
             ],
             [
              1,
              "#f0f921"
             ]
            ],
            "type": "surface"
           }
          ],
          "table": [
           {
            "cells": {
             "fill": {
              "color": "#EBF0F8"
             },
             "line": {
              "color": "white"
             }
            },
            "header": {
             "fill": {
              "color": "#C8D4E3"
             },
             "line": {
              "color": "white"
             }
            },
            "type": "table"
           }
          ]
         },
         "layout": {
          "annotationdefaults": {
           "arrowcolor": "#2a3f5f",
           "arrowhead": 0,
           "arrowwidth": 1
          },
          "autotypenumbers": "strict",
          "coloraxis": {
           "colorbar": {
            "outlinewidth": 0,
            "ticks": ""
           }
          },
          "colorscale": {
           "diverging": [
            [
             0,
             "#8e0152"
            ],
            [
             0.1,
             "#c51b7d"
            ],
            [
             0.2,
             "#de77ae"
            ],
            [
             0.3,
             "#f1b6da"
            ],
            [
             0.4,
             "#fde0ef"
            ],
            [
             0.5,
             "#f7f7f7"
            ],
            [
             0.6,
             "#e6f5d0"
            ],
            [
             0.7,
             "#b8e186"
            ],
            [
             0.8,
             "#7fbc41"
            ],
            [
             0.9,
             "#4d9221"
            ],
            [
             1,
             "#276419"
            ]
           ],
           "sequential": [
            [
             0,
             "#0d0887"
            ],
            [
             0.1111111111111111,
             "#46039f"
            ],
            [
             0.2222222222222222,
             "#7201a8"
            ],
            [
             0.3333333333333333,
             "#9c179e"
            ],
            [
             0.4444444444444444,
             "#bd3786"
            ],
            [
             0.5555555555555556,
             "#d8576b"
            ],
            [
             0.6666666666666666,
             "#ed7953"
            ],
            [
             0.7777777777777778,
             "#fb9f3a"
            ],
            [
             0.8888888888888888,
             "#fdca26"
            ],
            [
             1,
             "#f0f921"
            ]
           ],
           "sequentialminus": [
            [
             0,
             "#0d0887"
            ],
            [
             0.1111111111111111,
             "#46039f"
            ],
            [
             0.2222222222222222,
             "#7201a8"
            ],
            [
             0.3333333333333333,
             "#9c179e"
            ],
            [
             0.4444444444444444,
             "#bd3786"
            ],
            [
             0.5555555555555556,
             "#d8576b"
            ],
            [
             0.6666666666666666,
             "#ed7953"
            ],
            [
             0.7777777777777778,
             "#fb9f3a"
            ],
            [
             0.8888888888888888,
             "#fdca26"
            ],
            [
             1,
             "#f0f921"
            ]
           ]
          },
          "colorway": [
           "#636efa",
           "#EF553B",
           "#00cc96",
           "#ab63fa",
           "#FFA15A",
           "#19d3f3",
           "#FF6692",
           "#B6E880",
           "#FF97FF",
           "#FECB52"
          ],
          "font": {
           "color": "#2a3f5f"
          },
          "geo": {
           "bgcolor": "white",
           "lakecolor": "white",
           "landcolor": "#E5ECF6",
           "showlakes": true,
           "showland": true,
           "subunitcolor": "white"
          },
          "hoverlabel": {
           "align": "left"
          },
          "hovermode": "closest",
          "mapbox": {
           "style": "light"
          },
          "paper_bgcolor": "white",
          "plot_bgcolor": "#E5ECF6",
          "polar": {
           "angularaxis": {
            "gridcolor": "white",
            "linecolor": "white",
            "ticks": ""
           },
           "bgcolor": "#E5ECF6",
           "radialaxis": {
            "gridcolor": "white",
            "linecolor": "white",
            "ticks": ""
           }
          },
          "scene": {
           "xaxis": {
            "backgroundcolor": "#E5ECF6",
            "gridcolor": "white",
            "gridwidth": 2,
            "linecolor": "white",
            "showbackground": true,
            "ticks": "",
            "zerolinecolor": "white"
           },
           "yaxis": {
            "backgroundcolor": "#E5ECF6",
            "gridcolor": "white",
            "gridwidth": 2,
            "linecolor": "white",
            "showbackground": true,
            "ticks": "",
            "zerolinecolor": "white"
           },
           "zaxis": {
            "backgroundcolor": "#E5ECF6",
            "gridcolor": "white",
            "gridwidth": 2,
            "linecolor": "white",
            "showbackground": true,
            "ticks": "",
            "zerolinecolor": "white"
           }
          },
          "shapedefaults": {
           "line": {
            "color": "#2a3f5f"
           }
          },
          "ternary": {
           "aaxis": {
            "gridcolor": "white",
            "linecolor": "white",
            "ticks": ""
           },
           "baxis": {
            "gridcolor": "white",
            "linecolor": "white",
            "ticks": ""
           },
           "bgcolor": "#E5ECF6",
           "caxis": {
            "gridcolor": "white",
            "linecolor": "white",
            "ticks": ""
           }
          },
          "title": {
           "x": 0.05
          },
          "xaxis": {
           "automargin": true,
           "gridcolor": "white",
           "linecolor": "white",
           "ticks": "",
           "title": {
            "standoff": 15
           },
           "zerolinecolor": "white",
           "zerolinewidth": 2
          },
          "yaxis": {
           "automargin": true,
           "gridcolor": "white",
           "linecolor": "white",
           "ticks": "",
           "title": {
            "standoff": 15
           },
           "zerolinecolor": "white",
           "zerolinewidth": 2
          }
         }
        },
        "title": {
         "text": "Average Price per Diện tích"
        },
        "xaxis": {
         "anchor": "y",
         "domain": [
          0,
          1
         ],
         "title": {
          "text": "Diện tích"
         }
        },
        "yaxis": {
         "anchor": "x",
         "domain": [
          0,
          1
         ],
         "title": {
          "text": "Giá/m²"
         }
        }
       }
      }
     },
     "metadata": {},
     "output_type": "display_data"
    }
   ],
   "source": [
    "# df_test = df.groupby('Diện tích')['Giá/m²'].mean().reset_index()\n",
    "\n",
    "# plot mean price per acre lot\n",
    "fig = px.scatter(df_test, x='Diện tích', y='Giá/m²', trendline='ols')\n",
    "fig.update_layout(title='Average Price per Diện tích', xaxis_title='Diện tích', yaxis_title='Giá/m²')\n",
    "fig.show()"
   ]
  },
  {
   "cell_type": "markdown",
   "metadata": {},
   "source": [
    "Phụ thuộc của giá vào quận/huyện"
   ]
  },
  {
   "cell_type": "code",
   "execution_count": 23,
   "metadata": {},
   "outputs": [
    {
     "data": {
      "application/vnd.plotly.v1+json": {
       "config": {
        "plotlyServerURL": "https://plot.ly"
       },
       "data": [
        {
         "alignmentgroup": "True",
         "hovertemplate": "Quận/Huyện=%{x}<br>Giá/m²=%{y}<extra></extra>",
         "legendgroup": "Hoàn Kiếm",
         "marker": {
          "color": "#636efa",
          "pattern": {
           "shape": ""
          }
         },
         "name": "Hoàn Kiếm",
         "offsetgroup": "Hoàn Kiếm",
         "orientation": "v",
         "showlegend": true,
         "textposition": "outside",
         "texttemplate": "%{y:.1f}",
         "type": "bar",
         "x": [
          "Hoàn Kiếm"
         ],
         "xaxis": "x",
         "y": [
          87.41545454545455
         ],
         "yaxis": "y"
        },
        {
         "alignmentgroup": "True",
         "hovertemplate": "Quận/Huyện=%{x}<br>Giá/m²=%{y}<extra></extra>",
         "legendgroup": "Cầu Giấy",
         "marker": {
          "color": "#EF553B",
          "pattern": {
           "shape": ""
          }
         },
         "name": "Cầu Giấy",
         "offsetgroup": "Cầu Giấy",
         "orientation": "v",
         "showlegend": true,
         "textposition": "outside",
         "texttemplate": "%{y:.1f}",
         "type": "bar",
         "x": [
          "Cầu Giấy"
         ],
         "xaxis": "x",
         "y": [
          73.43402653797469
         ],
         "yaxis": "y"
        },
        {
         "alignmentgroup": "True",
         "hovertemplate": "Quận/Huyện=%{x}<br>Giá/m²=%{y}<extra></extra>",
         "legendgroup": "Đông Anh",
         "marker": {
          "color": "#00cc96",
          "pattern": {
           "shape": ""
          }
         },
         "name": "Đông Anh",
         "offsetgroup": "Đông Anh",
         "orientation": "v",
         "showlegend": true,
         "textposition": "outside",
         "texttemplate": "%{y:.1f}",
         "type": "bar",
         "x": [
          "Đông Anh"
         ],
         "xaxis": "x",
         "y": [
          69.64362272727273
         ],
         "yaxis": "y"
        },
        {
         "alignmentgroup": "True",
         "hovertemplate": "Quận/Huyện=%{x}<br>Giá/m²=%{y}<extra></extra>",
         "legendgroup": "Hai Bà Trưng",
         "marker": {
          "color": "#ab63fa",
          "pattern": {
           "shape": ""
          }
         },
         "name": "Hai Bà Trưng",
         "offsetgroup": "Hai Bà Trưng",
         "orientation": "v",
         "showlegend": true,
         "textposition": "outside",
         "texttemplate": "%{y:.1f}",
         "type": "bar",
         "x": [
          "Hai Bà Trưng"
         ],
         "xaxis": "x",
         "y": [
          68.86944104575163
         ],
         "yaxis": "y"
        },
        {
         "alignmentgroup": "True",
         "hovertemplate": "Quận/Huyện=%{x}<br>Giá/m²=%{y}<extra></extra>",
         "legendgroup": "Ba Đình",
         "marker": {
          "color": "#FFA15A",
          "pattern": {
           "shape": ""
          }
         },
         "name": "Ba Đình",
         "offsetgroup": "Ba Đình",
         "orientation": "v",
         "showlegend": true,
         "textposition": "outside",
         "texttemplate": "%{y:.1f}",
         "type": "bar",
         "x": [
          "Ba Đình"
         ],
         "xaxis": "x",
         "y": [
          68.36294434782609
         ],
         "yaxis": "y"
        },
        {
         "alignmentgroup": "True",
         "hovertemplate": "Quận/Huyện=%{x}<br>Giá/m²=%{y}<extra></extra>",
         "legendgroup": "Tây Hồ",
         "marker": {
          "color": "#19d3f3",
          "pattern": {
           "shape": ""
          }
         },
         "name": "Tây Hồ",
         "offsetgroup": "Tây Hồ",
         "orientation": "v",
         "showlegend": true,
         "textposition": "outside",
         "texttemplate": "%{y:.1f}",
         "type": "bar",
         "x": [
          "Tây Hồ"
         ],
         "xaxis": "x",
         "y": [
          67.02770207894737
         ],
         "yaxis": "y"
        },
        {
         "alignmentgroup": "True",
         "hovertemplate": "Quận/Huyện=%{x}<br>Giá/m²=%{y}<extra></extra>",
         "legendgroup": "Nam Từ Liêm",
         "marker": {
          "color": "#FF6692",
          "pattern": {
           "shape": ""
          }
         },
         "name": "Nam Từ Liêm",
         "offsetgroup": "Nam Từ Liêm",
         "orientation": "v",
         "showlegend": true,
         "textposition": "outside",
         "texttemplate": "%{y:.1f}",
         "type": "bar",
         "x": [
          "Nam Từ Liêm"
         ],
         "xaxis": "x",
         "y": [
          66.04130373960614
         ],
         "yaxis": "y"
        },
        {
         "alignmentgroup": "True",
         "hovertemplate": "Quận/Huyện=%{x}<br>Giá/m²=%{y}<extra></extra>",
         "legendgroup": "Thanh Trì",
         "marker": {
          "color": "#B6E880",
          "pattern": {
           "shape": ""
          }
         },
         "name": "Thanh Trì",
         "offsetgroup": "Thanh Trì",
         "orientation": "v",
         "showlegend": true,
         "textposition": "outside",
         "texttemplate": "%{y:.1f}",
         "type": "bar",
         "x": [
          "Thanh Trì"
         ],
         "xaxis": "x",
         "y": [
          59.969375
         ],
         "yaxis": "y"
        },
        {
         "alignmentgroup": "True",
         "hovertemplate": "Quận/Huyện=%{x}<br>Giá/m²=%{y}<extra></extra>",
         "legendgroup": "Bắc Từ Liêm",
         "marker": {
          "color": "#FF97FF",
          "pattern": {
           "shape": ""
          }
         },
         "name": "Bắc Từ Liêm",
         "offsetgroup": "Bắc Từ Liêm",
         "orientation": "v",
         "showlegend": true,
         "textposition": "outside",
         "texttemplate": "%{y:.1f}",
         "type": "bar",
         "x": [
          "Bắc Từ Liêm"
         ],
         "xaxis": "x",
         "y": [
          59.58178848913043
         ],
         "yaxis": "y"
        },
        {
         "alignmentgroup": "True",
         "hovertemplate": "Quận/Huyện=%{x}<br>Giá/m²=%{y}<extra></extra>",
         "legendgroup": "Thanh Xuân",
         "marker": {
          "color": "#FECB52",
          "pattern": {
           "shape": ""
          }
         },
         "name": "Thanh Xuân",
         "offsetgroup": "Thanh Xuân",
         "orientation": "v",
         "showlegend": true,
         "textposition": "outside",
         "texttemplate": "%{y:.1f}",
         "type": "bar",
         "x": [
          "Thanh Xuân"
         ],
         "xaxis": "x",
         "y": [
          57.02383116774194
         ],
         "yaxis": "y"
        }
       ],
       "layout": {
        "barmode": "relative",
        "legend": {
         "title": {
          "text": "Quận/Huyện"
         },
         "tracegroupgap": 0
        },
        "template": {
         "data": {
          "bar": [
           {
            "error_x": {
             "color": "#2a3f5f"
            },
            "error_y": {
             "color": "#2a3f5f"
            },
            "marker": {
             "line": {
              "color": "#E5ECF6",
              "width": 0.5
             },
             "pattern": {
              "fillmode": "overlay",
              "size": 10,
              "solidity": 0.2
             }
            },
            "type": "bar"
           }
          ],
          "barpolar": [
           {
            "marker": {
             "line": {
              "color": "#E5ECF6",
              "width": 0.5
             },
             "pattern": {
              "fillmode": "overlay",
              "size": 10,
              "solidity": 0.2
             }
            },
            "type": "barpolar"
           }
          ],
          "carpet": [
           {
            "aaxis": {
             "endlinecolor": "#2a3f5f",
             "gridcolor": "white",
             "linecolor": "white",
             "minorgridcolor": "white",
             "startlinecolor": "#2a3f5f"
            },
            "baxis": {
             "endlinecolor": "#2a3f5f",
             "gridcolor": "white",
             "linecolor": "white",
             "minorgridcolor": "white",
             "startlinecolor": "#2a3f5f"
            },
            "type": "carpet"
           }
          ],
          "choropleth": [
           {
            "colorbar": {
             "outlinewidth": 0,
             "ticks": ""
            },
            "type": "choropleth"
           }
          ],
          "contour": [
           {
            "colorbar": {
             "outlinewidth": 0,
             "ticks": ""
            },
            "colorscale": [
             [
              0,
              "#0d0887"
             ],
             [
              0.1111111111111111,
              "#46039f"
             ],
             [
              0.2222222222222222,
              "#7201a8"
             ],
             [
              0.3333333333333333,
              "#9c179e"
             ],
             [
              0.4444444444444444,
              "#bd3786"
             ],
             [
              0.5555555555555556,
              "#d8576b"
             ],
             [
              0.6666666666666666,
              "#ed7953"
             ],
             [
              0.7777777777777778,
              "#fb9f3a"
             ],
             [
              0.8888888888888888,
              "#fdca26"
             ],
             [
              1,
              "#f0f921"
             ]
            ],
            "type": "contour"
           }
          ],
          "contourcarpet": [
           {
            "colorbar": {
             "outlinewidth": 0,
             "ticks": ""
            },
            "type": "contourcarpet"
           }
          ],
          "heatmap": [
           {
            "colorbar": {
             "outlinewidth": 0,
             "ticks": ""
            },
            "colorscale": [
             [
              0,
              "#0d0887"
             ],
             [
              0.1111111111111111,
              "#46039f"
             ],
             [
              0.2222222222222222,
              "#7201a8"
             ],
             [
              0.3333333333333333,
              "#9c179e"
             ],
             [
              0.4444444444444444,
              "#bd3786"
             ],
             [
              0.5555555555555556,
              "#d8576b"
             ],
             [
              0.6666666666666666,
              "#ed7953"
             ],
             [
              0.7777777777777778,
              "#fb9f3a"
             ],
             [
              0.8888888888888888,
              "#fdca26"
             ],
             [
              1,
              "#f0f921"
             ]
            ],
            "type": "heatmap"
           }
          ],
          "heatmapgl": [
           {
            "colorbar": {
             "outlinewidth": 0,
             "ticks": ""
            },
            "colorscale": [
             [
              0,
              "#0d0887"
             ],
             [
              0.1111111111111111,
              "#46039f"
             ],
             [
              0.2222222222222222,
              "#7201a8"
             ],
             [
              0.3333333333333333,
              "#9c179e"
             ],
             [
              0.4444444444444444,
              "#bd3786"
             ],
             [
              0.5555555555555556,
              "#d8576b"
             ],
             [
              0.6666666666666666,
              "#ed7953"
             ],
             [
              0.7777777777777778,
              "#fb9f3a"
             ],
             [
              0.8888888888888888,
              "#fdca26"
             ],
             [
              1,
              "#f0f921"
             ]
            ],
            "type": "heatmapgl"
           }
          ],
          "histogram": [
           {
            "marker": {
             "pattern": {
              "fillmode": "overlay",
              "size": 10,
              "solidity": 0.2
             }
            },
            "type": "histogram"
           }
          ],
          "histogram2d": [
           {
            "colorbar": {
             "outlinewidth": 0,
             "ticks": ""
            },
            "colorscale": [
             [
              0,
              "#0d0887"
             ],
             [
              0.1111111111111111,
              "#46039f"
             ],
             [
              0.2222222222222222,
              "#7201a8"
             ],
             [
              0.3333333333333333,
              "#9c179e"
             ],
             [
              0.4444444444444444,
              "#bd3786"
             ],
             [
              0.5555555555555556,
              "#d8576b"
             ],
             [
              0.6666666666666666,
              "#ed7953"
             ],
             [
              0.7777777777777778,
              "#fb9f3a"
             ],
             [
              0.8888888888888888,
              "#fdca26"
             ],
             [
              1,
              "#f0f921"
             ]
            ],
            "type": "histogram2d"
           }
          ],
          "histogram2dcontour": [
           {
            "colorbar": {
             "outlinewidth": 0,
             "ticks": ""
            },
            "colorscale": [
             [
              0,
              "#0d0887"
             ],
             [
              0.1111111111111111,
              "#46039f"
             ],
             [
              0.2222222222222222,
              "#7201a8"
             ],
             [
              0.3333333333333333,
              "#9c179e"
             ],
             [
              0.4444444444444444,
              "#bd3786"
             ],
             [
              0.5555555555555556,
              "#d8576b"
             ],
             [
              0.6666666666666666,
              "#ed7953"
             ],
             [
              0.7777777777777778,
              "#fb9f3a"
             ],
             [
              0.8888888888888888,
              "#fdca26"
             ],
             [
              1,
              "#f0f921"
             ]
            ],
            "type": "histogram2dcontour"
           }
          ],
          "mesh3d": [
           {
            "colorbar": {
             "outlinewidth": 0,
             "ticks": ""
            },
            "type": "mesh3d"
           }
          ],
          "parcoords": [
           {
            "line": {
             "colorbar": {
              "outlinewidth": 0,
              "ticks": ""
             }
            },
            "type": "parcoords"
           }
          ],
          "pie": [
           {
            "automargin": true,
            "type": "pie"
           }
          ],
          "scatter": [
           {
            "fillpattern": {
             "fillmode": "overlay",
             "size": 10,
             "solidity": 0.2
            },
            "type": "scatter"
           }
          ],
          "scatter3d": [
           {
            "line": {
             "colorbar": {
              "outlinewidth": 0,
              "ticks": ""
             }
            },
            "marker": {
             "colorbar": {
              "outlinewidth": 0,
              "ticks": ""
             }
            },
            "type": "scatter3d"
           }
          ],
          "scattercarpet": [
           {
            "marker": {
             "colorbar": {
              "outlinewidth": 0,
              "ticks": ""
             }
            },
            "type": "scattercarpet"
           }
          ],
          "scattergeo": [
           {
            "marker": {
             "colorbar": {
              "outlinewidth": 0,
              "ticks": ""
             }
            },
            "type": "scattergeo"
           }
          ],
          "scattergl": [
           {
            "marker": {
             "colorbar": {
              "outlinewidth": 0,
              "ticks": ""
             }
            },
            "type": "scattergl"
           }
          ],
          "scattermapbox": [
           {
            "marker": {
             "colorbar": {
              "outlinewidth": 0,
              "ticks": ""
             }
            },
            "type": "scattermapbox"
           }
          ],
          "scatterpolar": [
           {
            "marker": {
             "colorbar": {
              "outlinewidth": 0,
              "ticks": ""
             }
            },
            "type": "scatterpolar"
           }
          ],
          "scatterpolargl": [
           {
            "marker": {
             "colorbar": {
              "outlinewidth": 0,
              "ticks": ""
             }
            },
            "type": "scatterpolargl"
           }
          ],
          "scatterternary": [
           {
            "marker": {
             "colorbar": {
              "outlinewidth": 0,
              "ticks": ""
             }
            },
            "type": "scatterternary"
           }
          ],
          "surface": [
           {
            "colorbar": {
             "outlinewidth": 0,
             "ticks": ""
            },
            "colorscale": [
             [
              0,
              "#0d0887"
             ],
             [
              0.1111111111111111,
              "#46039f"
             ],
             [
              0.2222222222222222,
              "#7201a8"
             ],
             [
              0.3333333333333333,
              "#9c179e"
             ],
             [
              0.4444444444444444,
              "#bd3786"
             ],
             [
              0.5555555555555556,
              "#d8576b"
             ],
             [
              0.6666666666666666,
              "#ed7953"
             ],
             [
              0.7777777777777778,
              "#fb9f3a"
             ],
             [
              0.8888888888888888,
              "#fdca26"
             ],
             [
              1,
              "#f0f921"
             ]
            ],
            "type": "surface"
           }
          ],
          "table": [
           {
            "cells": {
             "fill": {
              "color": "#EBF0F8"
             },
             "line": {
              "color": "white"
             }
            },
            "header": {
             "fill": {
              "color": "#C8D4E3"
             },
             "line": {
              "color": "white"
             }
            },
            "type": "table"
           }
          ]
         },
         "layout": {
          "annotationdefaults": {
           "arrowcolor": "#2a3f5f",
           "arrowhead": 0,
           "arrowwidth": 1
          },
          "autotypenumbers": "strict",
          "coloraxis": {
           "colorbar": {
            "outlinewidth": 0,
            "ticks": ""
           }
          },
          "colorscale": {
           "diverging": [
            [
             0,
             "#8e0152"
            ],
            [
             0.1,
             "#c51b7d"
            ],
            [
             0.2,
             "#de77ae"
            ],
            [
             0.3,
             "#f1b6da"
            ],
            [
             0.4,
             "#fde0ef"
            ],
            [
             0.5,
             "#f7f7f7"
            ],
            [
             0.6,
             "#e6f5d0"
            ],
            [
             0.7,
             "#b8e186"
            ],
            [
             0.8,
             "#7fbc41"
            ],
            [
             0.9,
             "#4d9221"
            ],
            [
             1,
             "#276419"
            ]
           ],
           "sequential": [
            [
             0,
             "#0d0887"
            ],
            [
             0.1111111111111111,
             "#46039f"
            ],
            [
             0.2222222222222222,
             "#7201a8"
            ],
            [
             0.3333333333333333,
             "#9c179e"
            ],
            [
             0.4444444444444444,
             "#bd3786"
            ],
            [
             0.5555555555555556,
             "#d8576b"
            ],
            [
             0.6666666666666666,
             "#ed7953"
            ],
            [
             0.7777777777777778,
             "#fb9f3a"
            ],
            [
             0.8888888888888888,
             "#fdca26"
            ],
            [
             1,
             "#f0f921"
            ]
           ],
           "sequentialminus": [
            [
             0,
             "#0d0887"
            ],
            [
             0.1111111111111111,
             "#46039f"
            ],
            [
             0.2222222222222222,
             "#7201a8"
            ],
            [
             0.3333333333333333,
             "#9c179e"
            ],
            [
             0.4444444444444444,
             "#bd3786"
            ],
            [
             0.5555555555555556,
             "#d8576b"
            ],
            [
             0.6666666666666666,
             "#ed7953"
            ],
            [
             0.7777777777777778,
             "#fb9f3a"
            ],
            [
             0.8888888888888888,
             "#fdca26"
            ],
            [
             1,
             "#f0f921"
            ]
           ]
          },
          "colorway": [
           "#636efa",
           "#EF553B",
           "#00cc96",
           "#ab63fa",
           "#FFA15A",
           "#19d3f3",
           "#FF6692",
           "#B6E880",
           "#FF97FF",
           "#FECB52"
          ],
          "font": {
           "color": "#2a3f5f"
          },
          "geo": {
           "bgcolor": "white",
           "lakecolor": "white",
           "landcolor": "#E5ECF6",
           "showlakes": true,
           "showland": true,
           "subunitcolor": "white"
          },
          "hoverlabel": {
           "align": "left"
          },
          "hovermode": "closest",
          "mapbox": {
           "style": "light"
          },
          "paper_bgcolor": "white",
          "plot_bgcolor": "#E5ECF6",
          "polar": {
           "angularaxis": {
            "gridcolor": "white",
            "linecolor": "white",
            "ticks": ""
           },
           "bgcolor": "#E5ECF6",
           "radialaxis": {
            "gridcolor": "white",
            "linecolor": "white",
            "ticks": ""
           }
          },
          "scene": {
           "xaxis": {
            "backgroundcolor": "#E5ECF6",
            "gridcolor": "white",
            "gridwidth": 2,
            "linecolor": "white",
            "showbackground": true,
            "ticks": "",
            "zerolinecolor": "white"
           },
           "yaxis": {
            "backgroundcolor": "#E5ECF6",
            "gridcolor": "white",
            "gridwidth": 2,
            "linecolor": "white",
            "showbackground": true,
            "ticks": "",
            "zerolinecolor": "white"
           },
           "zaxis": {
            "backgroundcolor": "#E5ECF6",
            "gridcolor": "white",
            "gridwidth": 2,
            "linecolor": "white",
            "showbackground": true,
            "ticks": "",
            "zerolinecolor": "white"
           }
          },
          "shapedefaults": {
           "line": {
            "color": "#2a3f5f"
           }
          },
          "ternary": {
           "aaxis": {
            "gridcolor": "white",
            "linecolor": "white",
            "ticks": ""
           },
           "baxis": {
            "gridcolor": "white",
            "linecolor": "white",
            "ticks": ""
           },
           "bgcolor": "#E5ECF6",
           "caxis": {
            "gridcolor": "white",
            "linecolor": "white",
            "ticks": ""
           }
          },
          "title": {
           "x": 0.05
          },
          "xaxis": {
           "automargin": true,
           "gridcolor": "white",
           "linecolor": "white",
           "ticks": "",
           "title": {
            "standoff": 15
           },
           "zerolinecolor": "white",
           "zerolinewidth": 2
          },
          "yaxis": {
           "automargin": true,
           "gridcolor": "white",
           "linecolor": "white",
           "ticks": "",
           "title": {
            "standoff": 15
           },
           "zerolinecolor": "white",
           "zerolinewidth": 2
          }
         }
        },
        "title": {
         "text": "Top 10 Cities with the Highest Average Price"
        },
        "xaxis": {
         "anchor": "y",
         "categoryarray": [
          "Hoàn Kiếm",
          "Cầu Giấy",
          "Đông Anh",
          "Hai Bà Trưng",
          "Ba Đình",
          "Tây Hồ",
          "Nam Từ Liêm",
          "Thanh Trì",
          "Bắc Từ Liêm",
          "Thanh Xuân"
         ],
         "categoryorder": "array",
         "domain": [
          0,
          1
         ],
         "title": {
          "text": "Quận/Huyện"
         }
        },
        "yaxis": {
         "anchor": "x",
         "domain": [
          0,
          1
         ],
         "title": {
          "text": "Giá/m²"
         }
        }
       }
      }
     },
     "metadata": {},
     "output_type": "display_data"
    }
   ],
   "source": [
    "df_mean2 = df.groupby('Quận/Huyện')['Giá/m²'].mean().reset_index()\n",
    "\n",
    "df_mean_sort = df_mean2.sort_values(by='Giá/m²', ascending=False)\n",
    "\n",
    "top10 = df_mean_sort.head(10)\n",
    "\n",
    "fig = px.bar(top10, x='Quận/Huyện', y='Giá/m²', color='Quận/Huyện',\n",
    "             labels={'Quận/Huyện': 'Quận/Huyện', 'Giá/m²': 'Giá/m²'},\n",
    "             title='Top 10 Cities with the Highest Average Price')\n",
    "fig.update_traces(texttemplate='%{y:.1f}', textposition='outside')\n",
    "fig.show()"
   ]
  },
  {
   "cell_type": "code",
   "execution_count": null,
   "metadata": {},
   "outputs": [],
   "source": []
  },
  {
   "cell_type": "markdown",
   "metadata": {},
   "source": [
    "Phụ thuộc giá vào loại hình chung cư"
   ]
  },
  {
   "cell_type": "code",
   "execution_count": 24,
   "metadata": {},
   "outputs": [
    {
     "data": {
      "application/vnd.plotly.v1+json": {
       "config": {
        "plotlyServerURL": "https://plot.ly"
       },
       "data": [
        {
         "alignmentgroup": "True",
         "hovertemplate": "Loại hình căn hộ=%{x}<br>Giá/m²=%{y}<extra></extra>",
         "legendgroup": "Penthouse",
         "marker": {
          "color": "#636efa",
          "pattern": {
           "shape": ""
          }
         },
         "name": "Penthouse",
         "offsetgroup": "Penthouse",
         "orientation": "v",
         "showlegend": true,
         "textposition": "outside",
         "texttemplate": "%{y:.1f}",
         "type": "bar",
         "x": [
          "Penthouse"
         ],
         "xaxis": "x",
         "y": [
          138.14666666666668
         ],
         "yaxis": "y"
        },
        {
         "alignmentgroup": "True",
         "hovertemplate": "Loại hình căn hộ=%{x}<br>Giá/m²=%{y}<extra></extra>",
         "legendgroup": "Chung cư mini",
         "marker": {
          "color": "#EF553B",
          "pattern": {
           "shape": ""
          }
         },
         "name": "Chung cư mini",
         "offsetgroup": "Chung cư mini",
         "orientation": "v",
         "showlegend": true,
         "textposition": "outside",
         "texttemplate": "%{y:.1f}",
         "type": "bar",
         "x": [
          "Chung cư mini"
         ],
         "xaxis": "x",
         "y": [
          113.53433811695906
         ],
         "yaxis": "y"
        },
        {
         "alignmentgroup": "True",
         "hovertemplate": "Loại hình căn hộ=%{x}<br>Giá/m²=%{y}<extra></extra>",
         "legendgroup": "Duplex",
         "marker": {
          "color": "#00cc96",
          "pattern": {
           "shape": ""
          }
         },
         "name": "Duplex",
         "offsetgroup": "Duplex",
         "orientation": "v",
         "showlegend": true,
         "textposition": "outside",
         "texttemplate": "%{y:.1f}",
         "type": "bar",
         "x": [
          "Duplex"
         ],
         "xaxis": "x",
         "y": [
          108.0025
         ],
         "yaxis": "y"
        },
        {
         "alignmentgroup": "True",
         "hovertemplate": "Loại hình căn hộ=%{x}<br>Giá/m²=%{y}<extra></extra>",
         "legendgroup": "Chung cư",
         "marker": {
          "color": "#ab63fa",
          "pattern": {
           "shape": ""
          }
         },
         "name": "Chung cư",
         "offsetgroup": "Chung cư",
         "orientation": "v",
         "showlegend": true,
         "textposition": "outside",
         "texttemplate": "%{y:.1f}",
         "type": "bar",
         "x": [
          "Chung cư"
         ],
         "xaxis": "x",
         "y": [
          52.42094544393853
         ],
         "yaxis": "y"
        },
        {
         "alignmentgroup": "True",
         "hovertemplate": "Loại hình căn hộ=%{x}<br>Giá/m²=%{y}<extra></extra>",
         "legendgroup": "Tập thể",
         "marker": {
          "color": "#FFA15A",
          "pattern": {
           "shape": ""
          }
         },
         "name": "Tập thể",
         "offsetgroup": "Tập thể",
         "orientation": "v",
         "showlegend": true,
         "textposition": "outside",
         "texttemplate": "%{y:.1f}",
         "type": "bar",
         "x": [
          "Tập thể"
         ],
         "xaxis": "x",
         "y": [
          51.16665882108626
         ],
         "yaxis": "y"
        },
        {
         "alignmentgroup": "True",
         "hovertemplate": "Loại hình căn hộ=%{x}<br>Giá/m²=%{y}<extra></extra>",
         "legendgroup": "Officetel",
         "marker": {
          "color": "#19d3f3",
          "pattern": {
           "shape": ""
          }
         },
         "name": "Officetel",
         "offsetgroup": "Officetel",
         "orientation": "v",
         "showlegend": true,
         "textposition": "outside",
         "texttemplate": "%{y:.1f}",
         "type": "bar",
         "x": [
          "Officetel"
         ],
         "xaxis": "x",
         "y": [
          48.930321375
         ],
         "yaxis": "y"
        }
       ],
       "layout": {
        "barmode": "relative",
        "legend": {
         "title": {
          "text": "Loại hình căn hộ"
         },
         "tracegroupgap": 0
        },
        "template": {
         "data": {
          "bar": [
           {
            "error_x": {
             "color": "#2a3f5f"
            },
            "error_y": {
             "color": "#2a3f5f"
            },
            "marker": {
             "line": {
              "color": "#E5ECF6",
              "width": 0.5
             },
             "pattern": {
              "fillmode": "overlay",
              "size": 10,
              "solidity": 0.2
             }
            },
            "type": "bar"
           }
          ],
          "barpolar": [
           {
            "marker": {
             "line": {
              "color": "#E5ECF6",
              "width": 0.5
             },
             "pattern": {
              "fillmode": "overlay",
              "size": 10,
              "solidity": 0.2
             }
            },
            "type": "barpolar"
           }
          ],
          "carpet": [
           {
            "aaxis": {
             "endlinecolor": "#2a3f5f",
             "gridcolor": "white",
             "linecolor": "white",
             "minorgridcolor": "white",
             "startlinecolor": "#2a3f5f"
            },
            "baxis": {
             "endlinecolor": "#2a3f5f",
             "gridcolor": "white",
             "linecolor": "white",
             "minorgridcolor": "white",
             "startlinecolor": "#2a3f5f"
            },
            "type": "carpet"
           }
          ],
          "choropleth": [
           {
            "colorbar": {
             "outlinewidth": 0,
             "ticks": ""
            },
            "type": "choropleth"
           }
          ],
          "contour": [
           {
            "colorbar": {
             "outlinewidth": 0,
             "ticks": ""
            },
            "colorscale": [
             [
              0,
              "#0d0887"
             ],
             [
              0.1111111111111111,
              "#46039f"
             ],
             [
              0.2222222222222222,
              "#7201a8"
             ],
             [
              0.3333333333333333,
              "#9c179e"
             ],
             [
              0.4444444444444444,
              "#bd3786"
             ],
             [
              0.5555555555555556,
              "#d8576b"
             ],
             [
              0.6666666666666666,
              "#ed7953"
             ],
             [
              0.7777777777777778,
              "#fb9f3a"
             ],
             [
              0.8888888888888888,
              "#fdca26"
             ],
             [
              1,
              "#f0f921"
             ]
            ],
            "type": "contour"
           }
          ],
          "contourcarpet": [
           {
            "colorbar": {
             "outlinewidth": 0,
             "ticks": ""
            },
            "type": "contourcarpet"
           }
          ],
          "heatmap": [
           {
            "colorbar": {
             "outlinewidth": 0,
             "ticks": ""
            },
            "colorscale": [
             [
              0,
              "#0d0887"
             ],
             [
              0.1111111111111111,
              "#46039f"
             ],
             [
              0.2222222222222222,
              "#7201a8"
             ],
             [
              0.3333333333333333,
              "#9c179e"
             ],
             [
              0.4444444444444444,
              "#bd3786"
             ],
             [
              0.5555555555555556,
              "#d8576b"
             ],
             [
              0.6666666666666666,
              "#ed7953"
             ],
             [
              0.7777777777777778,
              "#fb9f3a"
             ],
             [
              0.8888888888888888,
              "#fdca26"
             ],
             [
              1,
              "#f0f921"
             ]
            ],
            "type": "heatmap"
           }
          ],
          "heatmapgl": [
           {
            "colorbar": {
             "outlinewidth": 0,
             "ticks": ""
            },
            "colorscale": [
             [
              0,
              "#0d0887"
             ],
             [
              0.1111111111111111,
              "#46039f"
             ],
             [
              0.2222222222222222,
              "#7201a8"
             ],
             [
              0.3333333333333333,
              "#9c179e"
             ],
             [
              0.4444444444444444,
              "#bd3786"
             ],
             [
              0.5555555555555556,
              "#d8576b"
             ],
             [
              0.6666666666666666,
              "#ed7953"
             ],
             [
              0.7777777777777778,
              "#fb9f3a"
             ],
             [
              0.8888888888888888,
              "#fdca26"
             ],
             [
              1,
              "#f0f921"
             ]
            ],
            "type": "heatmapgl"
           }
          ],
          "histogram": [
           {
            "marker": {
             "pattern": {
              "fillmode": "overlay",
              "size": 10,
              "solidity": 0.2
             }
            },
            "type": "histogram"
           }
          ],
          "histogram2d": [
           {
            "colorbar": {
             "outlinewidth": 0,
             "ticks": ""
            },
            "colorscale": [
             [
              0,
              "#0d0887"
             ],
             [
              0.1111111111111111,
              "#46039f"
             ],
             [
              0.2222222222222222,
              "#7201a8"
             ],
             [
              0.3333333333333333,
              "#9c179e"
             ],
             [
              0.4444444444444444,
              "#bd3786"
             ],
             [
              0.5555555555555556,
              "#d8576b"
             ],
             [
              0.6666666666666666,
              "#ed7953"
             ],
             [
              0.7777777777777778,
              "#fb9f3a"
             ],
             [
              0.8888888888888888,
              "#fdca26"
             ],
             [
              1,
              "#f0f921"
             ]
            ],
            "type": "histogram2d"
           }
          ],
          "histogram2dcontour": [
           {
            "colorbar": {
             "outlinewidth": 0,
             "ticks": ""
            },
            "colorscale": [
             [
              0,
              "#0d0887"
             ],
             [
              0.1111111111111111,
              "#46039f"
             ],
             [
              0.2222222222222222,
              "#7201a8"
             ],
             [
              0.3333333333333333,
              "#9c179e"
             ],
             [
              0.4444444444444444,
              "#bd3786"
             ],
             [
              0.5555555555555556,
              "#d8576b"
             ],
             [
              0.6666666666666666,
              "#ed7953"
             ],
             [
              0.7777777777777778,
              "#fb9f3a"
             ],
             [
              0.8888888888888888,
              "#fdca26"
             ],
             [
              1,
              "#f0f921"
             ]
            ],
            "type": "histogram2dcontour"
           }
          ],
          "mesh3d": [
           {
            "colorbar": {
             "outlinewidth": 0,
             "ticks": ""
            },
            "type": "mesh3d"
           }
          ],
          "parcoords": [
           {
            "line": {
             "colorbar": {
              "outlinewidth": 0,
              "ticks": ""
             }
            },
            "type": "parcoords"
           }
          ],
          "pie": [
           {
            "automargin": true,
            "type": "pie"
           }
          ],
          "scatter": [
           {
            "fillpattern": {
             "fillmode": "overlay",
             "size": 10,
             "solidity": 0.2
            },
            "type": "scatter"
           }
          ],
          "scatter3d": [
           {
            "line": {
             "colorbar": {
              "outlinewidth": 0,
              "ticks": ""
             }
            },
            "marker": {
             "colorbar": {
              "outlinewidth": 0,
              "ticks": ""
             }
            },
            "type": "scatter3d"
           }
          ],
          "scattercarpet": [
           {
            "marker": {
             "colorbar": {
              "outlinewidth": 0,
              "ticks": ""
             }
            },
            "type": "scattercarpet"
           }
          ],
          "scattergeo": [
           {
            "marker": {
             "colorbar": {
              "outlinewidth": 0,
              "ticks": ""
             }
            },
            "type": "scattergeo"
           }
          ],
          "scattergl": [
           {
            "marker": {
             "colorbar": {
              "outlinewidth": 0,
              "ticks": ""
             }
            },
            "type": "scattergl"
           }
          ],
          "scattermapbox": [
           {
            "marker": {
             "colorbar": {
              "outlinewidth": 0,
              "ticks": ""
             }
            },
            "type": "scattermapbox"
           }
          ],
          "scatterpolar": [
           {
            "marker": {
             "colorbar": {
              "outlinewidth": 0,
              "ticks": ""
             }
            },
            "type": "scatterpolar"
           }
          ],
          "scatterpolargl": [
           {
            "marker": {
             "colorbar": {
              "outlinewidth": 0,
              "ticks": ""
             }
            },
            "type": "scatterpolargl"
           }
          ],
          "scatterternary": [
           {
            "marker": {
             "colorbar": {
              "outlinewidth": 0,
              "ticks": ""
             }
            },
            "type": "scatterternary"
           }
          ],
          "surface": [
           {
            "colorbar": {
             "outlinewidth": 0,
             "ticks": ""
            },
            "colorscale": [
             [
              0,
              "#0d0887"
             ],
             [
              0.1111111111111111,
              "#46039f"
             ],
             [
              0.2222222222222222,
              "#7201a8"
             ],
             [
              0.3333333333333333,
              "#9c179e"
             ],
             [
              0.4444444444444444,
              "#bd3786"
             ],
             [
              0.5555555555555556,
              "#d8576b"
             ],
             [
              0.6666666666666666,
              "#ed7953"
             ],
             [
              0.7777777777777778,
              "#fb9f3a"
             ],
             [
              0.8888888888888888,
              "#fdca26"
             ],
             [
              1,
              "#f0f921"
             ]
            ],
            "type": "surface"
           }
          ],
          "table": [
           {
            "cells": {
             "fill": {
              "color": "#EBF0F8"
             },
             "line": {
              "color": "white"
             }
            },
            "header": {
             "fill": {
              "color": "#C8D4E3"
             },
             "line": {
              "color": "white"
             }
            },
            "type": "table"
           }
          ]
         },
         "layout": {
          "annotationdefaults": {
           "arrowcolor": "#2a3f5f",
           "arrowhead": 0,
           "arrowwidth": 1
          },
          "autotypenumbers": "strict",
          "coloraxis": {
           "colorbar": {
            "outlinewidth": 0,
            "ticks": ""
           }
          },
          "colorscale": {
           "diverging": [
            [
             0,
             "#8e0152"
            ],
            [
             0.1,
             "#c51b7d"
            ],
            [
             0.2,
             "#de77ae"
            ],
            [
             0.3,
             "#f1b6da"
            ],
            [
             0.4,
             "#fde0ef"
            ],
            [
             0.5,
             "#f7f7f7"
            ],
            [
             0.6,
             "#e6f5d0"
            ],
            [
             0.7,
             "#b8e186"
            ],
            [
             0.8,
             "#7fbc41"
            ],
            [
             0.9,
             "#4d9221"
            ],
            [
             1,
             "#276419"
            ]
           ],
           "sequential": [
            [
             0,
             "#0d0887"
            ],
            [
             0.1111111111111111,
             "#46039f"
            ],
            [
             0.2222222222222222,
             "#7201a8"
            ],
            [
             0.3333333333333333,
             "#9c179e"
            ],
            [
             0.4444444444444444,
             "#bd3786"
            ],
            [
             0.5555555555555556,
             "#d8576b"
            ],
            [
             0.6666666666666666,
             "#ed7953"
            ],
            [
             0.7777777777777778,
             "#fb9f3a"
            ],
            [
             0.8888888888888888,
             "#fdca26"
            ],
            [
             1,
             "#f0f921"
            ]
           ],
           "sequentialminus": [
            [
             0,
             "#0d0887"
            ],
            [
             0.1111111111111111,
             "#46039f"
            ],
            [
             0.2222222222222222,
             "#7201a8"
            ],
            [
             0.3333333333333333,
             "#9c179e"
            ],
            [
             0.4444444444444444,
             "#bd3786"
            ],
            [
             0.5555555555555556,
             "#d8576b"
            ],
            [
             0.6666666666666666,
             "#ed7953"
            ],
            [
             0.7777777777777778,
             "#fb9f3a"
            ],
            [
             0.8888888888888888,
             "#fdca26"
            ],
            [
             1,
             "#f0f921"
            ]
           ]
          },
          "colorway": [
           "#636efa",
           "#EF553B",
           "#00cc96",
           "#ab63fa",
           "#FFA15A",
           "#19d3f3",
           "#FF6692",
           "#B6E880",
           "#FF97FF",
           "#FECB52"
          ],
          "font": {
           "color": "#2a3f5f"
          },
          "geo": {
           "bgcolor": "white",
           "lakecolor": "white",
           "landcolor": "#E5ECF6",
           "showlakes": true,
           "showland": true,
           "subunitcolor": "white"
          },
          "hoverlabel": {
           "align": "left"
          },
          "hovermode": "closest",
          "mapbox": {
           "style": "light"
          },
          "paper_bgcolor": "white",
          "plot_bgcolor": "#E5ECF6",
          "polar": {
           "angularaxis": {
            "gridcolor": "white",
            "linecolor": "white",
            "ticks": ""
           },
           "bgcolor": "#E5ECF6",
           "radialaxis": {
            "gridcolor": "white",
            "linecolor": "white",
            "ticks": ""
           }
          },
          "scene": {
           "xaxis": {
            "backgroundcolor": "#E5ECF6",
            "gridcolor": "white",
            "gridwidth": 2,
            "linecolor": "white",
            "showbackground": true,
            "ticks": "",
            "zerolinecolor": "white"
           },
           "yaxis": {
            "backgroundcolor": "#E5ECF6",
            "gridcolor": "white",
            "gridwidth": 2,
            "linecolor": "white",
            "showbackground": true,
            "ticks": "",
            "zerolinecolor": "white"
           },
           "zaxis": {
            "backgroundcolor": "#E5ECF6",
            "gridcolor": "white",
            "gridwidth": 2,
            "linecolor": "white",
            "showbackground": true,
            "ticks": "",
            "zerolinecolor": "white"
           }
          },
          "shapedefaults": {
           "line": {
            "color": "#2a3f5f"
           }
          },
          "ternary": {
           "aaxis": {
            "gridcolor": "white",
            "linecolor": "white",
            "ticks": ""
           },
           "baxis": {
            "gridcolor": "white",
            "linecolor": "white",
            "ticks": ""
           },
           "bgcolor": "#E5ECF6",
           "caxis": {
            "gridcolor": "white",
            "linecolor": "white",
            "ticks": ""
           }
          },
          "title": {
           "x": 0.05
          },
          "xaxis": {
           "automargin": true,
           "gridcolor": "white",
           "linecolor": "white",
           "ticks": "",
           "title": {
            "standoff": 15
           },
           "zerolinecolor": "white",
           "zerolinewidth": 2
          },
          "yaxis": {
           "automargin": true,
           "gridcolor": "white",
           "linecolor": "white",
           "ticks": "",
           "title": {
            "standoff": 15
           },
           "zerolinecolor": "white",
           "zerolinewidth": 2
          }
         }
        },
        "title": {
         "text": "Phụ thuộc giá vào loại hình căn hộ "
        },
        "xaxis": {
         "anchor": "y",
         "categoryarray": [
          "Penthouse",
          "Chung cư mini",
          "Duplex",
          "Chung cư",
          "Tập thể",
          "Officetel"
         ],
         "categoryorder": "array",
         "domain": [
          0,
          1
         ],
         "title": {
          "text": "Loại hình căn hộ"
         }
        },
        "yaxis": {
         "anchor": "x",
         "domain": [
          0,
          1
         ],
         "title": {
          "text": "Giá/m²"
         }
        }
       }
      }
     },
     "metadata": {},
     "output_type": "display_data"
    }
   ],
   "source": [
    "df_mean2 = df.groupby('Loại hình căn hộ')['Giá/m²'].mean().reset_index()\n",
    "\n",
    "df_mean_sort = df_mean2.sort_values(by='Giá/m²', ascending=False)\n",
    "\n",
    "top10 = df_mean_sort.head(10)\n",
    "\n",
    "fig = px.bar(top10, x='Loại hình căn hộ', y='Giá/m²', color='Loại hình căn hộ',\n",
    "             labels={'Loại hình căn hộ': 'Loại hình căn hộ', 'Giá/m²': 'Giá/m²'},\n",
    "             title='Phụ thuộc giá vào loại hình căn hộ ')\n",
    "fig.update_traces(texttemplate='%{y:.1f}', textposition='outside')\n",
    "fig.show()"
   ]
  },
  {
   "cell_type": "code",
   "execution_count": 19,
   "metadata": {},
   "outputs": [
    {
     "data": {
      "image/png": "[encoded data removed]",
      "text/plain": [
       "<Figure size 1000x600 with 1 Axes>"
      ]
     },
     "metadata": {},
     "output_type": "display_data"
    }
   ],
   "source": [
    "import seaborn as sns   \n",
    "\n",
    "# Lọc các loại hình căn hộ \"Chung cư mini\" và \"Chung cư\"\n",
    "df_filtered = df[df['Loại hình căn hộ'].isin(['Chung cư'])]\n",
    "\n",
    "# Vẽ biểu đồ phân bố cho từng loại hình căn hộ\n",
    "plt.figure(figsize=(10, 6))\n",
    "sns.histplot(data=df_filtered, x='Diện tích', hue='Loại hình căn hộ', kde=True, bins=30, palette='muted')\n",
    "\n",
    "# Thiết lập tiêu đề và nhãn cho các trục\n",
    "plt.title('Phân bố diện tích của Chung cư', fontsize=16)\n",
    "plt.xlabel('Diện tích căn hộ (m²)', fontsize=12)\n",
    "plt.ylabel('Tần suất', fontsize=12)\n",
    "\n",
    "# Hiển thị biểu đồ\n",
    "plt.show()"
   ]
  },
  {
   "cell_type": "code",
   "execution_count": 26,
   "metadata": {},
   "outputs": [
    {
     "data": {
      "application/vnd.plotly.v1+json": {
       "config": {
        "plotlyServerURL": "https://plot.ly"
       },
       "data": [
        {
         "alignmentgroup": "True",
         "hovertemplate": "Giấy tờ pháp lý=%{x}<br>Giá/m²=%{y}<extra></extra>",
         "legendgroup": "Hợp đồng đặt cọc",
         "marker": {
          "color": "#636efa",
          "pattern": {
           "shape": ""
          }
         },
         "name": "Hợp đồng đặt cọc",
         "offsetgroup": "Hợp đồng đặt cọc",
         "orientation": "v",
         "showlegend": true,
         "textposition": "outside",
         "texttemplate": "%{y:.1f}",
         "type": "bar",
         "x": [
          "Hợp đồng đặt cọc"
         ],
         "xaxis": "x",
         "y": [
          62.12428571428571
         ],
         "yaxis": "y"
        },
        {
         "alignmentgroup": "True",
         "hovertemplate": "Giấy tờ pháp lý=%{x}<br>Giá/m²=%{y}<extra></extra>",
         "legendgroup": "Sổ hồng riêng",
         "marker": {
          "color": "#EF553B",
          "pattern": {
           "shape": ""
          }
         },
         "name": "Sổ hồng riêng",
         "offsetgroup": "Sổ hồng riêng",
         "orientation": "v",
         "showlegend": true,
         "textposition": "outside",
         "texttemplate": "%{y:.1f}",
         "type": "bar",
         "x": [
          "Sổ hồng riêng"
         ],
         "xaxis": "x",
         "y": [
          58.57299806936709
         ],
         "yaxis": "y"
        },
        {
         "alignmentgroup": "True",
         "hovertemplate": "Giấy tờ pháp lý=%{x}<br>Giá/m²=%{y}<extra></extra>",
         "legendgroup": "Đang chờ sổ",
         "marker": {
          "color": "#00cc96",
          "pattern": {
           "shape": ""
          }
         },
         "name": "Đang chờ sổ",
         "offsetgroup": "Đang chờ sổ",
         "orientation": "v",
         "showlegend": true,
         "textposition": "outside",
         "texttemplate": "%{y:.1f}",
         "type": "bar",
         "x": [
          "Đang chờ sổ"
         ],
         "xaxis": "x",
         "y": [
          55.43829787234042
         ],
         "yaxis": "y"
        },
        {
         "alignmentgroup": "True",
         "hovertemplate": "Giấy tờ pháp lý=%{x}<br>Giá/m²=%{y}<extra></extra>",
         "legendgroup": "Hợp đồng mua bán",
         "marker": {
          "color": "#ab63fa",
          "pattern": {
           "shape": ""
          }
         },
         "name": "Hợp đồng mua bán",
         "offsetgroup": "Hợp đồng mua bán",
         "orientation": "v",
         "showlegend": true,
         "textposition": "outside",
         "texttemplate": "%{y:.1f}",
         "type": "bar",
         "x": [
          "Hợp đồng mua bán"
         ],
         "xaxis": "x",
         "y": [
          46.08135928634361
         ],
         "yaxis": "y"
        }
       ],
       "layout": {
        "barmode": "relative",
        "legend": {
         "title": {
          "text": "Giấy tờ pháp lý"
         },
         "tracegroupgap": 0
        },
        "template": {
         "data": {
          "bar": [
           {
            "error_x": {
             "color": "#2a3f5f"
            },
            "error_y": {
             "color": "#2a3f5f"
            },
            "marker": {
             "line": {
              "color": "#E5ECF6",
              "width": 0.5
             },
             "pattern": {
              "fillmode": "overlay",
              "size": 10,
              "solidity": 0.2
             }
            },
            "type": "bar"
           }
          ],
          "barpolar": [
           {
            "marker": {
             "line": {
              "color": "#E5ECF6",
              "width": 0.5
             },
             "pattern": {
              "fillmode": "overlay",
              "size": 10,
              "solidity": 0.2
             }
            },
            "type": "barpolar"
           }
          ],
          "carpet": [
           {
            "aaxis": {
             "endlinecolor": "#2a3f5f",
             "gridcolor": "white",
             "linecolor": "white",
             "minorgridcolor": "white",
             "startlinecolor": "#2a3f5f"
            },
            "baxis": {
             "endlinecolor": "#2a3f5f",
             "gridcolor": "white",
             "linecolor": "white",
             "minorgridcolor": "white",
             "startlinecolor": "#2a3f5f"
            },
            "type": "carpet"
           }
          ],
          "choropleth": [
           {
            "colorbar": {
             "outlinewidth": 0,
             "ticks": ""
            },
            "type": "choropleth"
           }
          ],
          "contour": [
           {
            "colorbar": {
             "outlinewidth": 0,
             "ticks": ""
            },
            "colorscale": [
             [
              0,
              "#0d0887"
             ],
             [
              0.1111111111111111,
              "#46039f"
             ],
             [
              0.2222222222222222,
              "#7201a8"
             ],
             [
              0.3333333333333333,
              "#9c179e"
             ],
             [
              0.4444444444444444,
              "#bd3786"
             ],
             [
              0.5555555555555556,
              "#d8576b"
             ],
             [
              0.6666666666666666,
              "#ed7953"
             ],
             [
              0.7777777777777778,
              "#fb9f3a"
             ],
             [
              0.8888888888888888,
              "#fdca26"
             ],
             [
              1,
              "#f0f921"
             ]
            ],
            "type": "contour"
           }
          ],
          "contourcarpet": [
           {
            "colorbar": {
             "outlinewidth": 0,
             "ticks": ""
            },
            "type": "contourcarpet"
           }
          ],
          "heatmap": [
           {
            "colorbar": {
             "outlinewidth": 0,
             "ticks": ""
            },
            "colorscale": [
             [
              0,
              "#0d0887"
             ],
             [
              0.1111111111111111,
              "#46039f"
             ],
             [
              0.2222222222222222,
              "#7201a8"
             ],
             [
              0.3333333333333333,
              "#9c179e"
             ],
             [
              0.4444444444444444,
              "#bd3786"
             ],
             [
              0.5555555555555556,
              "#d8576b"
             ],
             [
              0.6666666666666666,
              "#ed7953"
             ],
             [
              0.7777777777777778,
              "#fb9f3a"
             ],
             [
              0.8888888888888888,
              "#fdca26"
             ],
             [
              1,
              "#f0f921"
             ]
            ],
            "type": "heatmap"
           }
          ],
          "heatmapgl": [
           {
            "colorbar": {
             "outlinewidth": 0,
             "ticks": ""
            },
            "colorscale": [
             [
              0,
              "#0d0887"
             ],
             [
              0.1111111111111111,
              "#46039f"
             ],
             [
              0.2222222222222222,
              "#7201a8"
             ],
             [
              0.3333333333333333,
              "#9c179e"
             ],
             [
              0.4444444444444444,
              "#bd3786"
             ],
             [
              0.5555555555555556,
              "#d8576b"
             ],
             [
              0.6666666666666666,
              "#ed7953"
             ],
             [
              0.7777777777777778,
              "#fb9f3a"
             ],
             [
              0.8888888888888888,
              "#fdca26"
             ],
             [
              1,
              "#f0f921"
             ]
            ],
            "type": "heatmapgl"
           }
          ],
          "histogram": [
           {
            "marker": {
             "pattern": {
              "fillmode": "overlay",
              "size": 10,
              "solidity": 0.2
             }
            },
            "type": "histogram"
           }
          ],
          "histogram2d": [
           {
            "colorbar": {
             "outlinewidth": 0,
             "ticks": ""
            },
            "colorscale": [
             [
              0,
              "#0d0887"
             ],
             [
              0.1111111111111111,
              "#46039f"
             ],
             [
              0.2222222222222222,
              "#7201a8"
             ],
             [
              0.3333333333333333,
              "#9c179e"
             ],
             [
              0.4444444444444444,
              "#bd3786"
             ],
             [
              0.5555555555555556,
              "#d8576b"
             ],
             [
              0.6666666666666666,
              "#ed7953"
             ],
             [
              0.7777777777777778,
              "#fb9f3a"
             ],
             [
              0.8888888888888888,
              "#fdca26"
             ],
             [
              1,
              "#f0f921"
             ]
            ],
            "type": "histogram2d"
           }
          ],
          "histogram2dcontour": [
           {
            "colorbar": {
             "outlinewidth": 0,
             "ticks": ""
            },
            "colorscale": [
             [
              0,
              "#0d0887"
             ],
             [
              0.1111111111111111,
              "#46039f"
             ],
             [
              0.2222222222222222,
              "#7201a8"
             ],
             [
              0.3333333333333333,
              "#9c179e"
             ],
             [
              0.4444444444444444,
              "#bd3786"
             ],
             [
              0.5555555555555556,
              "#d8576b"
             ],
             [
              0.6666666666666666,
              "#ed7953"
             ],
             [
              0.7777777777777778,
              "#fb9f3a"
             ],
             [
              0.8888888888888888,
              "#fdca26"
             ],
             [
              1,
              "#f0f921"
             ]
            ],
            "type": "histogram2dcontour"
           }
          ],
          "mesh3d": [
           {
            "colorbar": {
             "outlinewidth": 0,
             "ticks": ""
            },
            "type": "mesh3d"
           }
          ],
          "parcoords": [
           {
            "line": {
             "colorbar": {
              "outlinewidth": 0,
              "ticks": ""
             }
            },
            "type": "parcoords"
           }
          ],
          "pie": [
           {
            "automargin": true,
            "type": "pie"
           }
          ],
          "scatter": [
           {
            "fillpattern": {
             "fillmode": "overlay",
             "size": 10,
             "solidity": 0.2
            },
            "type": "scatter"
           }
          ],
          "scatter3d": [
           {
            "line": {
             "colorbar": {
              "outlinewidth": 0,
              "ticks": ""
             }
            },
            "marker": {
             "colorbar": {
              "outlinewidth": 0,
              "ticks": ""
             }
            },
            "type": "scatter3d"
           }
          ],
          "scattercarpet": [
           {
            "marker": {
             "colorbar": {
              "outlinewidth": 0,
              "ticks": ""
             }
            },
            "type": "scattercarpet"
           }
          ],
          "scattergeo": [
           {
            "marker": {
             "colorbar": {
              "outlinewidth": 0,
              "ticks": ""
             }
            },
            "type": "scattergeo"
           }
          ],
          "scattergl": [
           {
            "marker": {
             "colorbar": {
              "outlinewidth": 0,
              "ticks": ""
             }
            },
            "type": "scattergl"
           }
          ],
          "scattermapbox": [
           {
            "marker": {
             "colorbar": {
              "outlinewidth": 0,
              "ticks": ""
             }
            },
            "type": "scattermapbox"
           }
          ],
          "scatterpolar": [
           {
            "marker": {
             "colorbar": {
              "outlinewidth": 0,
              "ticks": ""
             }
            },
            "type": "scatterpolar"
           }
          ],
          "scatterpolargl": [
           {
            "marker": {
             "colorbar": {
              "outlinewidth": 0,
              "ticks": ""
             }
            },
            "type": "scatterpolargl"
           }
          ],
          "scatterternary": [
           {
            "marker": {
             "colorbar": {
              "outlinewidth": 0,
              "ticks": ""
             }
            },
            "type": "scatterternary"
           }
          ],
          "surface": [
           {
            "colorbar": {
             "outlinewidth": 0,
             "ticks": ""
            },
            "colorscale": [
             [
              0,
              "#0d0887"
             ],
             [
              0.1111111111111111,
              "#46039f"
             ],
             [
              0.2222222222222222,
              "#7201a8"
             ],
             [
              0.3333333333333333,
              "#9c179e"
             ],
             [
              0.4444444444444444,
              "#bd3786"
             ],
             [
              0.5555555555555556,
              "#d8576b"
             ],
             [
              0.6666666666666666,
              "#ed7953"
             ],
             [
              0.7777777777777778,
              "#fb9f3a"
             ],
             [
              0.8888888888888888,
              "#fdca26"
             ],
             [
              1,
              "#f0f921"
             ]
            ],
            "type": "surface"
           }
          ],
          "table": [
           {
            "cells": {
             "fill": {
              "color": "#EBF0F8"
             },
             "line": {
              "color": "white"
             }
            },
            "header": {
             "fill": {
              "color": "#C8D4E3"
             },
             "line": {
              "color": "white"
             }
            },
            "type": "table"
           }
          ]
         },
         "layout": {
          "annotationdefaults": {
           "arrowcolor": "#2a3f5f",
           "arrowhead": 0,
           "arrowwidth": 1
          },
          "autotypenumbers": "strict",
          "coloraxis": {
           "colorbar": {
            "outlinewidth": 0,
            "ticks": ""
           }
          },
          "colorscale": {
           "diverging": [
            [
             0,
             "#8e0152"
            ],
            [
             0.1,
             "#c51b7d"
            ],
            [
             0.2,
             "#de77ae"
            ],
            [
             0.3,
             "#f1b6da"
            ],
            [
             0.4,
             "#fde0ef"
            ],
            [
             0.5,
             "#f7f7f7"
            ],
            [
             0.6,
             "#e6f5d0"
            ],
            [
             0.7,
             "#b8e186"
            ],
            [
             0.8,
             "#7fbc41"
            ],
            [
             0.9,
             "#4d9221"
            ],
            [
             1,
             "#276419"
            ]
           ],
           "sequential": [
            [
             0,
             "#0d0887"
            ],
            [
             0.1111111111111111,
             "#46039f"
            ],
            [
             0.2222222222222222,
             "#7201a8"
            ],
            [
             0.3333333333333333,
             "#9c179e"
            ],
            [
             0.4444444444444444,
             "#bd3786"
            ],
            [
             0.5555555555555556,
             "#d8576b"
            ],
            [
             0.6666666666666666,
             "#ed7953"
            ],
            [
             0.7777777777777778,
             "#fb9f3a"
            ],
            [
             0.8888888888888888,
             "#fdca26"
            ],
            [
             1,
             "#f0f921"
            ]
           ],
           "sequentialminus": [
            [
             0,
             "#0d0887"
            ],
            [
             0.1111111111111111,
             "#46039f"
            ],
            [
             0.2222222222222222,
             "#7201a8"
            ],
            [
             0.3333333333333333,
             "#9c179e"
            ],
            [
             0.4444444444444444,
             "#bd3786"
            ],
            [
             0.5555555555555556,
             "#d8576b"
            ],
            [
             0.6666666666666666,
             "#ed7953"
            ],
            [
             0.7777777777777778,
             "#fb9f3a"
            ],
            [
             0.8888888888888888,
             "#fdca26"
            ],
            [
             1,
             "#f0f921"
            ]
           ]
          },
          "colorway": [
           "#636efa",
           "#EF553B",
           "#00cc96",
           "#ab63fa",
           "#FFA15A",
           "#19d3f3",
           "#FF6692",
           "#B6E880",
           "#FF97FF",
           "#FECB52"
          ],
          "font": {
           "color": "#2a3f5f"
          },
          "geo": {
           "bgcolor": "white",
           "lakecolor": "white",
           "landcolor": "#E5ECF6",
           "showlakes": true,
           "showland": true,
           "subunitcolor": "white"
          },
          "hoverlabel": {
           "align": "left"
          },
          "hovermode": "closest",
          "mapbox": {
           "style": "light"
          },
          "paper_bgcolor": "white",
          "plot_bgcolor": "#E5ECF6",
          "polar": {
           "angularaxis": {
            "gridcolor": "white",
            "linecolor": "white",
            "ticks": ""
           },
           "bgcolor": "#E5ECF6",
           "radialaxis": {
            "gridcolor": "white",
            "linecolor": "white",
            "ticks": ""
           }
          },
          "scene": {
           "xaxis": {
            "backgroundcolor": "#E5ECF6",
            "gridcolor": "white",
            "gridwidth": 2,
            "linecolor": "white",
            "showbackground": true,
            "ticks": "",
            "zerolinecolor": "white"
           },
           "yaxis": {
            "backgroundcolor": "#E5ECF6",
            "gridcolor": "white",
            "gridwidth": 2,
            "linecolor": "white",
            "showbackground": true,
            "ticks": "",
            "zerolinecolor": "white"
           },
           "zaxis": {
            "backgroundcolor": "#E5ECF6",
            "gridcolor": "white",
            "gridwidth": 2,
            "linecolor": "white",
            "showbackground": true,
            "ticks": "",
            "zerolinecolor": "white"
           }
          },
          "shapedefaults": {
           "line": {
            "color": "#2a3f5f"
           }
          },
          "ternary": {
           "aaxis": {
            "gridcolor": "white",
            "linecolor": "white",
            "ticks": ""
           },
           "baxis": {
            "gridcolor": "white",
            "linecolor": "white",
            "ticks": ""
           },
           "bgcolor": "#E5ECF6",
           "caxis": {
            "gridcolor": "white",
            "linecolor": "white",
            "ticks": ""
           }
          },
          "title": {
           "x": 0.05
          },
          "xaxis": {
           "automargin": true,
           "gridcolor": "white",
           "linecolor": "white",
           "ticks": "",
           "title": {
            "standoff": 15
           },
           "zerolinecolor": "white",
           "zerolinewidth": 2
          },
          "yaxis": {
           "automargin": true,
           "gridcolor": "white",
           "linecolor": "white",
           "ticks": "",
           "title": {
            "standoff": 15
           },
           "zerolinecolor": "white",
           "zerolinewidth": 2
          }
         }
        },
        "title": {
         "text": "Phụ thuộc giá vào Giấy tờ pháp lý "
        },
        "xaxis": {
         "anchor": "y",
         "categoryarray": [
          "Hợp đồng đặt cọc",
          "Sổ hồng riêng",
          "Đang chờ sổ",
          "Hợp đồng mua bán"
         ],
         "categoryorder": "array",
         "domain": [
          0,
          1
         ],
         "title": {
          "text": "Giấy tờ pháp lý"
         }
        },
        "yaxis": {
         "anchor": "x",
         "domain": [
          0,
          1
         ],
         "title": {
          "text": "Giá/m²"
         }
        }
       }
      }
     },
     "metadata": {},
     "output_type": "display_data"
    }
   ],
   "source": [
    "df_mean2 = df.groupby('Giấy tờ pháp lý')['Giá/m²'].mean().reset_index()\n",
    "\n",
    "df_mean_sort = df_mean2.sort_values(by='Giá/m²', ascending=False)\n",
    "\n",
    "top10 = df_mean_sort.head(10)\n",
    "\n",
    "fig = px.bar(top10, x='Giấy tờ pháp lý', y='Giá/m²', color='Giấy tờ pháp lý',\n",
    "             labels={'Giấy tờ pháp lý': 'Giấy tờ pháp lý', 'Giá/m²': 'Giá/m²'},\n",
    "             title='Phụ thuộc giá vào Giấy tờ pháp lý ')\n",
    "fig.update_traces(texttemplate='%{y:.1f}', textposition='outside')\n",
    "fig.show()"
   ]
  },
  {
   "cell_type": "code",
   "execution_count": null,
   "metadata": {},
   "outputs": [],
   "source": []
  }
 ],
 "metadata": {
  "kernelspec": {
   "display_name": "Python 3",
   "language": "python",
   "name": "python3"
  },
  "language_info": {
   "codemirror_mode": {
    "name": "ipython",
    "version": 3
   },
   "file_extension": ".py",
   "mimetype": "text/x-python",
   "name": "python",
   "nbconvert_exporter": "python",
   "pygments_lexer": "ipython3",
   "version": "3.11.0"
  }
 },
 "nbformat": 4,
 "nbformat_minor": 2
}
